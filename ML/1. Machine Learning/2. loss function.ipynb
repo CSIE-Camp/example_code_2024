{
 "cells": [
  {
   "cell_type": "markdown",
   "metadata": {},
   "source": [
    "### **讀入資料**"
   ]
  },
  {
   "cell_type": "markdown",
   "metadata": {},
   "source": [
    "> 可以從第一個實作複製過來"
   ]
  },
  {
   "cell_type": "code",
   "execution_count": null,
   "metadata": {},
   "outputs": [],
   "source": [
    "import pandas as pd\n",
    "\n",
    "# TODO：貼上網址抓資料\n",
    "url = \".../chinese_science_score.csv\"\n",
    "data = pd.read_csv(url)"
   ]
  },
  {
   "cell_type": "markdown",
   "metadata": {},
   "source": [
    "### **計算 loss function**"
   ]
  },
  {
   "cell_type": "markdown",
   "metadata": {},
   "source": [
    "> 設定 x, y（上一個實作一樣有）"
   ]
  },
  {
   "cell_type": "code",
   "execution_count": null,
   "metadata": {},
   "outputs": [],
   "source": [
    "x = data['chinese']\n",
    "y = data['science']"
   ]
  },
  {
   "cell_type": "markdown",
   "metadata": {},
   "source": [
    "> 計算 (a, b) = (0, 0) 的 loss 值"
   ]
  },
  {
   "cell_type": "code",
   "execution_count": null,
   "metadata": {},
   "outputs": [],
   "source": [
    "a = 0\n",
    "b = 0\n",
    "\n",
    "y_pred = a*x + b\n",
    "# TODO：設定 loss function \n",
    "loss = ()\n",
    "\n",
    "# TODO：計算平均\n",
    "loss.sum()"
   ]
  },
  {
   "cell_type": "markdown",
   "metadata": {},
   "source": [
    "> 用 function 包起來"
   ]
  },
  {
   "cell_type": "code",
   "execution_count": null,
   "metadata": {},
   "outputs": [],
   "source": [
    "def compute_loss(x, y, a, b):\n",
    "    y_pred = a*x + b\n",
    "    loss = (y - y_pred)**2\n",
    "    loss = loss.sum() / len(x)\n",
    "\n",
    "    return loss"
   ]
  },
  {
   "cell_type": "markdown",
   "metadata": {},
   "source": [
    "> 測試 function"
   ]
  },
  {
   "cell_type": "code",
   "execution_count": null,
   "metadata": {},
   "outputs": [],
   "source": [
    "compute_loss(x, y, 0, 0)"
   ]
  },
  {
   "cell_type": "markdown",
   "metadata": {},
   "source": [
    "### **固定 b 值，觀察 loss**"
   ]
  },
  {
   "cell_type": "markdown",
   "metadata": {},
   "source": [
    "> a = [-100, 100], b = 0"
   ]
  },
  {
   "cell_type": "code",
   "execution_count": null,
   "metadata": {},
   "outputs": [],
   "source": [
    "loss_all = []\n",
    "\n",
    "for a in range(-100, 101):\n",
    "    loss = compute_loss(x, y, a, 0)\n",
    "    loss_all.append(loss)\n",
    "\n",
    "loss_all"
   ]
  },
  {
   "cell_type": "markdown",
   "metadata": {},
   "source": [
    "> 畫圖觀察結果"
   ]
  },
  {
   "cell_type": "code",
   "execution_count": null,
   "metadata": {},
   "outputs": [],
   "source": [
    "import matplotlib.pyplot as plt\n",
    "\n",
    "# TODO：將所有點連起來\n",
    "plt.scatter(range(-100, 101), loss_all)\n",
    "\n",
    "plt.title(\"loss function a=[-100, 100], b=0\")\n",
    "plt.xlabel(\"a\")\n",
    "plt.ylabel(\"loss\")\n",
    "\n",
    "plt.show()"
   ]
  },
  {
   "cell_type": "markdown",
   "metadata": {},
   "source": [
    "### **窮舉所有 a, b 值的 loss**"
   ]
  },
  {
   "cell_type": "markdown",
   "metadata": {},
   "source": [
    "> a = [-100, 100], b = [-100, 100]"
   ]
  },
  {
   "cell_type": "code",
   "execution_count": null,
   "metadata": {},
   "outputs": [],
   "source": [
    "import numpy as np\n",
    "\n",
    "a_all = np.arange(-100, 101)\n",
    "b_all = np.arange(-100, 101)\n",
    "loss_all = np.zeros((201, 201))\n",
    "\n",
    "i = 0\n",
    "for a in a_all:\n",
    "    j = 0\n",
    "    for b in b_all:\n",
    "        loss = compute_loss(x, y, a, b)\n",
    "        loss_all[  i, j  ] = loss\n",
    "\n",
    "        j = j+1\n",
    "    i = i+1"
   ]
  },
  {
   "cell_type": "markdown",
   "metadata": {},
   "source": [
    "> 觀察 a_all, b_all, loss_all"
   ]
  },
  {
   "cell_type": "code",
   "execution_count": null,
   "metadata": {},
   "outputs": [],
   "source": [
    "a_all"
   ]
  },
  {
   "cell_type": "markdown",
   "metadata": {},
   "source": [
    "> 目標\n",
    "> - 觀察 3D 圖片\n",
    "> - 畫出曲面圖（plot_surface）\n",
    "> - 網格化 a_all 和 b_all（meshgrid）https://wangyeming.github.io/2018/11/12/numpy-meshgrid/\n",
    "> - 把網格畫出來（plot_wireframe）\n",
    ">> **尋找最低的 loss 值在哪裡**"
   ]
  },
  {
   "cell_type": "markdown",
   "metadata": {},
   "source": [
    "> 可自行嘗試\n",
    "- 設定背景顏色\n",
    "- 增加中文字體\n",
    "- 設定資訊（標題，軸線名稱）\n",
    "- 查看視角的改變\n",
    "- 設定圖片大小（figure）"
   ]
  },
  {
   "cell_type": "code",
   "execution_count": null,
   "metadata": {},
   "outputs": [],
   "source": [
    "plt.figure(figsize=(6, 6)) # 圖片大小\n",
    "\n",
    "ax = plt.axes(projection = \"3d\")\n",
    "ax.view_init(20, -100) # 查看視角\n",
    "ax.xaxis.set_pane_color((1, 1, 1)) # 背景顏色\n",
    "ax.yaxis.set_pane_color((1, 1, 1))\n",
    "ax.zaxis.set_pane_color((1, 1, 1))\n",
    "\n",
    "b_grid, a_grid = np.meshgrid(b_all, a_all) # 網格化\n",
    "######   https://wangyeming.github.io/2018/11/12/numpy-meshgrid/\n",
    "ax.plot_surface(a_grid, b_grid, loss_all, cmap=\"Spectral_r\", alpha=0.8)\n",
    "ax.plot_wireframe(a_grid, b_grid, loss_all, color=\"black\", alpha=0.15)\n",
    "\n",
    "# 設定資訊\n",
    "ax.set_title(\"a b 對應的 loss\")\n",
    "ax.set_xlabel(\"a\")\n",
    "ax.set_ylabel(\"b\")\n",
    "ax.set_zlabel(\"loss\")\n",
    "\n",
    "# TODO：尋找 loss 最少的點\n",
    "a_index, b_index = np.where()\n",
    "\n",
    "\n",
    "plt.show()"
   ]
  },
  {
   "cell_type": "markdown",
   "metadata": {},
   "source": [
    "> 加上中文字體"
   ]
  },
  {
   "cell_type": "code",
   "execution_count": null,
   "metadata": {},
   "outputs": [],
   "source": [
    "from matplotlib.font_manager import fontManager\n",
    "import matplotlib as mlp\n",
    "fontManager.addfont(\"ChineseFont.ttf\")\n",
    "mlp.rc('font', family = \"ChineseFont\")"
   ]
  },
  {
   "cell_type": "markdown",
   "metadata": {},
   "source": [
    "> 測試得到的 a, b 它的 loss 值是多少？"
   ]
  },
  {
   "cell_type": "code",
   "execution_count": null,
   "metadata": {},
   "outputs": [],
   "source": [
    "compute_loss(x, y, a_all[a_index], b_all[b_index])"
   ]
  },
  {
   "cell_type": "markdown",
   "metadata": {},
   "source": [
    "## ``` 理科 = a_all[a_index] * 文科 + b_all[b_index] ```"
   ]
  }
 ],
 "metadata": {
  "kernelspec": {
   "display_name": "base",
   "language": "python",
   "name": "python3"
  },
  "language_info": {
   "codemirror_mode": {
    "name": "ipython",
    "version": 3
   },
   "file_extension": ".py",
   "mimetype": "text/x-python",
   "name": "python",
   "nbconvert_exporter": "python",
   "pygments_lexer": "ipython3",
   "version": "3.11.5"
  }
 },
 "nbformat": 4,
 "nbformat_minor": 2
}
