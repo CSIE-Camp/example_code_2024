{
 "cells": [
  {
   "cell_type": "markdown",
   "id": "04538559-925a-498b-9b63-84b66e9e5a9c",
   "metadata": {},
   "source": [
    "# Image Classification with Rock-Paper-Scissors Images\n",
    "> NTNU CSIE Camp 2024"
   ]
  },
  {
   "cell_type": "markdown",
   "id": "5cf9a2b1-2b89-42a4-9d04-a4dbef7cee74",
   "metadata": {
    "tags": []
   },
   "source": [
    "## Rock-Paper-Scissors Images\n",
    "> https://www.kaggle.com/datasets/drgfreeman/rockpaperscissors"
   ]
  },
  {
   "cell_type": "markdown",
   "id": "0ef72e2b-f3fa-4ad2-ad53-07516d847276",
   "metadata": {},
   "source": [
    "AUTHOR: Julien de la Bruère-Terreault (drgfreeman@tuta.io)\n",
    "\n",
    "LICENSE: CC-BY-SA 4.0\n",
    "\n",
    "DESCRIPTION: This dataset contains images of hand gestures from the Rock-Paper-Scissors game. The images were captured as part of a hobby project where I developped a Rock-Paper-Scissors game using computer vision and machine learning on the Raspberry Pi (https://github.com/DrGFreeman/rps-cv)\n",
    "\n",
    "CONTENTS: The dataset contains a total of 2188 images corresponding to the 'Rock' (726 images), 'Paper' (710 images) and 'Scissors' (752 images) hand gestures of the Rock-Paper-Scissors game. All image are taken on a green background with relatively consistent ligithing and white balance.\n",
    "\n",
    "FORMAT: All images are RGB images of 300 pixels wide by 200 pixels high in .png format. The images are separated in three sub-folders named 'rock', 'paper' and 'scissors' according to their respective class.\n",
    "\n",
    "<img src = \"./images/rps.png\" style=\"width: 600px;\">"
   ]
  },
  {
   "cell_type": "markdown",
   "id": "54836248-0272-4e04-9119-1ed8f8b09ed3",
   "metadata": {},
   "source": [
    "## 載入資料"
   ]
  },
  {
   "cell_type": "markdown",
   "id": "8e4025e3-09b2-4e5c-aa41-2d78a900bad0",
   "metadata": {},
   "source": [
    "> 這邊已經幫大家把原本彩色 60,000 px 的圖片資料轉換為「灰階、784 px」的一維陣列結構化數值資料（也就是跟 MNIST 實作時一樣的資料型態）"
   ]
  },
  {
   "cell_type": "markdown",
   "id": "c4e409dc-740e-43a2-9cfc-9418a2a8b5c7",
   "metadata": {},
   "source": [
    "我們要將資料集化分為 `x_train`、`y_train`、`x_valid` 和 `y_valid` 變數"
   ]
  },
  {
   "cell_type": "markdown",
   "id": "40cd0605-d4f5-4bc9-a233-b416a5fd6943",
   "metadata": {},
   "source": [
    "### 讀取資料"
   ]
  },
  {
   "cell_type": "markdown",
   "id": "d4fee0c4-3e91-4da9-b64a-ed432873f798",
   "metadata": {},
   "source": [
    "使用 Pandas 函式庫讀取 CSV file，透過 DataFrame 處理資料"
   ]
  },
  {
   "cell_type": "code",
   "execution_count": 1,
   "id": "db0a78d4-9445-4589-ac7c-c58ab98bbb4b",
   "metadata": {},
   "outputs": [],
   "source": [
    "import pandas as pd\n",
    "\n",
    "train_df = pd.read_csv(\"rps_data_train.csv\")\n",
    "valid_df = pd.read_csv(\"rps_data_valid.csv\")"
   ]
  },
  {
   "cell_type": "markdown",
   "id": "a68a942f-cfa5-4be4-9ce3-d7cf98d2ce75",
   "metadata": {},
   "source": [
    "### 探索資料"
   ]
  },
  {
   "cell_type": "code",
   "execution_count": 2,
   "id": "114dfda9-5ad4-44e2-9ba1-188f61c0fd11",
   "metadata": {},
   "outputs": [
    {
     "data": {
      "text/html": [
       "<div>\n",
       "<style scoped>\n",
       "    .dataframe tbody tr th:only-of-type {\n",
       "        vertical-align: middle;\n",
       "    }\n",
       "\n",
       "    .dataframe tbody tr th {\n",
       "        vertical-align: top;\n",
       "    }\n",
       "\n",
       "    .dataframe thead th {\n",
       "        text-align: right;\n",
       "    }\n",
       "</style>\n",
       "<table border=\"1\" class=\"dataframe\">\n",
       "  <thead>\n",
       "    <tr style=\"text-align: right;\">\n",
       "      <th></th>\n",
       "      <th>label</th>\n",
       "      <th>pixel1</th>\n",
       "      <th>pixel2</th>\n",
       "      <th>pixel3</th>\n",
       "      <th>pixel4</th>\n",
       "      <th>pixel5</th>\n",
       "      <th>pixel6</th>\n",
       "      <th>pixel7</th>\n",
       "      <th>pixel8</th>\n",
       "      <th>pixel9</th>\n",
       "      <th>...</th>\n",
       "      <th>pixel775</th>\n",
       "      <th>pixel776</th>\n",
       "      <th>pixel777</th>\n",
       "      <th>pixel778</th>\n",
       "      <th>pixel779</th>\n",
       "      <th>pixel780</th>\n",
       "      <th>pixel781</th>\n",
       "      <th>pixel782</th>\n",
       "      <th>pixel783</th>\n",
       "      <th>pixel784</th>\n",
       "    </tr>\n",
       "  </thead>\n",
       "  <tbody>\n",
       "    <tr>\n",
       "      <th>0</th>\n",
       "      <td>1</td>\n",
       "      <td>91</td>\n",
       "      <td>90</td>\n",
       "      <td>91</td>\n",
       "      <td>92</td>\n",
       "      <td>94</td>\n",
       "      <td>96</td>\n",
       "      <td>96</td>\n",
       "      <td>96</td>\n",
       "      <td>99</td>\n",
       "      <td>...</td>\n",
       "      <td>104</td>\n",
       "      <td>100</td>\n",
       "      <td>101</td>\n",
       "      <td>98</td>\n",
       "      <td>97</td>\n",
       "      <td>97</td>\n",
       "      <td>93</td>\n",
       "      <td>92</td>\n",
       "      <td>91</td>\n",
       "      <td>90</td>\n",
       "    </tr>\n",
       "    <tr>\n",
       "      <th>1</th>\n",
       "      <td>2</td>\n",
       "      <td>82</td>\n",
       "      <td>85</td>\n",
       "      <td>90</td>\n",
       "      <td>92</td>\n",
       "      <td>95</td>\n",
       "      <td>98</td>\n",
       "      <td>100</td>\n",
       "      <td>101</td>\n",
       "      <td>104</td>\n",
       "      <td>...</td>\n",
       "      <td>84</td>\n",
       "      <td>82</td>\n",
       "      <td>79</td>\n",
       "      <td>75</td>\n",
       "      <td>72</td>\n",
       "      <td>71</td>\n",
       "      <td>68</td>\n",
       "      <td>62</td>\n",
       "      <td>55</td>\n",
       "      <td>50</td>\n",
       "    </tr>\n",
       "    <tr>\n",
       "      <th>2</th>\n",
       "      <td>0</td>\n",
       "      <td>69</td>\n",
       "      <td>71</td>\n",
       "      <td>72</td>\n",
       "      <td>75</td>\n",
       "      <td>75</td>\n",
       "      <td>76</td>\n",
       "      <td>73</td>\n",
       "      <td>74</td>\n",
       "      <td>75</td>\n",
       "      <td>...</td>\n",
       "      <td>112</td>\n",
       "      <td>70</td>\n",
       "      <td>60</td>\n",
       "      <td>58</td>\n",
       "      <td>57</td>\n",
       "      <td>57</td>\n",
       "      <td>55</td>\n",
       "      <td>54</td>\n",
       "      <td>55</td>\n",
       "      <td>55</td>\n",
       "    </tr>\n",
       "    <tr>\n",
       "      <th>3</th>\n",
       "      <td>0</td>\n",
       "      <td>99</td>\n",
       "      <td>99</td>\n",
       "      <td>101</td>\n",
       "      <td>103</td>\n",
       "      <td>105</td>\n",
       "      <td>107</td>\n",
       "      <td>108</td>\n",
       "      <td>110</td>\n",
       "      <td>112</td>\n",
       "      <td>...</td>\n",
       "      <td>117</td>\n",
       "      <td>114</td>\n",
       "      <td>114</td>\n",
       "      <td>113</td>\n",
       "      <td>114</td>\n",
       "      <td>114</td>\n",
       "      <td>110</td>\n",
       "      <td>113</td>\n",
       "      <td>113</td>\n",
       "      <td>112</td>\n",
       "    </tr>\n",
       "    <tr>\n",
       "      <th>4</th>\n",
       "      <td>0</td>\n",
       "      <td>91</td>\n",
       "      <td>92</td>\n",
       "      <td>93</td>\n",
       "      <td>96</td>\n",
       "      <td>99</td>\n",
       "      <td>101</td>\n",
       "      <td>100</td>\n",
       "      <td>102</td>\n",
       "      <td>105</td>\n",
       "      <td>...</td>\n",
       "      <td>132</td>\n",
       "      <td>80</td>\n",
       "      <td>66</td>\n",
       "      <td>76</td>\n",
       "      <td>81</td>\n",
       "      <td>90</td>\n",
       "      <td>97</td>\n",
       "      <td>97</td>\n",
       "      <td>97</td>\n",
       "      <td>94</td>\n",
       "    </tr>\n",
       "  </tbody>\n",
       "</table>\n",
       "<p>5 rows × 785 columns</p>\n",
       "</div>"
      ],
      "text/plain": [
       "   label  pixel1  pixel2  pixel3  pixel4  pixel5  pixel6  pixel7  pixel8  \\\n",
       "0      1      91      90      91      92      94      96      96      96   \n",
       "1      2      82      85      90      92      95      98     100     101   \n",
       "2      0      69      71      72      75      75      76      73      74   \n",
       "3      0      99      99     101     103     105     107     108     110   \n",
       "4      0      91      92      93      96      99     101     100     102   \n",
       "\n",
       "   pixel9  ...  pixel775  pixel776  pixel777  pixel778  pixel779  pixel780  \\\n",
       "0      99  ...       104       100       101        98        97        97   \n",
       "1     104  ...        84        82        79        75        72        71   \n",
       "2      75  ...       112        70        60        58        57        57   \n",
       "3     112  ...       117       114       114       113       114       114   \n",
       "4     105  ...       132        80        66        76        81        90   \n",
       "\n",
       "   pixel781  pixel782  pixel783  pixel784  \n",
       "0        93        92        91        90  \n",
       "1        68        62        55        50  \n",
       "2        55        54        55        55  \n",
       "3       110       113       113       112  \n",
       "4        97        97        97        94  \n",
       "\n",
       "[5 rows x 785 columns]"
      ]
     },
     "execution_count": 2,
     "metadata": {},
     "output_type": "execute_result"
    }
   ],
   "source": [
    "train_df.head()"
   ]
  },
  {
   "cell_type": "markdown",
   "id": "f814737f-2087-4250-9bda-cd1a370d9418",
   "metadata": {},
   "source": [
    "### 擷取影像 label"
   ]
  },
  {
   "cell_type": "code",
   "execution_count": 3,
   "id": "21d64f91-94b0-487b-9196-4fe72e8fc2b1",
   "metadata": {},
   "outputs": [],
   "source": [
    "y_train = train_df['label']\n",
    "y_valid = valid_df['label']\n",
    "del train_df['label']\n",
    "del valid_df['label']"
   ]
  },
  {
   "cell_type": "markdown",
   "id": "233b39a7-415e-49bb-a195-f54610bbac48",
   "metadata": {},
   "source": [
    "### 擷取影像資料"
   ]
  },
  {
   "cell_type": "code",
   "execution_count": 4,
   "id": "02588249-4742-40db-a926-ee243dec6442",
   "metadata": {},
   "outputs": [],
   "source": [
    "x_train = train_df.values # 取出數值 \n",
    "x_valid = valid_df.values # 取出數值"
   ]
  },
  {
   "cell_type": "markdown",
   "id": "9c61e9a4",
   "metadata": {},
   "source": [
    "### 總結訓練與驗證資料"
   ]
  },
  {
   "cell_type": "code",
   "execution_count": 5,
   "id": "f59de77d-6853-4d10-80c3-95b02dab1ae5",
   "metadata": {},
   "outputs": [
    {
     "data": {
      "text/plain": [
       "(1749, 784)"
      ]
     },
     "execution_count": 5,
     "metadata": {},
     "output_type": "execute_result"
    }
   ],
   "source": [
    "x_train.shape"
   ]
  },
  {
   "cell_type": "code",
   "execution_count": 6,
   "id": "69a2fed7-8dee-4f09-bfd8-e0e8421c2b17",
   "metadata": {},
   "outputs": [
    {
     "data": {
      "text/plain": [
       "(1749,)"
      ]
     },
     "execution_count": 6,
     "metadata": {},
     "output_type": "execute_result"
    }
   ],
   "source": [
    "# TODO：查看訓練用的 label 資料尺寸\n",
    "y_train.shape"
   ]
  },
  {
   "cell_type": "code",
   "execution_count": 7,
   "id": "df8551ac-8e6a-44f6-99d8-a795efed77fc",
   "metadata": {},
   "outputs": [
    {
     "data": {
      "text/plain": [
       "(439, 784)"
      ]
     },
     "execution_count": 7,
     "metadata": {},
     "output_type": "execute_result"
    }
   ],
   "source": [
    "# TODO：查看評估用的圖像資料尺寸\n",
    "x_valid.shape"
   ]
  },
  {
   "cell_type": "code",
   "execution_count": 8,
   "id": "3e647297-b37c-4804-ab0b-035682c25bd1",
   "metadata": {},
   "outputs": [
    {
     "data": {
      "text/plain": [
       "(439,)"
      ]
     },
     "execution_count": 8,
     "metadata": {},
     "output_type": "execute_result"
    }
   ],
   "source": [
    "y_valid.shape"
   ]
  },
  {
   "cell_type": "markdown",
   "id": "08ed6a96-535d-4ede-9111-dc83c3dd1944",
   "metadata": {},
   "source": [
    "### 視覺化資料"
   ]
  },
  {
   "cell_type": "markdown",
   "id": "b5d4857d-b204-4907-8458-f946a29f1958",
   "metadata": {},
   "source": [
    "把資料（image）1D to 2D"
   ]
  },
  {
   "cell_type": "code",
   "execution_count": 9,
   "id": "81affcfa-f0a2-411e-b660-651e4c3af51b",
   "metadata": {},
   "outputs": [
    {
     "data": {
      "image/png": "[encoded data removed]",
      "text/plain": [
       "<Figure size 2880x2880 with 20 Axes>"
      ]
     },
     "metadata": {
      "needs_background": "light"
     },
     "output_type": "display_data"
    }
   ],
   "source": [
    "import matplotlib.pyplot as plt\n",
    "plt.figure(figsize=(40,40))\n",
    "\n",
    "num_images = 20\n",
    "for i in range(num_images):\n",
    "    row = x_train[i]\n",
    "    label = y_train[i]\n",
    "    \n",
    "    image = row.reshape(28,28)\n",
    "    plt.subplot(1, num_images, i+1)\n",
    "    plt.title(label, fontdict={'fontsize': 30})\n",
    "    plt.axis('off')\n",
    "    plt.imshow(image, cmap='gray')"
   ]
  },
  {
   "cell_type": "markdown",
   "id": "9df3671f",
   "metadata": {},
   "source": [
    "## 資料前處理"
   ]
  },
  {
   "cell_type": "markdown",
   "id": "fc241772-6a77-435c-b8e3-fadf2fee330e",
   "metadata": {},
   "source": [
    "### 正規化影像資料"
   ]
  },
  {
   "cell_type": "code",
   "execution_count": 10,
   "id": "5ef7d75b-01aa-4a49-a0b5-3b51eb3e88d9",
   "metadata": {},
   "outputs": [
    {
     "data": {
      "text/plain": [
       "2"
      ]
     },
     "execution_count": 10,
     "metadata": {},
     "output_type": "execute_result"
    }
   ],
   "source": [
    "# TODO：x_train 當中的最小值\n",
    "x_train.min()"
   ]
  },
  {
   "cell_type": "code",
   "execution_count": 11,
   "id": "d298f011-d42c-4b23-8cf6-f7b8e82399ba",
   "metadata": {},
   "outputs": [
    {
     "data": {
      "text/plain": [
       "251"
      ]
     },
     "execution_count": 11,
     "metadata": {},
     "output_type": "execute_result"
    }
   ],
   "source": [
    "# TODO：x_train 當中的最大值\n",
    "x_train.max()"
   ]
  },
  {
   "cell_type": "code",
   "execution_count": 12,
   "id": "2323fa4d-28e0-4c71-ab8b-47f5c8dcfdb5",
   "metadata": {},
   "outputs": [],
   "source": [
    "# TODO: Normalize x_train and x_valid.\n",
    "x_train_normalize = x_train / 255\n",
    "x_valid_normalize = x_valid / 255"
   ]
  },
  {
   "cell_type": "markdown",
   "id": "b48e5a68-4100-4029-ae97-fa74006939f2",
   "metadata": {},
   "source": [
    "### 影像分類"
   ]
  },
  {
   "cell_type": "code",
   "execution_count": 13,
   "id": "ab181c64-04f8-45af-9a50-6673d66ed21b",
   "metadata": {
    "tags": []
   },
   "outputs": [],
   "source": [
    "# TODO：有幾個類別呢\n",
    "import tensorflow.keras as keras\n",
    "num_classes = 3"
   ]
  },
  {
   "cell_type": "code",
   "execution_count": 15,
   "id": "5b5ea8be-74ab-4114-b03d-1e9dd1568518",
   "metadata": {},
   "outputs": [],
   "source": [
    "# TODO: Categorically encode y_train and y_valid.\n",
    "y_train_class = keras.utils.to_categorical(y_train, num_classes)\n",
    "y_valid_class = keras.utils.to_categorical(y_valid, num_classes)"
   ]
  },
  {
   "cell_type": "markdown",
   "id": "f3b66f3c",
   "metadata": {},
   "source": [
    "## 模型"
   ]
  },
  {
   "cell_type": "markdown",
   "id": "3cf37235-8ced-4c48-a0e3-14b38e54a64b",
   "metadata": {},
   "source": [
    "### 建立模型"
   ]
  },
  {
   "cell_type": "markdown",
   "id": "f50bf64b-a287-4446-9256-ed994559aeb5",
   "metadata": {},
   "source": [
    "We need...\n",
    "* 具有密集輸入層。這一層包含 512 個神經元，使用 `relu` 激活函數，並接收形狀為 `(784,)` 的輸入影像。\n",
    "* 具有第二個密集輸入層，含有 512 個使用 `relu` 激活函數的神經元\n",
    "* 具有密集輸出層，其神經元的數量與類別數量相等，並使用 `softmax` 激活函數\n",
    "\n",
    "還不熟悉，參考一下 MNIST 的範例吧～<br>\n",
    "**建議可以多嘗試不同的層數！**"
   ]
  },
  {
   "cell_type": "code",
   "execution_count": 99,
   "id": "7bec834c-edbf-4053-8a92-3c8fcc925efa",
   "metadata": {},
   "outputs": [],
   "source": [
    "from tensorflow.keras.models import Sequential\n",
    "from tensorflow.keras.layers import Dense\n",
    "import tensorflow as tf"
   ]
  },
  {
   "cell_type": "code",
   "execution_count": 112,
   "id": "4ea91cb9-68bf-4f96-8138-aeb2879c991f",
   "metadata": {},
   "outputs": [],
   "source": [
    "# TODO: 建立模型中的 layers.\n",
    "model = Sequential()\n",
    "model.add(Dense(units = 512, activation='relu', input_shape=(784,)))\n",
    "model.add(Dense(units = 512, activation='relu'))\n",
    "model.add(Dense(units = 512, activation='relu'))\n",
    "model.add(Dense(units = num_classes, activation='softmax'))"
   ]
  },
  {
   "cell_type": "markdown",
   "id": "d0f08022-8c17-4cfe-9a30-8efe26f0cdd6",
   "metadata": {},
   "source": [
    "### 總結模型"
   ]
  },
  {
   "cell_type": "code",
   "execution_count": 113,
   "id": "a595bcb2-749e-4eda-adbd-5a6a680a89f8",
   "metadata": {},
   "outputs": [
    {
     "name": "stdout",
     "output_type": "stream",
     "text": [
      "Model: \"sequential_10\"\n",
      "_________________________________________________________________\n",
      " Layer (type)                Output Shape              Param #   \n",
      "=================================================================\n",
      " dense_41 (Dense)            (None, 512)               401920    \n",
      "                                                                 \n",
      " dense_42 (Dense)            (None, 512)               262656    \n",
      "                                                                 \n",
      " dense_43 (Dense)            (None, 512)               262656    \n",
      "                                                                 \n",
      " dense_44 (Dense)            (None, 3)                 1539      \n",
      "                                                                 \n",
      "=================================================================\n",
      "Total params: 928,771\n",
      "Trainable params: 928,771\n",
      "Non-trainable params: 0\n",
      "_________________________________________________________________\n"
     ]
    }
   ],
   "source": [
    "model.summary()"
   ]
  },
  {
   "cell_type": "markdown",
   "id": "9f6152e2-0bd3-4a8b-87bf-4694a6d3eefa",
   "metadata": {},
   "source": [
    "### 編寫模型"
   ]
  },
  {
   "cell_type": "markdown",
   "id": "7abf7fb3-52a3-4555-956d-0bd6a909d6f1",
   "metadata": {},
   "source": [
    "使用 [CategoricalCrossentropy](https://www.tensorflow.org/api_docs/python/tf/keras/losses/CategoricalCrossentropy)"
   ]
  },
  {
   "cell_type": "code",
   "execution_count": 114,
   "id": "295a8632-a6d1-4545-8322-979903541fe1",
   "metadata": {},
   "outputs": [],
   "source": [
    "optimizer = tf.keras.optimizers.Adam(learning_rate=0.001)  # Set learning rate\n",
    "model.compile(loss='categorical_crossentropy', optimizer=optimizer, metrics=['accuracy'])"
   ]
  },
  {
   "cell_type": "markdown",
   "id": "1e233c51-f8cb-4cfa-b24f-2588a60b87fe",
   "metadata": {},
   "source": [
    "### 訓練模型"
   ]
  },
  {
   "cell_type": "markdown",
   "id": "587b1ac0-cdbf-4d64-9969-8409e231526e",
   "metadata": {},
   "source": [
    "使用模型的 `fit`方法來對模型進行訓練，使用的是先前建立的訓練與驗證影像和類別："
   ]
  },
  {
   "cell_type": "code",
   "execution_count": 115,
   "id": "6f43d01a-4904-4909-93de-c35e69901f19",
   "metadata": {},
   "outputs": [
    {
     "name": "stdout",
     "output_type": "stream",
     "text": [
      "Epoch 1/20\n",
      "219/219 [==============================] - 3s 12ms/step - loss: 1.1150 - accuracy: 0.3671 - val_loss: 1.0829 - val_accuracy: 0.4191\n",
      "Epoch 2/20\n",
      "219/219 [==============================] - 2s 11ms/step - loss: 1.0452 - accuracy: 0.4603 - val_loss: 0.9584 - val_accuracy: 0.5877\n",
      "Epoch 3/20\n",
      "219/219 [==============================] - 2s 11ms/step - loss: 0.9650 - accuracy: 0.5512 - val_loss: 0.8178 - val_accuracy: 0.6788\n",
      "Epoch 4/20\n",
      "219/219 [==============================] - 2s 11ms/step - loss: 0.9387 - accuracy: 0.5718 - val_loss: 0.8202 - val_accuracy: 0.6651\n",
      "Epoch 5/20\n",
      "219/219 [==============================] - 2s 11ms/step - loss: 0.8751 - accuracy: 0.6158 - val_loss: 0.7804 - val_accuracy: 0.6765\n",
      "Epoch 6/20\n",
      "219/219 [==============================] - 2s 11ms/step - loss: 0.8470 - accuracy: 0.6221 - val_loss: 0.8824 - val_accuracy: 0.5900\n",
      "Epoch 7/20\n",
      "219/219 [==============================] - 2s 11ms/step - loss: 0.8206 - accuracy: 0.6427 - val_loss: 0.8159 - val_accuracy: 0.6310\n",
      "Epoch 8/20\n",
      "219/219 [==============================] - 2s 11ms/step - loss: 0.7687 - accuracy: 0.6598 - val_loss: 0.7445 - val_accuracy: 0.7130\n",
      "Epoch 9/20\n",
      "219/219 [==============================] - 2s 10ms/step - loss: 0.7449 - accuracy: 0.6667 - val_loss: 0.7948 - val_accuracy: 0.6879\n",
      "Epoch 10/20\n",
      "219/219 [==============================] - 2s 11ms/step - loss: 0.6876 - accuracy: 0.6930 - val_loss: 0.7311 - val_accuracy: 0.6720\n",
      "Epoch 11/20\n",
      "219/219 [==============================] - 2s 10ms/step - loss: 0.6718 - accuracy: 0.6844 - val_loss: 0.5713 - val_accuracy: 0.7380\n",
      "Epoch 12/20\n",
      "219/219 [==============================] - 2s 11ms/step - loss: 0.6189 - accuracy: 0.7284 - val_loss: 0.5168 - val_accuracy: 0.7722\n",
      "Epoch 13/20\n",
      "219/219 [==============================] - 2s 11ms/step - loss: 0.5853 - accuracy: 0.7519 - val_loss: 0.5121 - val_accuracy: 0.7904\n",
      "Epoch 14/20\n",
      "219/219 [==============================] - 2s 11ms/step - loss: 0.5238 - accuracy: 0.7799 - val_loss: 0.7327 - val_accuracy: 0.6948\n",
      "Epoch 15/20\n",
      "219/219 [==============================] - 2s 11ms/step - loss: 0.5239 - accuracy: 0.7776 - val_loss: 0.4280 - val_accuracy: 0.8200\n",
      "Epoch 16/20\n",
      "219/219 [==============================] - 2s 11ms/step - loss: 0.5043 - accuracy: 0.8045 - val_loss: 0.7168 - val_accuracy: 0.7039\n",
      "Epoch 17/20\n",
      "219/219 [==============================] - 2s 11ms/step - loss: 0.4563 - accuracy: 0.8182 - val_loss: 0.4239 - val_accuracy: 0.8292\n",
      "Epoch 18/20\n",
      "219/219 [==============================] - 2s 11ms/step - loss: 0.4703 - accuracy: 0.8090 - val_loss: 0.4479 - val_accuracy: 0.8223\n",
      "Epoch 19/20\n",
      "219/219 [==============================] - 2s 11ms/step - loss: 0.4313 - accuracy: 0.8228 - val_loss: 0.4602 - val_accuracy: 0.8405\n",
      "Epoch 20/20\n",
      "219/219 [==============================] - 2s 11ms/step - loss: 0.4246 - accuracy: 0.8279 - val_loss: 0.3797 - val_accuracy: 0.8451\n"
     ]
    }
   ],
   "source": [
    "# TODO: Train the model.\n",
    "history = model.fit(x_train_normalize, \n",
    "                    y_train_class, \n",
    "                    validation_split=1, \n",
    "                    epochs=20, \n",
    "                    verbose=1, \n",
    "                    batch_size=8, \n",
    "                    validation_data=(x_valid_normalize, y_valid_class))"
   ]
  },
  {
   "cell_type": "markdown",
   "id": "6120dfe8",
   "metadata": {},
   "source": [
    "Model Loss Plot"
   ]
  },
  {
   "cell_type": "code",
   "execution_count": 116,
   "id": "74fa055e",
   "metadata": {},
   "outputs": [
    {
     "data": {
      "image/png": "[encoded data removed]",
      "text/plain": [
       "<Figure size 432x288 with 1 Axes>"
      ]
     },
     "metadata": {
      "needs_background": "light"
     },
     "output_type": "display_data"
    }
   ],
   "source": [
    "# TODO：繪製圖表觀察每個 epoch 對應的 model loss\n",
    "plt.plot(history.history['loss'])\n",
    "plt.plot(history.history['val_loss'])\n",
    "plt.title('model loss')\n",
    "plt.ylabel('loss')\n",
    "plt.xlabel('epoch')\n",
    "plt.legend(['train', 'val'], loc='upper left')\n",
    "plt.show()"
   ]
  },
  {
   "cell_type": "markdown",
   "id": "ffd9ba95",
   "metadata": {},
   "source": [
    "Model Accuracy Plot"
   ]
  },
  {
   "cell_type": "code",
   "execution_count": 117,
   "id": "34a7e4e5",
   "metadata": {},
   "outputs": [
    {
     "data": {
      "image/png": "[encoded data removed]",
      "text/plain": [
       "<Figure size 432x288 with 1 Axes>"
      ]
     },
     "metadata": {
      "needs_background": "light"
     },
     "output_type": "display_data"
    }
   ],
   "source": [
    "# TODO：繪製圖表觀察每個 epoch 對應的 model accuracy\n",
    "plt.plot(history.history['accuracy'])\n",
    "plt.plot(history.history['val_accuracy'])\n",
    "plt.title('model accuracy')\n",
    "plt.ylabel('accuracy')\n",
    "plt.xlabel('epoch')\n",
    "plt.legend(['train', 'val'], loc='upper left')\n",
    "plt.show()"
   ]
  },
  {
   "cell_type": "markdown",
   "id": "f064113a",
   "metadata": {},
   "source": [
    "Confusion Matrix"
   ]
  },
  {
   "cell_type": "code",
   "execution_count": 118,
   "id": "cfc3fed6",
   "metadata": {},
   "outputs": [
    {
     "name": "stdout",
     "output_type": "stream",
     "text": [
      "14/14 [==============================] - 0s 2ms/step\n"
     ]
    },
    {
     "data": {
      "image/png": "[encoded data removed]",
      "text/plain": [
       "<Figure size 720x576 with 2 Axes>"
      ]
     },
     "metadata": {
      "needs_background": "light"
     },
     "output_type": "display_data"
    }
   ],
   "source": [
    "# TODO：繪製 Confusion Matrix 觀察模型在各個類別的預測表現\n",
    "import numpy as np\n",
    "import matplotlib.pyplot as plt\n",
    "from sklearn.metrics import confusion_matrix\n",
    "import seaborn as sns\n",
    "\n",
    "y_pred = model.predict(x_valid_normalize)\n",
    "y_pred_classes = np.argmax(y_pred, axis=1)\n",
    "y_true_classes = np.argmax(y_valid_class, axis=1)\n",
    "\n",
    "conf_matrix = confusion_matrix(y_true_classes, y_pred_classes)\n",
    "\n",
    "class_labels = ['rock', 'paper', 'scissors']\n",
    "\n",
    "plt.figure(figsize=(10, 8))\n",
    "sns.heatmap(conf_matrix, annot=True, fmt=\"d\", cmap=\"Blues\", xticklabels=class_labels, yticklabels=class_labels)\n",
    "plt.xlabel(\"Predicted Label\")\n",
    "plt.ylabel(\"True Label\")\n",
    "plt.title(\"Confusion Matrix\")\n",
    "plt.show()"
   ]
  },
  {
   "cell_type": "markdown",
   "id": "dec560ad",
   "metadata": {},
   "source": [
    "### 你可能會遇到的問題？（沒遇到也可以閱讀一下這篇文章）\n",
    "https://ithelp.ithome.com.tw/m/articles/10203371"
   ]
  },
  {
   "cell_type": "markdown",
   "id": "27533ff7",
   "metadata": {},
   "source": [
    "## 使用模型"
   ]
  },
  {
   "cell_type": "markdown",
   "id": "3e442592",
   "metadata": {},
   "source": [
    "### 儲存模型"
   ]
  },
  {
   "cell_type": "code",
   "execution_count": 120,
   "id": "5aa18d54",
   "metadata": {},
   "outputs": [],
   "source": [
    "# TODO\n",
    "model.save(\"model/rps-ans.h5\")"
   ]
  },
  {
   "cell_type": "markdown",
   "id": "2796f6c0",
   "metadata": {},
   "source": [
    "### 載入模型"
   ]
  },
  {
   "cell_type": "code",
   "execution_count": 121,
   "id": "fbf173f0",
   "metadata": {},
   "outputs": [
    {
     "name": "stdout",
     "output_type": "stream",
     "text": [
      "Model: \"sequential_10\"\n",
      "_________________________________________________________________\n",
      " Layer (type)                Output Shape              Param #   \n",
      "=================================================================\n",
      " dense_41 (Dense)            (None, 512)               401920    \n",
      "                                                                 \n",
      " dense_42 (Dense)            (None, 512)               262656    \n",
      "                                                                 \n",
      " dense_43 (Dense)            (None, 512)               262656    \n",
      "                                                                 \n",
      " dense_44 (Dense)            (None, 3)                 1539      \n",
      "                                                                 \n",
      "=================================================================\n",
      "Total params: 928,771\n",
      "Trainable params: 928,771\n",
      "Non-trainable params: 0\n",
      "_________________________________________________________________\n"
     ]
    }
   ],
   "source": [
    "# TODO\n",
    "model_load = keras.models.load_model(\"model/rps-ans.h5\")\n",
    "model_load.summary()"
   ]
  },
  {
   "cell_type": "markdown",
   "id": "ffed72bf",
   "metadata": {},
   "source": [
    "### 預測圖像\n",
    "先拿資料集當中的圖片來試試"
   ]
  },
  {
   "cell_type": "markdown",
   "id": "92c3b237",
   "metadata": {},
   "source": [
    "查看圖像"
   ]
  },
  {
   "cell_type": "code",
   "execution_count": 122,
   "id": "6a02e3a2",
   "metadata": {},
   "outputs": [
    {
     "data": {
      "text/plain": [
       "<matplotlib.image.AxesImage at 0x230f8364820>"
      ]
     },
     "execution_count": 122,
     "metadata": {},
     "output_type": "execute_result"
    },
    {
     "data": {
      "image/png": "[encoded data removed]",
      "text/plain": [
       "<Figure size 432x288 with 1 Axes>"
      ]
     },
     "metadata": {
      "needs_background": "light"
     },
     "output_type": "display_data"
    }
   ],
   "source": [
    "import matplotlib.pyplot as plt\n",
    "\n",
    "row = x_valid[32]\n",
    "label = y_valid[32]\n",
    "\n",
    "# TODO \n",
    "def label_to_rps(num):\n",
    "    mapping = {\n",
    "        0: 'rock', 1: 'paper', 2: 'scissors'\n",
    "    }\n",
    "    return mapping.get(num, 'Invalid number')\n",
    "###\n",
    "\n",
    "image = row.reshape(28,28)\n",
    "plt.title(label_to_rps(label), fontdict={'fontsize': 30})\n",
    "plt.axis('off')\n",
    "plt.imshow(image, cmap='gray')"
   ]
  },
  {
   "cell_type": "markdown",
   "id": "41812f6e",
   "metadata": {},
   "source": [
    "查看圖像的資料型態"
   ]
  },
  {
   "cell_type": "code",
   "execution_count": 123,
   "id": "c8da1acd",
   "metadata": {},
   "outputs": [
    {
     "name": "stdout",
     "output_type": "stream",
     "text": [
      "這張圖片的資料尺寸：(784,)\n",
      "這張圖片的資料型態：int64\n"
     ]
    }
   ],
   "source": [
    "predict_img_origin = x_valid[32]\n",
    "print(f\"這張圖片的資料尺寸：{predict_img_origin.shape}\") # TODO\n",
    "print(f\"這張圖片的資料型態：{predict_img_origin.dtype}\") # TODO"
   ]
  },
  {
   "cell_type": "markdown",
   "id": "20807f97",
   "metadata": {},
   "source": [
    "圖像資料前處理"
   ]
  },
  {
   "cell_type": "code",
   "execution_count": 124,
   "id": "333e51ef",
   "metadata": {},
   "outputs": [
    {
     "data": {
      "text/plain": [
       "array([[0.40784314, 0.4117647 , 0.41960785, 0.44313726, 0.44705883,\n",
       "        0.45490196, 0.46666667, 0.4627451 , 0.4745098 , 0.47058824,\n",
       "        0.47843137, 0.47843137, 0.47843137, 0.49411765, 0.4862745 ,\n",
       "        0.49411765, 0.49411765, 0.49019608, 0.49019608, 0.4862745 ,\n",
       "        0.47843137, 0.4862745 , 0.48235294, 0.4745098 , 0.47843137,\n",
       "        0.45882353, 0.4627451 , 0.45882353, 0.41960785, 0.41960785,\n",
       "        0.42352942, 0.43137255, 0.45490196, 0.45490196, 0.4627451 ,\n",
       "        0.47058824, 0.4745098 , 0.47843137, 0.47843137, 0.4862745 ,\n",
       "        0.49019608, 0.4862745 , 0.5019608 , 0.49019608, 0.5058824 ,\n",
       "        0.49411765, 0.49803922, 0.49019608, 0.49019608, 0.49019608,\n",
       "        0.47843137, 0.47843137, 0.47843137, 0.47058824, 0.46666667,\n",
       "        0.4627451 , 0.41960785, 0.42745098, 0.43137255, 0.45490196,\n",
       "        0.4627451 , 0.45882353, 0.4745098 , 0.47843137, 0.48235294,\n",
       "        0.48235294, 0.48235294, 0.49803922, 0.49019608, 0.49411765,\n",
       "        0.5019608 , 0.5019608 , 0.5019608 , 0.5058824 , 0.5019608 ,\n",
       "        0.49019608, 0.48235294, 0.48235294, 0.4862745 , 0.47058824,\n",
       "        0.4745098 , 0.4627451 , 0.46666667, 0.45882353, 0.42352942,\n",
       "        0.4392157 , 0.4392157 , 0.45490196, 0.4627451 , 0.46666667,\n",
       "        0.46666667, 0.47843137, 0.48235294, 0.47843137, 0.49411765,\n",
       "        0.49411765, 0.49411765, 0.5019608 , 0.46666667, 0.5058824 ,\n",
       "        0.5058824 , 0.5058824 , 0.5019608 , 0.4862745 , 0.47058824,\n",
       "        0.4627451 , 0.46666667, 0.46666667, 0.4745098 , 0.4627451 ,\n",
       "        0.4745098 , 0.45490196, 0.43529412, 0.44313726, 0.44705883,\n",
       "        0.45490196, 0.4627451 , 0.4627451 , 0.4509804 , 0.44705883,\n",
       "        0.47058824, 0.48235294, 0.49411765, 0.49411765, 0.5019608 ,\n",
       "        0.5019608 , 0.49803922, 0.5058824 , 0.5058824 , 0.50980395,\n",
       "        0.49019608, 0.45882353, 0.4509804 , 0.44705883, 0.4392157 ,\n",
       "        0.4509804 , 0.45882353, 0.46666667, 0.45882353, 0.4392157 ,\n",
       "        0.4392157 , 0.4392157 , 0.44705883, 0.4509804 , 0.4627451 ,\n",
       "        0.4509804 , 0.43529412, 0.44313726, 0.44705883, 0.45882353,\n",
       "        0.47843137, 0.5019608 , 0.5019608 , 0.5137255 , 0.49803922,\n",
       "        0.5058824 , 0.49803922, 0.49411765, 0.4509804 , 0.43529412,\n",
       "        0.43529412, 0.43137255, 0.41568628, 0.41960785, 0.42352942,\n",
       "        0.43529412, 0.42352942, 0.40392157, 0.44705883, 0.44705883,\n",
       "        0.44705883, 0.4627451 , 0.45490196, 0.44705883, 0.43137255,\n",
       "        0.44313726, 0.43137255, 0.43137255, 0.45490196, 0.47058824,\n",
       "        0.47843137, 0.49803922, 0.49803922, 0.5019608 , 0.49803922,\n",
       "        0.4509804 , 0.4117647 , 0.43529412, 0.63529414, 0.59607846,\n",
       "        0.44705883, 0.38039216, 0.39215687, 0.39215687, 0.3647059 ,\n",
       "        0.36862746, 0.40784314, 0.44705883, 0.4392157 , 0.45490196,\n",
       "        0.43529412, 0.44705883, 0.5764706 , 0.5137255 , 0.4       ,\n",
       "        0.42352942, 0.43529412, 0.4509804 , 0.4627451 , 0.4627451 ,\n",
       "        0.49019608, 0.4862745 , 0.45490196, 0.40784314, 0.32941177,\n",
       "        0.5058824 , 0.6       , 0.6666667 , 0.63529414, 0.5411765 ,\n",
       "        0.34901962, 0.32941177, 0.3019608 , 0.13333334, 0.47843137,\n",
       "        0.45490196, 0.4509804 , 0.44705883, 0.43137255, 0.5019608 ,\n",
       "        0.6       , 0.6117647 , 0.6431373 , 0.6       , 0.44313726,\n",
       "        0.41568628, 0.4392157 , 0.44705883, 0.45490196, 0.43137255,\n",
       "        0.41568628, 0.3647059 , 0.5803922 , 0.7254902 , 0.5803922 ,\n",
       "        0.6039216 , 0.6431373 , 0.6392157 , 0.5529412 , 0.49019608,\n",
       "        0.09411765, 0.12941177, 0.52156866, 0.45490196, 0.45490196,\n",
       "        0.45490196, 0.43529412, 0.43529412, 0.5647059 , 0.63529414,\n",
       "        0.6666667 , 0.7019608 , 0.6862745 , 0.6313726 , 0.5372549 ,\n",
       "        0.41568628, 0.41960785, 0.37254903, 0.34509805, 0.5019608 ,\n",
       "        0.61960787, 0.74509805, 0.7294118 , 0.59607846, 0.6745098 ,\n",
       "        0.61960787, 0.6156863 , 0.627451  , 0.09803922, 0.07843138,\n",
       "        0.41568628, 0.45490196, 0.45882353, 0.47058824, 0.44705883,\n",
       "        0.41960785, 0.4117647 , 0.5764706 , 0.6784314 , 0.7647059 ,\n",
       "        0.75686276, 0.6745098 , 0.7490196 , 0.6392157 , 0.47058824,\n",
       "        0.3137255 , 0.46666667, 0.5254902 , 0.6156863 , 0.7019608 ,\n",
       "        0.69803923, 0.7058824 , 0.67058825, 0.6627451 , 0.6745098 ,\n",
       "        0.6       , 0.13725491, 0.08627451, 0.46666667, 0.45882353,\n",
       "        0.4627451 , 0.46666667, 0.45490196, 0.42745098, 0.40392157,\n",
       "        0.4       , 0.45882353, 0.6666667 , 0.7490196 , 0.7372549 ,\n",
       "        0.6509804 , 0.6039216 , 0.61960787, 0.6784314 , 0.6313726 ,\n",
       "        0.5764706 , 0.61960787, 0.7254902 , 0.7372549 , 0.7647059 ,\n",
       "        0.67058825, 0.6862745 , 0.7019608 , 0.60784316, 0.24313726,\n",
       "        0.11764706, 0.45490196, 0.45490196, 0.4627451 , 0.4627451 ,\n",
       "        0.47058824, 0.4392157 , 0.42352942, 0.40392157, 0.39215687,\n",
       "        0.3882353 , 0.6039216 , 0.7019608 , 0.68235296, 0.63529414,\n",
       "        0.6666667 , 0.7647059 , 0.7411765 , 0.72156864, 0.7254902 ,\n",
       "        0.7137255 , 0.7176471 , 0.70980394, 0.74509805, 0.7294118 ,\n",
       "        0.7254902 , 0.6901961 , 0.4117647 , 0.12156863, 0.45882353,\n",
       "        0.45490196, 0.45882353, 0.4627451 , 0.46666667, 0.45490196,\n",
       "        0.42745098, 0.3882353 , 0.38039216, 0.36078432, 0.34901962,\n",
       "        0.43137255, 0.5764706 , 0.5921569 , 0.6156863 , 0.69803923,\n",
       "        0.7058824 , 0.6862745 , 0.7647059 , 0.78431374, 0.78039217,\n",
       "        0.7490196 , 0.7607843 , 0.7294118 , 0.69803923, 0.6862745 ,\n",
       "        0.4862745 , 0.11372549, 0.47843137, 0.4627451 , 0.45882353,\n",
       "        0.45882353, 0.47058824, 0.44313726, 0.43137255, 0.41960785,\n",
       "        0.39215687, 0.3529412 , 0.32941177, 0.32156864, 0.30980393,\n",
       "        0.24313726, 0.36078432, 0.59607846, 0.6901961 , 0.6901961 ,\n",
       "        0.7254902 , 0.7490196 , 0.73333335, 0.77254903, 0.7411765 ,\n",
       "        0.74509805, 0.7176471 , 0.7254902 , 0.54901963, 0.12941177,\n",
       "        0.46666667, 0.4627451 , 0.4627451 , 0.4627451 , 0.4509804 ,\n",
       "        0.43529412, 0.41960785, 0.4117647 , 0.38431373, 0.36862746,\n",
       "        0.3372549 , 0.30588236, 0.28627452, 0.21960784, 0.21568628,\n",
       "        0.5647059 , 0.7137255 , 0.6901961 , 0.7176471 , 0.7254902 ,\n",
       "        0.7647059 , 0.7607843 , 0.77254903, 0.73333335, 0.76862746,\n",
       "        0.68235296, 0.62352943, 0.1254902 , 0.4627451 , 0.47058824,\n",
       "        0.47058824, 0.45882353, 0.43137255, 0.44313726, 0.6039216 ,\n",
       "        0.5568628 , 0.6313726 , 0.5803922 , 0.5568628 , 0.57254905,\n",
       "        0.54509807, 0.4745098 , 0.49411765, 0.627451  , 0.74509805,\n",
       "        0.7411765 , 0.76862746, 0.76862746, 0.7607843 , 0.7764706 ,\n",
       "        0.7764706 , 0.7647059 , 0.70980394, 0.7411765 , 0.6156863 ,\n",
       "        0.12156863, 0.47843137, 0.46666667, 0.46666667, 0.45490196,\n",
       "        0.42745098, 0.4862745 , 0.6509804 , 0.6117647 , 0.7294118 ,\n",
       "        0.74509805, 0.7058824 , 0.75686276, 0.7607843 , 0.7058824 ,\n",
       "        0.72156864, 0.70980394, 0.7294118 , 0.76862746, 0.8       ,\n",
       "        0.7529412 , 0.7607843 , 0.8       , 0.7764706 , 0.6784314 ,\n",
       "        0.7019608 , 0.69411767, 0.6117647 , 0.1254902 , 0.48235294,\n",
       "        0.45882353, 0.46666667, 0.45882353, 0.44313726, 0.42745098,\n",
       "        0.53333336, 0.6117647 , 0.73333335, 0.7607843 , 0.7019608 ,\n",
       "        0.7372549 , 0.7254902 , 0.70980394, 0.72156864, 0.7254902 ,\n",
       "        0.74509805, 0.83137256, 0.7921569 , 0.7176471 , 0.7176471 ,\n",
       "        0.73333335, 0.73333335, 0.7058824 , 0.72156864, 0.73333335,\n",
       "        0.61960787, 0.11764706, 0.42352942, 0.44313726, 0.45490196,\n",
       "        0.47058824, 0.4627451 , 0.41960785, 0.3882353 , 0.42352942,\n",
       "        0.56078434, 0.6431373 , 0.60784316, 0.64705884, 0.65882355,\n",
       "        0.6627451 , 0.5764706 , 0.6431373 , 0.6156863 , 0.69411767,\n",
       "        0.7176471 , 0.7294118 , 0.70980394, 0.74509805, 0.7294118 ,\n",
       "        0.7176471 , 0.73333335, 0.69803923, 0.56078434, 0.10588235,\n",
       "        0.47843137, 0.44313726, 0.44705883, 0.4627451 , 0.46666667,\n",
       "        0.4392157 , 0.41568628, 0.41960785, 0.40392157, 0.3882353 ,\n",
       "        0.42745098, 0.5568628 , 0.53333336, 0.5294118 , 0.49019608,\n",
       "        0.5019608 , 0.5764706 , 0.6039216 , 0.6627451 , 0.6627451 ,\n",
       "        0.6666667 , 0.6862745 , 0.7019608 , 0.654902  , 0.5764706 ,\n",
       "        0.6       , 0.52156866, 0.09411765, 0.38431373, 0.44313726,\n",
       "        0.45490196, 0.45490196, 0.4627451 , 0.45882353, 0.44705883,\n",
       "        0.42745098, 0.41960785, 0.41568628, 0.41568628, 0.4117647 ,\n",
       "        0.40784314, 0.39215687, 0.37254903, 0.35686275, 0.34509805,\n",
       "        0.47058824, 0.6       , 0.6313726 , 0.6313726 , 0.6117647 ,\n",
       "        0.53333336, 0.54901963, 0.56078434, 0.5137255 , 0.32941177,\n",
       "        0.08627451, 0.43529412, 0.4509804 , 0.45882353, 0.4509804 ,\n",
       "        0.44705883, 0.46666667, 0.46666667, 0.47058824, 0.4509804 ,\n",
       "        0.44313726, 0.4392157 , 0.43137255, 0.4392157 , 0.42745098,\n",
       "        0.41568628, 0.40784314, 0.4       , 0.37254903, 0.38039216,\n",
       "        0.5058824 , 0.5568628 , 0.5529412 , 0.49411765, 0.5254902 ,\n",
       "        0.5137255 , 0.44313726, 0.09411765, 0.07058824, 0.4392157 ,\n",
       "        0.44313726, 0.45490196, 0.45882353, 0.4627451 , 0.46666667,\n",
       "        0.47058824, 0.48235294, 0.47843137, 0.47058824, 0.45882353,\n",
       "        0.45882353, 0.44313726, 0.4392157 , 0.4392157 , 0.43529412,\n",
       "        0.41960785, 0.40392157, 0.38431373, 0.3882353 , 0.3647059 ,\n",
       "        0.33333334, 0.32156864, 0.32156864, 0.29411766, 0.28627452,\n",
       "        0.25490198, 0.12941177, 0.4392157 , 0.44313726, 0.44705883,\n",
       "        0.44313726, 0.45490196, 0.46666667, 0.4745098 , 0.47843137,\n",
       "        0.4745098 , 0.48235294, 0.4862745 , 0.4862745 , 0.4745098 ,\n",
       "        0.4745098 , 0.47058824, 0.47058824, 0.45490196, 0.43529412,\n",
       "        0.41960785, 0.41960785, 0.40784314, 0.4       , 0.38431373,\n",
       "        0.39215687, 0.37254903, 0.36078432, 0.34117648, 0.3529412 ,\n",
       "        0.43137255, 0.4392157 , 0.45490196, 0.45882353, 0.45882353,\n",
       "        0.4627451 , 0.46666667, 0.47843137, 0.4745098 , 0.47843137,\n",
       "        0.4862745 , 0.47843137, 0.48235294, 0.47843137, 0.4745098 ,\n",
       "        0.4862745 , 0.4745098 , 0.45882353, 0.44705883, 0.42745098,\n",
       "        0.41568628, 0.4117647 , 0.39607844, 0.4       , 0.38431373,\n",
       "        0.38431373, 0.3764706 , 0.37254903, 0.43137255, 0.43529412,\n",
       "        0.44313726, 0.44705883, 0.4509804 , 0.45882353, 0.47058824,\n",
       "        0.47058824, 0.46666667, 0.4745098 , 0.47843137, 0.47843137,\n",
       "        0.47843137, 0.48235294, 0.4745098 , 0.47843137, 0.47843137,\n",
       "        0.47058824, 0.46666667, 0.4509804 , 0.43529412, 0.43529412,\n",
       "        0.42745098, 0.42352942, 0.41960785, 0.41960785, 0.40392157,\n",
       "        0.3882353 , 0.44313726, 0.43529412, 0.44313726, 0.44313726,\n",
       "        0.45490196, 0.44313726, 0.4509804 , 0.4627451 , 0.46666667,\n",
       "        0.47058824, 0.4745098 , 0.48235294, 0.4745098 , 0.48235294,\n",
       "        0.47843137, 0.47843137, 0.47843137, 0.47058824, 0.46666667,\n",
       "        0.46666667, 0.45882353, 0.45882353, 0.4509804 , 0.44313726,\n",
       "        0.4392157 , 0.42745098, 0.42352942, 0.41568628]], dtype=float32)"
      ]
     },
     "execution_count": 124,
     "metadata": {},
     "output_type": "execute_result"
    }
   ],
   "source": [
    "# TODO：用一行將圖像正規化、調整成模型要的輸入尺寸 (1,784)、轉換型態為 float32\n",
    "predict_img = (predict_img_origin/255).reshape(1,784).astype(\"float32\")\n",
    "predict_img"
   ]
  },
  {
   "cell_type": "markdown",
   "id": "b8066ecd",
   "metadata": {},
   "source": [
    "預測圖像"
   ]
  },
  {
   "cell_type": "code",
   "execution_count": 125,
   "id": "2d0f6125",
   "metadata": {},
   "outputs": [
    {
     "name": "stdout",
     "output_type": "stream",
     "text": [
      "1/1 [==============================] - 0s 53ms/step\n",
      "預測結果數值：[[0.01596459 0.01081783 0.97321755]]\n",
      "預測的結果類別：scissors\n"
     ]
    }
   ],
   "source": [
    "# TODO\n",
    "import numpy as np\n",
    "\n",
    "predictions = model_load.predict(predict_img)\n",
    "predicted_classes = np.argmax(predictions, axis=1)\n",
    "\n",
    "# TODO \n",
    "def label_to_rps(num):\n",
    "    mapping = {\n",
    "        0: 'rock', 1: 'paper', 2: 'scissors'\n",
    "    }\n",
    "    return mapping.get(num, 'Invalid number')\n",
    "###\n",
    "\n",
    "print(f\"預測結果數值：{predictions}\")\n",
    "print(f\"預測的結果類別：{label_to_rps(predicted_classes[0])}\")"
   ]
  },
  {
   "cell_type": "markdown",
   "id": "1eb419cb",
   "metadata": {},
   "source": [
    "### 預測自己拍攝的照片"
   ]
  },
  {
   "cell_type": "markdown",
   "id": "101cacb1",
   "metadata": {},
   "source": [
    "載入與查看圖片"
   ]
  },
  {
   "cell_type": "code",
   "execution_count": 142,
   "id": "b848bc93",
   "metadata": {},
   "outputs": [
    {
     "data": {
      "image/png": "[encoded data removed]",
      "text/plain": [
       "<Figure size 432x288 with 1 Axes>"
      ]
     },
     "metadata": {
      "needs_background": "light"
     },
     "output_type": "display_data"
    }
   ],
   "source": [
    "from PIL import Image\n",
    "from matplotlib import pyplot as plt\n",
    "\n",
    "image_dir = 'images/rock.png'\n",
    "image = Image.open(image_dir)\n",
    "\n",
    "plt.imshow(image)\n",
    "plt.axis('off')  # 不顯示座標軸\n",
    "plt.show()\n",
    "# https://nypost.com/wp-content/uploads/sites/2/2020/11/AFP_Trump-Defiant-1.jpg?quality=75&strip=all&w=744"
   ]
  },
  {
   "cell_type": "markdown",
   "id": "61a469b9",
   "metadata": {},
   "source": [
    "將圖像前處理"
   ]
  },
  {
   "cell_type": "code",
   "execution_count": 143,
   "id": "0d5a6337",
   "metadata": {},
   "outputs": [
    {
     "data": {
      "image/png": "[encoded data removed]",
      "text/plain": [
       "<Figure size 432x288 with 1 Axes>"
      ]
     },
     "metadata": {
      "needs_background": "light"
     },
     "output_type": "display_data"
    }
   ],
   "source": [
    "import cv2\n",
    "import numpy as np\n",
    "\n",
    "image = cv2.imread(image_dir)\n",
    "image_resized = cv2.resize(image, (28, 28))\n",
    "image_gray = cv2.cvtColor(image_resized, cv2.COLOR_BGR2GRAY)\n",
    "predict_img = (image_gray/255).reshape(1,784).astype('float32')\n",
    "\n",
    "plt.imshow(image_gray, cmap='gray')\n",
    "plt.axis('off')\n",
    "plt.show()"
   ]
  },
  {
   "cell_type": "markdown",
   "id": "94019320",
   "metadata": {},
   "source": [
    "預測圖像"
   ]
  },
  {
   "cell_type": "code",
   "execution_count": 144,
   "id": "8049d4dc",
   "metadata": {},
   "outputs": [
    {
     "name": "stdout",
     "output_type": "stream",
     "text": [
      "1/1 [==============================] - 0s 24ms/step\n",
      "預測結果數值：[[0.49379015 0.48777297 0.01843682]]\n",
      "預測的結果類別：rock\n"
     ]
    }
   ],
   "source": [
    "predictions = model_load.predict(predict_img)\n",
    "predicted_classes = np.argmax(predictions, axis=1)\n",
    "\n",
    "def label_to_rps(num):\n",
    "    mapping = {\n",
    "        0: 'rock', 1: 'paper', 2: 'scissors'\n",
    "    }\n",
    "    return mapping.get(num, 'Invalid number')\n",
    "\n",
    "\n",
    "print(f\"預測結果數值：{predictions}\")\n",
    "print(f\"預測的結果類別：{label_to_rps(predicted_classes[0])}\")"
   ]
  }
 ],
 "metadata": {
  "kernelspec": {
   "display_name": "Python 3 (ipykernel)",
   "language": "python",
   "name": "python3"
  },
  "language_info": {
   "codemirror_mode": {
    "name": "ipython",
    "version": 3
   },
   "file_extension": ".py",
   "mimetype": "text/x-python",
   "name": "python",
   "nbconvert_exporter": "python",
   "pygments_lexer": "ipython3",
   "version": "3.10.11"
  }
 },
 "nbformat": 4,
 "nbformat_minor": 5
}
