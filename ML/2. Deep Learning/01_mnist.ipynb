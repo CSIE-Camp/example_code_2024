{
 "cells": [
  {
   "cell_type": "markdown",
   "id": "bdebfc25-ed01-44be-be97-ff6450348dd2",
   "metadata": {
    "tags": []
   },
   "source": [
    "# Image Classification with MNIST dataset\n",
    "> NTNU CSIE Camp 2024"
   ]
  },
  {
   "cell_type": "markdown",
   "id": "81bf02e1-c62f-4482-83b0-33fcc0b692b5",
   "metadata": {},
   "source": [
    "---"
   ]
  },
  {
   "cell_type": "markdown",
   "id": "cd5decdc-0328-42d2-996c-536606d975a7",
   "metadata": {
    "tags": []
   },
   "source": [
    "## MNIST 資料集\n",
    "> [THE MNIST DATABASE](http://yann.lecun.com/exdb/mnist/)"
   ]
  },
  {
   "cell_type": "markdown",
   "id": "b4652dc8-edc5-4577-a285-e7d658cc0101",
   "metadata": {},
   "source": [
    "由 70,000 張從 0 到 9 手寫數字灰階影像組成"
   ]
  },
  {
   "cell_type": "markdown",
   "id": "429fbe85-6d29-41f7-bc3d-24aacb3d017a",
   "metadata": {},
   "source": [
    "以下是 MNIST 資料集包含的其中 40 張影像："
   ]
  },
  {
   "cell_type": "markdown",
   "id": "8d4bb700-75a5-49d8-b3c2-c01600929d2f",
   "metadata": {},
   "source": [
    "<img src=\"images/mnist.png\" style=\"width: 600px;\">"
   ]
  },
  {
   "cell_type": "markdown",
   "id": "4b4a3bf5-7e78-442b-a5c5-be99f15d385d",
   "metadata": {
    "tags": []
   },
   "source": [
    "## 訓練及驗證資料與標籤"
   ]
  },
  {
   "cell_type": "markdown",
   "id": "e5db3b97-9dee-4ce0-97e7-8af5305ec12c",
   "metadata": {},
   "source": [
    "1. `x_train`：用於訓練神經網路的影像<br>\n",
    "2. `y_train`：`x_train` 影像的正確標籤，用於評估模型在訓練過程中的預測表現<br>\n",
    "3. `x_valid`：另外一組影像，用於驗證模型經過訓練後的效能<br>\n",
    "4. `y_valid`：`x_valid` 影像的正確標籤，用於評估模型經過訓練後的預測表現<br>\n",
    "\n",
    "**補充**\n",
    "> + Definitions of Train, Validation, and Test Datasets\n",
    ">   + Training Dataset: The sample of data used to fit the model.\n",
    ">   + Validation Dataset: The sample of data used to provide an unbiased evaluation of a model fit on the training dataset while tuning model hyperparameters. The evaluation becomes more biased as skill on the validation dataset is incorporated into the model configuration.\n",
    ">   + Test Dataset: The sample of data used to provide an unbiased evaluation of a final model fit on the training dataset.\n",
    "\n",
    "\n",
    "> + 曾有書裡面是這麼說的\n",
    ">   + Training set: A set of examples used for learning, that is to fit the parameters of the classifier.\n",
    ">   + Validation set: A set of examples used to tune the parameters of a classifier, for example to choose the number of hidden units in a neural network.\n",
    ">   + Test set: A set of examples used only to assess the performance of a fully-specified classifier.  \n",
    ">\n",
    ">   Brian Ripley, page 354, Pattern Recognition and Neural Networks, 1996"
   ]
  },
  {
   "cell_type": "markdown",
   "id": "896ed99a-1fe9-43ea-a71c-34da952eb832",
   "metadata": {
    "tags": []
   },
   "source": [
    "## 將資料載入"
   ]
  },
  {
   "cell_type": "markdown",
   "id": "5754b065-aa69-4424-bec7-e0c3c779661f",
   "metadata": {},
   "source": [
    "載入 MNIST 資料集"
   ]
  },
  {
   "cell_type": "code",
   "execution_count": null,
   "id": "558dc68d-587f-475b-afa8-83189f829dfc",
   "metadata": {},
   "outputs": [],
   "source": [
    "from tensorflow.keras.datasets import mnist"
   ]
  },
  {
   "cell_type": "markdown",
   "id": "51b3dffb-2d50-44e1-bb43-b0949d297442",
   "metadata": {},
   "source": [
    "載入 MNIST 資料，資料已分割成影像和標籤，可用於訓練與驗證"
   ]
  },
  {
   "cell_type": "code",
   "execution_count": null,
   "id": "c45f6c66-ab06-40ee-bd9d-addbe4bb2446",
   "metadata": {},
   "outputs": [],
   "source": [
    "# the data, split between train and validation sets\n",
    "(x_train, y_train), (x_valid, y_valid) = mnist.load_data()"
   ]
  },
  {
   "cell_type": "markdown",
   "id": "b21b43d8-2f03-473b-a940-534b208d6bb3",
   "metadata": {},
   "source": [
    "## 探索 MNIST 資料"
   ]
  },
  {
   "cell_type": "code",
   "execution_count": null,
   "id": "832fb49e-5f6c-4a78-ae26-073d72dd3670",
   "metadata": {},
   "outputs": [],
   "source": [
    "x_train.shape # (筆數, 資料 x 軸像素, 資料 y 軸像素)"
   ]
  },
  {
   "cell_type": "code",
   "execution_count": null,
   "id": "0e80b155-a7f4-4cdf-a033-88343361165b",
   "metadata": {},
   "outputs": [],
   "source": [
    "x_valid.shape"
   ]
  },
  {
   "cell_type": "code",
   "execution_count": null,
   "id": "fc182186-c4a3-40ba-a50e-95d9d85113cc",
   "metadata": {},
   "outputs": [],
   "source": [
    "x_train.dtype"
   ]
  },
  {
   "cell_type": "code",
   "execution_count": null,
   "id": "f2369a06-df9b-4086-a4a4-27510132aab0",
   "metadata": {},
   "outputs": [],
   "source": [
    "x_train.min()"
   ]
  },
  {
   "cell_type": "code",
   "execution_count": null,
   "id": "71aa0cfd-ce8c-4aab-aa17-f7acfb423364",
   "metadata": {},
   "outputs": [],
   "source": [
    "x_train.max()"
   ]
  },
  {
   "cell_type": "code",
   "execution_count": null,
   "id": "10b5dfcd-e772-4e6e-b751-f99cda140b9a",
   "metadata": {
    "tags": []
   },
   "outputs": [],
   "source": [
    "x_train[0]"
   ]
  },
  {
   "cell_type": "markdown",
   "id": "6b36731c-d9cc-446f-9e51-aaf4ce88aff3",
   "metadata": {},
   "source": [
    "**可以發現**\n",
    "+ 影像本身是尺寸 28×28 的 2D 陣列\n",
    "+ 介於 0 到 255 的 8 bits unsinged integer（正整數值）"
   ]
  },
  {
   "cell_type": "markdown",
   "id": "e52e09c2-6a9f-470d-8e24-6e5c2d789d58",
   "metadata": {},
   "source": [
    "Data 視覺化"
   ]
  },
  {
   "cell_type": "code",
   "execution_count": null,
   "id": "65cea69d-4bb4-4be2-9b7a-c4250446c56e",
   "metadata": {},
   "outputs": [],
   "source": [
    "import matplotlib.pyplot as plt\n",
    "\n",
    "image = x_train[0]\n",
    "plt.imshow(image, cmap='gray')"
   ]
  },
  {
   "cell_type": "markdown",
   "id": "0118e723-f4f7-49d0-a8d1-bae14e7cadf9",
   "metadata": {},
   "source": [
    "上面的那張圖是多少？（看 `label`）"
   ]
  },
  {
   "cell_type": "code",
   "execution_count": null,
   "id": "cc5ef64a-7129-4680-b251-59db6a06f006",
   "metadata": {},
   "outputs": [],
   "source": [
    "y_train[0]"
   ]
  },
  {
   "cell_type": "markdown",
   "id": "36c80a56-1d6d-42aa-991a-6a7727f2843e",
   "metadata": {},
   "source": [
    "## 資料前處理（Data Pre-processing）\n",
    "> 準備資料以進行訓練\n",
    "1. 扁平化（Flatten）影像資料，以簡化輸入至模型的影像資料。\n",
    "2. 正規化影像資料，讓影像輸入數值具有相同的尺度，提升模型收斂速度與成效。\n",
    "3. 分類標籤，讓標籤值無序數值化，調整成適合用於模型訓練的特徵空間。\n",
    "\n",
    "**補充**  \n",
    "> 了解更多關於基本資料前處理：https://medium.com/jameslearningnote/%E8%B3%87%E6%96%99%E5%88%86%E6%9E%90-%E6%A9%9F%E5%99%A8%E5%AD%B8%E7%BF%92-%E7%AC%AC2-4%E8%AC%9B-%E8%B3%87%E6%96%99%E5%89%8D%E8%99%95%E7%90%86-missing-data-one-hot-encoding-feature-scaling-3b70a7839b4a"
   ]
  },
  {
   "cell_type": "markdown",
   "id": "d7537591-8543-494e-a64b-4aab41f655e6",
   "metadata": {},
   "source": [
    "### 扁平化（Flatten）影像資料"
   ]
  },
  {
   "cell_type": "markdown",
   "id": "aac1e39f-a846-4080-aa38-febfce6f0caa",
   "metadata": {},
   "source": [
    "調整為連續像素的單一陣列"
   ]
  },
  {
   "cell_type": "code",
   "execution_count": null,
   "id": "a2d21514-becf-4e3b-8f17-3e4d76ef9328",
   "metadata": {},
   "outputs": [],
   "source": [
    "# Keras API Helper\n",
    "x_valid_flatten = x_valid.reshape(10000, 784) # (資料筆數, 陣列長度)\n",
    "x_train_flatten = x_train.reshape(60000, 784)"
   ]
  },
  {
   "cell_type": "code",
   "execution_count": null,
   "id": "d82467cc-30d2-4ca3-b1f2-48e992d3bc80",
   "metadata": {},
   "outputs": [],
   "source": [
    "x_train_flatten.shape"
   ]
  },
  {
   "cell_type": "code",
   "execution_count": null,
   "id": "3bdfe3a3-24ff-4ed1-9bd2-47efa122354f",
   "metadata": {},
   "outputs": [],
   "source": [
    "x_train_flatten[0]"
   ]
  },
  {
   "cell_type": "markdown",
   "id": "15548785-bd0d-4c6d-8695-fe0d2fddd606",
   "metadata": {},
   "source": [
    "### 正規化影像資料\n",
    "> Min-Max Normalization"
   ]
  },
  {
   "cell_type": "markdown",
   "id": "f6bcdca4-3652-485c-b107-71af7fc3b324",
   "metadata": {},
   "source": [
    "將整數值轉換為介於 0 和 1 的浮點值"
   ]
  },
  {
   "cell_type": "code",
   "execution_count": null,
   "id": "6727d695-72cc-4a28-8d99-9a0b73a3ff7d",
   "metadata": {},
   "outputs": [],
   "source": [
    "x_train_normalization = x_train_flatten / 255\n",
    "x_valid_normalization = x_valid_flatten / 255 "
   ]
  },
  {
   "cell_type": "code",
   "execution_count": null,
   "id": "f64934cb-e095-44d8-ae91-b1ef547ca3fc",
   "metadata": {},
   "outputs": [],
   "source": [
    "x_train_normalization.dtype"
   ]
  },
  {
   "cell_type": "code",
   "execution_count": null,
   "id": "51dfe5a7-e997-42fe-9d78-7db7aab6b95f",
   "metadata": {},
   "outputs": [],
   "source": [
    "x_train_normalization.min()"
   ]
  },
  {
   "cell_type": "code",
   "execution_count": null,
   "id": "e298fc51-e50b-4d3c-9556-cfdeb97786b0",
   "metadata": {},
   "outputs": [],
   "source": [
    "x_train_normalization.max()"
   ]
  },
  {
   "cell_type": "markdown",
   "id": "b75c4068-9058-41f0-af51-67f18d6077c9",
   "metadata": {},
   "source": [
    "### 分類編碼\n",
    "> One Hot Encoding"
   ]
  },
  {
   "cell_type": "markdown",
   "id": "549301a3-1d47-485e-b1ec-5b1f988cfcaf",
   "metadata": {},
   "source": [
    "舉例：\n",
    "|實際數字| 是紅色嗎？| 是藍色嗎？| 是綠色嗎？|\n",
    "|------------|---------|----------|----------|\n",
    "|紅色|1|0|0|\n",
    "|綠色|0|0|1|\n",
    "|藍色|0|1|0|\n",
    "\n",
    "也就是\n",
    "\n",
    "```python\n",
    "values = ['red, green, blue']\n",
    "```\n",
    "\n",
    "轉換為\n",
    "\n",
    "```python\n",
    "values = [\n",
    "    [1, 0, 0],\n",
    "    [0, 0, 1],\n",
    "    [0, 1, 0]\n",
    "]\n",
    "```"
   ]
  },
  {
   "cell_type": "markdown",
   "id": "cb0785a3",
   "metadata": {},
   "source": [
    "**補充**  \n",
    "> 其他情境下的 encoding 方式與優缺點：  \n",
    "https://axk51013.medium.com/%E4%B8%8D%E8%A6%81%E5%86%8D%E5%81%9Aone-hot-encoding-b5126d3f8a63 "
   ]
  },
  {
   "cell_type": "code",
   "execution_count": null,
   "id": "4b61b009-ca92-40c0-8dbc-16c43282284a",
   "metadata": {
    "tags": []
   },
   "outputs": [],
   "source": [
    "import tensorflow.keras as keras\n",
    "num_categories = 10 # 有幾個類別\n",
    "\n",
    "y_train_encoding = keras.utils.to_categorical(y_train, num_categories)\n",
    "y_valid_encoding = keras.utils.to_categorical(y_valid, num_categories)"
   ]
  },
  {
   "cell_type": "code",
   "execution_count": null,
   "id": "5d93ec74-45b6-4d8e-a81e-641929d2d295",
   "metadata": {},
   "outputs": [],
   "source": [
    "y_train_encoding[0:9]"
   ]
  },
  {
   "cell_type": "markdown",
   "id": "ede65908-67d5-41ed-9c03-033c52d0c4f1",
   "metadata": {
    "tags": []
   },
   "source": [
    "## 建立模型"
   ]
  },
  {
   "cell_type": "markdown",
   "id": "2a5dc4bb-e0bd-438c-a3a5-790550c89ef5",
   "metadata": {},
   "source": [
    "1. 輸入層（Input Layer），負責接收某種預期格式的資料\n",
    "2. 數個隱藏層（Hidden Layer），各由多個神經元（NN）組成。每個神經元都會依權重（Weight）影響到網路的猜測，權重值會隨著網路獲得效能和學習的回饋而在多次迭代中更新。\n",
    "3. 輸出層（Output Layer），負責呈現網路對特定影像的猜測"
   ]
  },
  {
   "cell_type": "markdown",
   "id": "775b9c36-ed90-400f-87ce-9754a5fb8625",
   "metadata": {},
   "source": [
    "### 具現化模型"
   ]
  },
  {
   "cell_type": "code",
   "execution_count": null,
   "id": "00679886-8d94-42db-880d-20890cab764f",
   "metadata": {},
   "outputs": [],
   "source": [
    "from tensorflow.keras.models import Sequential\n",
    "\n",
    "model = Sequential()"
   ]
  },
  {
   "cell_type": "markdown",
   "id": "29af66de-169c-4c06-b61c-b92eddac6549",
   "metadata": {
    "tags": []
   },
   "source": [
    "### 建立輸入層\n",
    "+ 使用 Keras 的 Dense，其中的每個神經元及其權重，都會影響下一層的每個神經元。\n",
    "+ 使用 `relu` 激活函數（Activation Function），使我們的 network 學會如何對資料進行更複雜的推測\n",
    "+ `input_shape` 值會指定傳入資料的形狀\n",
    "+ `unit` 引數（argument）為神經元數量\n",
    "\n",
    "**補充**\n",
    "> - NN 中 Weight 更新全中是如何運作的 👉[何謂 BP](https://medium.com/ai-academy-taiwan/back-propagation-3946e8ed8c55)\n",
    "> - ACT 也就是所謂 Activation Function 是在做什麼 👉[何謂 ACT](https://medium.com/%E6%B7%B1%E6%80%9D%E5%BF%83%E6%80%9D/ml08-activation-function-%E6%98%AF%E4%BB%80%E9%BA%BC-15ec78fa1ce4)"
   ]
  },
  {
   "cell_type": "code",
   "execution_count": null,
   "id": "93b2d7d5-4690-4731-bdb0-74e7fe1282d2",
   "metadata": {},
   "outputs": [],
   "source": [
    "from tensorflow.keras.layers import Dense\n",
    "\n",
    "model.add(Dense(units=512, activation='relu', input_shape=(784,)))"
   ]
  },
  {
   "cell_type": "markdown",
   "id": "cbc319dd-e637-4d26-ac83-ba3eda43df0a",
   "metadata": {},
   "source": [
    "### 建立隱藏層"
   ]
  },
  {
   "cell_type": "code",
   "execution_count": null,
   "id": "c0cf55f2-2116-424e-b4f0-d321400e669a",
   "metadata": {},
   "outputs": [],
   "source": [
    "model.add(Dense(units = 512, activation='relu'))"
   ]
  },
  {
   "cell_type": "markdown",
   "id": "18410a02-a929-4d04-a381-e9812529a1cc",
   "metadata": {},
   "source": [
    "### 建立輸出層\n",
    "+ 使用激活函數 `softmax`，這會使層中每一個值成為介於 0 和 1 的機率（加總值為 1）"
   ]
  },
  {
   "cell_type": "code",
   "execution_count": null,
   "id": "d8fd414c-e9d6-406e-90ba-cfdc25f0fdb0",
   "metadata": {},
   "outputs": [],
   "source": [
    "model.add(Dense(units=10, activation='softmax'))"
   ]
  },
  {
   "cell_type": "markdown",
   "id": "a89fe033-cbe9-4e82-8eea-04cf408e7c0d",
   "metadata": {},
   "source": [
    "### 總結模型\n",
    "模型的摘要"
   ]
  },
  {
   "cell_type": "code",
   "execution_count": null,
   "id": "77e86553-f1b1-4fde-847f-3f51be6d6395",
   "metadata": {},
   "outputs": [],
   "source": [
    "model.summary()"
   ]
  },
  {
   "cell_type": "markdown",
   "id": "a6c4d2dd-49e0-4d85-8520-0b03513d86e7",
   "metadata": {},
   "source": [
    "**補充**\n",
    "> - Hyperparameter, Parameter...?\n",
    ">   - Hyperparameter: A hyperparameter is a variable that is set before the training process begins. They control the learning process and determine the values of model parameters that a learning algorithm ends up learning. For example, learning rate, batch size and choice of activation function are hyperparameters.\n",
    ">   - Parameter: A parameter is a variable that is learned from the data during the training process. It is used to represent the underlying relationships in the data and is used to make predictions on new data. For example, in a neural network, the weights and biases are parameters."
   ]
  },
  {
   "cell_type": "markdown",
   "id": "ab7c13ed-6506-4e23-a733-cd138e1d928f",
   "metadata": {},
   "source": [
    "### 編譯模型"
   ]
  },
  {
   "cell_type": "code",
   "execution_count": null,
   "id": "d0a7890d-6bd2-491a-bc79-50dc65a0f92e",
   "metadata": {},
   "outputs": [],
   "source": [
    "model.compile(loss='categorical_crossentropy', metrics=['accuracy'])"
   ]
  },
  {
   "cell_type": "markdown",
   "id": "db2ce419-6716-4a25-ab65-a2bf0e5c523b",
   "metadata": {},
   "source": [
    "## 訓練模型\n",
    "+ **觀察準確度**\n",
    "  + 從 `accuracy` 可以看出模型在這個 Epoch 對所有訓練資料的表現如何\n",
    "  + 從 `val_accuracy` 可以看出模型在驗證資料上的表現"
   ]
  },
  {
   "cell_type": "code",
   "execution_count": null,
   "id": "8b6bd1dd-f6e5-4415-a36e-a5712b96b368",
   "metadata": {},
   "outputs": [],
   "source": [
    "history = model.fit(\n",
    "    x_train_normalization, \n",
    "    y_train_encoding, \n",
    "    validation_split = 1, \n",
    "    epochs=5, \n",
    "    verbose=1, \n",
    "    #batch_size=10,\n",
    "    validation_data=(x_valid_normalization, y_valid_encoding) \n",
    ")"
   ]
  },
  {
   "cell_type": "markdown",
   "id": "365d0de1",
   "metadata": {},
   "source": [
    "繪製圖表觀察每個 epoch 對應的 model loss"
   ]
  },
  {
   "cell_type": "code",
   "execution_count": null,
   "id": "1f13a882",
   "metadata": {},
   "outputs": [],
   "source": [
    "from matplotlib import pyplot as plt\n",
    "plt.plot(history.history['accuracy'])\n",
    "plt.plot(history.history['val_accuracy'])\n",
    "plt.title('model accuracy')\n",
    "plt.ylabel('accuracy')\n",
    "plt.xlabel('epoch')\n",
    "plt.legend(['train', 'val'], loc='upper left')\n",
    "plt.show()"
   ]
  },
  {
   "cell_type": "markdown",
   "id": "509c2bc2",
   "metadata": {},
   "source": [
    "繪製圖表觀察每個 epoch 對應的 model accuracy"
   ]
  },
  {
   "cell_type": "code",
   "execution_count": null,
   "id": "9694b6e8",
   "metadata": {},
   "outputs": [],
   "source": [
    "plt.plot(history.history['loss'])\n",
    "plt.plot(history.history['val_loss'])\n",
    "plt.title('model loss')\n",
    "plt.ylabel('loss')\n",
    "plt.xlabel('epoch')\n",
    "plt.legend(['train', 'val'], loc='upper left')\n",
    "plt.show()"
   ]
  },
  {
   "cell_type": "markdown",
   "id": "4102e114",
   "metadata": {},
   "source": [
    "繪製 Confusion Matrix 觀察模型在各個類別的預測表現"
   ]
  },
  {
   "cell_type": "code",
   "execution_count": null,
   "id": "55e98a92",
   "metadata": {},
   "outputs": [],
   "source": [
    "import numpy as np\n",
    "import matplotlib.pyplot as plt\n",
    "from sklearn.metrics import confusion_matrix\n",
    "import seaborn as sns\n",
    "\n",
    "y_pred = model.predict(x_valid_normalization)\n",
    "y_pred_classes = np.argmax(y_pred, axis=1)\n",
    "y_true_classes = np.argmax(y_valid_encoding, axis=1)\n",
    "\n",
    "conf_matrix = confusion_matrix(y_true_classes, y_pred_classes)\n",
    "\n",
    "class_labels = ['0', '1', '2', '3', '4', '5', '6', '7', '8', '9']\n",
    "\n",
    "plt.figure(figsize=(10, 8))\n",
    "sns.heatmap(conf_matrix, annot=True, fmt=\"d\", cmap=\"Blues\", xticklabels=class_labels, yticklabels=class_labels)\n",
    "plt.xlabel(\"Predicted Label\")\n",
    "plt.ylabel(\"True Label\")\n",
    "plt.title(\"Confusion Matrix\")\n",
    "plt.show()"
   ]
  },
  {
   "cell_type": "markdown",
   "id": "c721138a-4fc1-4af4-bf57-bccaab9e013c",
   "metadata": {},
   "source": [
    "**補充**\n",
    "- fit(train) model vs. tune model?\n",
    "  - fit(train) model: Training refers to the process of using a machine learning algorithm to learn the relationship between input data and the corresponding target outputs.\n",
    "  - tune model: Tuning refers to the process of adjusting hyperparameters of a machine learning model to improve its performance. "
   ]
  },
  {
   "cell_type": "markdown",
   "id": "494fe8f4",
   "metadata": {},
   "source": [
    "## 使用模型"
   ]
  },
  {
   "cell_type": "markdown",
   "id": "24e46f0c",
   "metadata": {},
   "source": [
    "### 儲存模型"
   ]
  },
  {
   "cell_type": "code",
   "execution_count": null,
   "id": "20afa077",
   "metadata": {},
   "outputs": [],
   "source": [
    "model.save(\"model/mnist.h5\")"
   ]
  },
  {
   "cell_type": "markdown",
   "id": "137ca2f2",
   "metadata": {},
   "source": [
    "### 載入模型"
   ]
  },
  {
   "cell_type": "code",
   "execution_count": null,
   "id": "26e5f659",
   "metadata": {},
   "outputs": [],
   "source": [
    "model_load = keras.models.load_model(\"model/mnist.h5\")\n",
    "model_load.summary()"
   ]
  },
  {
   "cell_type": "markdown",
   "id": "d79bea84",
   "metadata": {},
   "source": [
    "### 預測圖像\n",
    "先拿資料集當中的圖片來試試"
   ]
  },
  {
   "cell_type": "markdown",
   "id": "7e313556",
   "metadata": {},
   "source": [
    "查看圖像"
   ]
  },
  {
   "cell_type": "code",
   "execution_count": null,
   "id": "cb2cd9b0",
   "metadata": {},
   "outputs": [],
   "source": [
    "image = x_valid[2024]\n",
    "plt.imshow(image, cmap='gray')"
   ]
  },
  {
   "cell_type": "markdown",
   "id": "f3af380c",
   "metadata": {},
   "source": [
    "查看圖像的資料型態"
   ]
  },
  {
   "cell_type": "code",
   "execution_count": null,
   "id": "59bd3a0d",
   "metadata": {},
   "outputs": [],
   "source": [
    "predict_img_origin = x_valid[2024]\n",
    "print(f\"這張圖片的資料尺寸：{predict_img_origin.shape}\")\n",
    "print(f\"這張圖片的資料型態：{predict_img_origin.dtype}\")"
   ]
  },
  {
   "cell_type": "markdown",
   "id": "166bdef9",
   "metadata": {},
   "source": [
    "圖像資料前處理"
   ]
  },
  {
   "cell_type": "code",
   "execution_count": null,
   "id": "f2daefc9",
   "metadata": {},
   "outputs": [],
   "source": [
    "predict_img = (predict_img_origin/255).reshape(1,784).astype(\"float32\")\n",
    "predict_img"
   ]
  },
  {
   "cell_type": "markdown",
   "id": "29f1b3ad",
   "metadata": {},
   "source": [
    "預測圖像"
   ]
  },
  {
   "cell_type": "code",
   "execution_count": null,
   "id": "4f6d1fba",
   "metadata": {},
   "outputs": [],
   "source": [
    "import numpy as np\n",
    "\n",
    "predictions = model_load.predict(predict_img)\n",
    "predicted_classes = np.argmax(predictions, axis=1)\n",
    "\n",
    "print(f\"預測結果數值：{predictions}\")\n",
    "print(f\"預測的結果類別：{predicted_classes}\")"
   ]
  },
  {
   "cell_type": "markdown",
   "id": "67947161",
   "metadata": {},
   "source": [
    "### 預測自己拍攝的圖像"
   ]
  },
  {
   "cell_type": "markdown",
   "id": "d2474295",
   "metadata": {},
   "source": [
    "載入與查看原始圖片"
   ]
  },
  {
   "cell_type": "code",
   "execution_count": null,
   "id": "7ea62f55",
   "metadata": {},
   "outputs": [],
   "source": [
    "from PIL import Image, ImageOps\n",
    "from matplotlib import pyplot as plt\n",
    "\n",
    "image_dir = 'images/two_yellow_bg.jpg' # six_blue_bg.jpg\n",
    "image = Image.open(image_dir)\n",
    "# 如果圖片讀取後方向不對，可以用下面這行解決，不過方向不對理論上不影響結果\n",
    "# image = image.transpose(Image.ROTATE_270)\n",
    "\n",
    "plt.imshow(image)\n",
    "plt.axis('off') # 不顯示座標軸\n",
    "plt.show()"
   ]
  },
  {
   "cell_type": "markdown",
   "id": "fc567da9",
   "metadata": {},
   "source": [
    "將圖像前處理"
   ]
  },
  {
   "cell_type": "code",
   "execution_count": null,
   "id": "17fa74e3",
   "metadata": {},
   "outputs": [],
   "source": [
    "import cv2\n",
    "import numpy as np\n",
    "\n",
    "image = cv2.imread(image_dir)\n",
    "image_resized = cv2.resize(image, (28, 28)) #調整長寬 px\n",
    "image_gray = cv2.cvtColor(image_resized, cv2.COLOR_BGR2GRAY) #轉換成灰階\n",
    "\n",
    "plt.imshow(image_gray, cmap='gray')\n",
    "plt.axis('off')\n",
    "plt.show()"
   ]
  },
  {
   "cell_type": "code",
   "execution_count": null,
   "id": "0a121ed6",
   "metadata": {},
   "outputs": [],
   "source": [
    "def check_backgroud_black(lst):\n",
    "    count = sum(1 for color_code in lst if color_code < 100)\n",
    "    return count >= 3\n",
    "\n",
    "# 以三個角落（背景）來認定圖片是否需要反轉色彩\n",
    "four_corner = [image_gray[2, 4], image_gray[2, 25], image_gray[25, 2], image_gray[25, 25]]\n",
    "if check_backgroud_black(four_corner) == True:\n",
    "    predict_img = (image_gray/255).reshape(1,784).astype('float32')\n",
    "else:\n",
    "    inverted_image = cv2.bitwise_not(image_gray)\n",
    "    plt.imshow(inverted_image, cmap='gray')\n",
    "    plt.axis('off')\n",
    "    plt.show()\n",
    "    predict_img = (inverted_image/255).reshape(1,784).astype('float32')"
   ]
  },
  {
   "cell_type": "markdown",
   "id": "99a9804d",
   "metadata": {},
   "source": [
    "預測圖像"
   ]
  },
  {
   "cell_type": "code",
   "execution_count": null,
   "id": "7ed9b9bb",
   "metadata": {},
   "outputs": [],
   "source": [
    "predictions = model_load.predict(predict_img)\n",
    "predicted_classes = np.argmax(predictions, axis=1)\n",
    "\n",
    "print(f\"預測結果數值：{predictions}\")\n",
    "print(f\"預測的結果類別：{predicted_classes}\")"
   ]
  }
 ],
 "metadata": {
  "kernelspec": {
   "display_name": "Python 3 (ipykernel)",
   "language": "python",
   "name": "python3"
  },
  "language_info": {
   "codemirror_mode": {
    "name": "ipython",
    "version": 3
   },
   "file_extension": ".py",
   "mimetype": "text/x-python",
   "name": "python",
   "nbconvert_exporter": "python",
   "pygments_lexer": "ipython3",
   "version": "3.10.11"
  },
  "toc-autonumbering": false,
  "toc-showcode": false,
  "toc-showmarkdowntxt": false,
  "toc-showtags": false
 },
 "nbformat": 4,
 "nbformat_minor": 5
}
