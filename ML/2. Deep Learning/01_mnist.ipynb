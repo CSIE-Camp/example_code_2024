{
 "cells": [
  {
   "cell_type": "markdown",
   "id": "bdebfc25-ed01-44be-be97-ff6450348dd2",
   "metadata": {
    "tags": []
   },
   "source": [
    "# Image Classification with MNIST dataset\n",
    "> NTNU CSIE Camp 2024"
   ]
  },
  {
   "cell_type": "markdown",
   "id": "81bf02e1-c62f-4482-83b0-33fcc0b692b5",
   "metadata": {},
   "source": [
    "---"
   ]
  },
  {
   "cell_type": "markdown",
   "id": "cd5decdc-0328-42d2-996c-536606d975a7",
   "metadata": {
    "tags": []
   },
   "source": [
    "## MNIST 資料集\n",
    "> [THE MNIST DATABASE](http://yann.lecun.com/exdb/mnist/)"
   ]
  },
  {
   "cell_type": "markdown",
   "id": "b4652dc8-edc5-4577-a285-e7d658cc0101",
   "metadata": {},
   "source": [
    "由 70,000 張從 0 到 9 手寫數字灰階影像組成"
   ]
  },
  {
   "cell_type": "markdown",
   "id": "429fbe85-6d29-41f7-bc3d-24aacb3d017a",
   "metadata": {},
   "source": [
    "以下是 MNIST 資料集包含的其中 40 張影像："
   ]
  },
  {
   "cell_type": "markdown",
   "id": "8d4bb700-75a5-49d8-b3c2-c01600929d2f",
   "metadata": {},
   "source": [
    "<img src=\"images/mnist.png\" style=\"width: 600px;\">"
   ]
  },
  {
   "cell_type": "markdown",
   "id": "4b4a3bf5-7e78-442b-a5c5-be99f15d385d",
   "metadata": {
    "tags": []
   },
   "source": [
    "## 訓練及驗證資料與標籤"
   ]
  },
  {
   "cell_type": "markdown",
   "id": "e5db3b97-9dee-4ce0-97e7-8af5305ec12c",
   "metadata": {},
   "source": [
    "1. `x_train`：用於訓練神經網路的影像<br>\n",
    "2. `y_train`：`x_train` 影像的正確標籤，用於評估模型在訓練過程中的預測表現<br>\n",
    "3. `x_valid`：另外一組影像，用於驗證模型經過訓練後的效能<br>\n",
    "4. `y_valid`：`x_valid` 影像的正確標籤，用於評估模型經過訓練後的預測表現<br>\n",
    "\n",
    "**補充**\n",
    "> + Definitions of Train, Validation, and Test Datasets\n",
    "    + Training Dataset: The sample of data used to fit the model.\n",
    "    + Validation Dataset: The sample of data used to provide an unbiased evaluation of a model fit on the training dataset while tuning model hyperparameters. The evaluation becomes more biased as skill on the validation dataset is incorporated into the model configuration.\n",
    "    + Test Dataset: The sample of data used to provide an unbiased evaluation of a final model fit on the training dataset.\n",
    "\n",
    "\n",
    "> + 曾有書裡面是這麼說的\n",
    ">   + Training set: A set of examples used for learning, that is to fit the parameters of the classifier.\n",
    ">   + Validation set: A set of examples used to tune the parameters of a classifier, for example to choose the number of hidden units in a neural network.\n",
    ">   + Test set: A set of examples used only to assess the performance of a fully-specified classifier.  \n",
    ">\n",
    ">   Brian Ripley, page 354, Pattern Recognition and Neural Networks, 1996"
   ]
  },
  {
   "cell_type": "markdown",
   "id": "896ed99a-1fe9-43ea-a71c-34da952eb832",
   "metadata": {
    "tags": []
   },
   "source": [
    "## 將資料載入"
   ]
  },
  {
   "cell_type": "markdown",
   "id": "5754b065-aa69-4424-bec7-e0c3c779661f",
   "metadata": {},
   "source": [
    "載入 MNIST 資料集"
   ]
  },
  {
   "cell_type": "code",
   "execution_count": null,
   "id": "558dc68d-587f-475b-afa8-83189f829dfc",
   "metadata": {},
   "outputs": [],
   "source": [
    "from tensorflow.keras.datasets import mnist"
   ]
  },
  {
   "cell_type": "markdown",
   "id": "51b3dffb-2d50-44e1-bb43-b0949d297442",
   "metadata": {},
   "source": [
    "載入 MNIST 資料，資料已分割成影像和標籤，可用於訓練與驗證"
   ]
  },
  {
   "cell_type": "code",
   "execution_count": 2,
   "id": "c45f6c66-ab06-40ee-bd9d-addbe4bb2446",
   "metadata": {},
   "outputs": [],
   "source": [
    "# the data, split between train and validation sets\n",
    "(x_train, y_train), (x_valid, y_valid) = mnist.load_data()"
   ]
  },
  {
   "cell_type": "markdown",
   "id": "b21b43d8-2f03-473b-a940-534b208d6bb3",
   "metadata": {},
   "source": [
    "## 探索 MNIST 資料"
   ]
  },
  {
   "cell_type": "code",
   "execution_count": 3,
   "id": "832fb49e-5f6c-4a78-ae26-073d72dd3670",
   "metadata": {},
   "outputs": [
    {
     "data": {
      "text/plain": [
       "(60000, 28, 28)"
      ]
     },
     "execution_count": 3,
     "metadata": {},
     "output_type": "execute_result"
    }
   ],
   "source": [
    "x_train.shape # (筆數, 資料 x 軸像素, 資料 y 軸像素)"
   ]
  },
  {
   "cell_type": "code",
   "execution_count": 4,
   "id": "0e80b155-a7f4-4cdf-a033-88343361165b",
   "metadata": {},
   "outputs": [
    {
     "data": {
      "text/plain": [
       "(10000, 28, 28)"
      ]
     },
     "execution_count": 4,
     "metadata": {},
     "output_type": "execute_result"
    }
   ],
   "source": [
    "x_valid.shape"
   ]
  },
  {
   "cell_type": "code",
   "execution_count": 5,
   "id": "fc182186-c4a3-40ba-a50e-95d9d85113cc",
   "metadata": {},
   "outputs": [
    {
     "data": {
      "text/plain": [
       "dtype('uint8')"
      ]
     },
     "execution_count": 5,
     "metadata": {},
     "output_type": "execute_result"
    }
   ],
   "source": [
    "x_train.dtype"
   ]
  },
  {
   "cell_type": "code",
   "execution_count": 6,
   "id": "f2369a06-df9b-4086-a4a4-27510132aab0",
   "metadata": {},
   "outputs": [
    {
     "data": {
      "text/plain": [
       "0"
      ]
     },
     "execution_count": 6,
     "metadata": {},
     "output_type": "execute_result"
    }
   ],
   "source": [
    "x_train.min()"
   ]
  },
  {
   "cell_type": "code",
   "execution_count": 7,
   "id": "71aa0cfd-ce8c-4aab-aa17-f7acfb423364",
   "metadata": {},
   "outputs": [
    {
     "data": {
      "text/plain": [
       "255"
      ]
     },
     "execution_count": 7,
     "metadata": {},
     "output_type": "execute_result"
    }
   ],
   "source": [
    "x_train.max()"
   ]
  },
  {
   "cell_type": "code",
   "execution_count": 8,
   "id": "10b5dfcd-e772-4e6e-b751-f99cda140b9a",
   "metadata": {
    "tags": []
   },
   "outputs": [
    {
     "data": {
      "text/plain": [
       "array([[  0,   0,   0,   0,   0,   0,   0,   0,   0,   0,   0,   0,   0,\n",
       "          0,   0,   0,   0,   0,   0,   0,   0,   0,   0,   0,   0,   0,\n",
       "          0,   0],\n",
       "       [  0,   0,   0,   0,   0,   0,   0,   0,   0,   0,   0,   0,   0,\n",
       "          0,   0,   0,   0,   0,   0,   0,   0,   0,   0,   0,   0,   0,\n",
       "          0,   0],\n",
       "       [  0,   0,   0,   0,   0,   0,   0,   0,   0,   0,   0,   0,   0,\n",
       "          0,   0,   0,   0,   0,   0,   0,   0,   0,   0,   0,   0,   0,\n",
       "          0,   0],\n",
       "       [  0,   0,   0,   0,   0,   0,   0,   0,   0,   0,   0,   0,   0,\n",
       "          0,   0,   0,   0,   0,   0,   0,   0,   0,   0,   0,   0,   0,\n",
       "          0,   0],\n",
       "       [  0,   0,   0,   0,   0,   0,   0,   0,   0,   0,   0,   0,   0,\n",
       "          0,   0,   0,   0,   0,   0,   0,   0,   0,   0,   0,   0,   0,\n",
       "          0,   0],\n",
       "       [  0,   0,   0,   0,   0,   0,   0,   0,   0,   0,   0,   0,   3,\n",
       "         18,  18,  18, 126, 136, 175,  26, 166, 255, 247, 127,   0,   0,\n",
       "          0,   0],\n",
       "       [  0,   0,   0,   0,   0,   0,   0,   0,  30,  36,  94, 154, 170,\n",
       "        253, 253, 253, 253, 253, 225, 172, 253, 242, 195,  64,   0,   0,\n",
       "          0,   0],\n",
       "       [  0,   0,   0,   0,   0,   0,   0,  49, 238, 253, 253, 253, 253,\n",
       "        253, 253, 253, 253, 251,  93,  82,  82,  56,  39,   0,   0,   0,\n",
       "          0,   0],\n",
       "       [  0,   0,   0,   0,   0,   0,   0,  18, 219, 253, 253, 253, 253,\n",
       "        253, 198, 182, 247, 241,   0,   0,   0,   0,   0,   0,   0,   0,\n",
       "          0,   0],\n",
       "       [  0,   0,   0,   0,   0,   0,   0,   0,  80, 156, 107, 253, 253,\n",
       "        205,  11,   0,  43, 154,   0,   0,   0,   0,   0,   0,   0,   0,\n",
       "          0,   0],\n",
       "       [  0,   0,   0,   0,   0,   0,   0,   0,   0,  14,   1, 154, 253,\n",
       "         90,   0,   0,   0,   0,   0,   0,   0,   0,   0,   0,   0,   0,\n",
       "          0,   0],\n",
       "       [  0,   0,   0,   0,   0,   0,   0,   0,   0,   0,   0, 139, 253,\n",
       "        190,   2,   0,   0,   0,   0,   0,   0,   0,   0,   0,   0,   0,\n",
       "          0,   0],\n",
       "       [  0,   0,   0,   0,   0,   0,   0,   0,   0,   0,   0,  11, 190,\n",
       "        253,  70,   0,   0,   0,   0,   0,   0,   0,   0,   0,   0,   0,\n",
       "          0,   0],\n",
       "       [  0,   0,   0,   0,   0,   0,   0,   0,   0,   0,   0,   0,  35,\n",
       "        241, 225, 160, 108,   1,   0,   0,   0,   0,   0,   0,   0,   0,\n",
       "          0,   0],\n",
       "       [  0,   0,   0,   0,   0,   0,   0,   0,   0,   0,   0,   0,   0,\n",
       "         81, 240, 253, 253, 119,  25,   0,   0,   0,   0,   0,   0,   0,\n",
       "          0,   0],\n",
       "       [  0,   0,   0,   0,   0,   0,   0,   0,   0,   0,   0,   0,   0,\n",
       "          0,  45, 186, 253, 253, 150,  27,   0,   0,   0,   0,   0,   0,\n",
       "          0,   0],\n",
       "       [  0,   0,   0,   0,   0,   0,   0,   0,   0,   0,   0,   0,   0,\n",
       "          0,   0,  16,  93, 252, 253, 187,   0,   0,   0,   0,   0,   0,\n",
       "          0,   0],\n",
       "       [  0,   0,   0,   0,   0,   0,   0,   0,   0,   0,   0,   0,   0,\n",
       "          0,   0,   0,   0, 249, 253, 249,  64,   0,   0,   0,   0,   0,\n",
       "          0,   0],\n",
       "       [  0,   0,   0,   0,   0,   0,   0,   0,   0,   0,   0,   0,   0,\n",
       "          0,  46, 130, 183, 253, 253, 207,   2,   0,   0,   0,   0,   0,\n",
       "          0,   0],\n",
       "       [  0,   0,   0,   0,   0,   0,   0,   0,   0,   0,   0,   0,  39,\n",
       "        148, 229, 253, 253, 253, 250, 182,   0,   0,   0,   0,   0,   0,\n",
       "          0,   0],\n",
       "       [  0,   0,   0,   0,   0,   0,   0,   0,   0,   0,  24, 114, 221,\n",
       "        253, 253, 253, 253, 201,  78,   0,   0,   0,   0,   0,   0,   0,\n",
       "          0,   0],\n",
       "       [  0,   0,   0,   0,   0,   0,   0,   0,  23,  66, 213, 253, 253,\n",
       "        253, 253, 198,  81,   2,   0,   0,   0,   0,   0,   0,   0,   0,\n",
       "          0,   0],\n",
       "       [  0,   0,   0,   0,   0,   0,  18, 171, 219, 253, 253, 253, 253,\n",
       "        195,  80,   9,   0,   0,   0,   0,   0,   0,   0,   0,   0,   0,\n",
       "          0,   0],\n",
       "       [  0,   0,   0,   0,  55, 172, 226, 253, 253, 253, 253, 244, 133,\n",
       "         11,   0,   0,   0,   0,   0,   0,   0,   0,   0,   0,   0,   0,\n",
       "          0,   0],\n",
       "       [  0,   0,   0,   0, 136, 253, 253, 253, 212, 135, 132,  16,   0,\n",
       "          0,   0,   0,   0,   0,   0,   0,   0,   0,   0,   0,   0,   0,\n",
       "          0,   0],\n",
       "       [  0,   0,   0,   0,   0,   0,   0,   0,   0,   0,   0,   0,   0,\n",
       "          0,   0,   0,   0,   0,   0,   0,   0,   0,   0,   0,   0,   0,\n",
       "          0,   0],\n",
       "       [  0,   0,   0,   0,   0,   0,   0,   0,   0,   0,   0,   0,   0,\n",
       "          0,   0,   0,   0,   0,   0,   0,   0,   0,   0,   0,   0,   0,\n",
       "          0,   0],\n",
       "       [  0,   0,   0,   0,   0,   0,   0,   0,   0,   0,   0,   0,   0,\n",
       "          0,   0,   0,   0,   0,   0,   0,   0,   0,   0,   0,   0,   0,\n",
       "          0,   0]], dtype=uint8)"
      ]
     },
     "execution_count": 8,
     "metadata": {},
     "output_type": "execute_result"
    }
   ],
   "source": [
    "x_train[0]"
   ]
  },
  {
   "cell_type": "markdown",
   "id": "6b36731c-d9cc-446f-9e51-aaf4ce88aff3",
   "metadata": {},
   "source": [
    "**可以發現**\n",
    "+ 影像本身是尺寸 28×28 的 2D 陣列\n",
    "+ 介於 0 到 255 的 8 bits unsinged integer（正整數值）"
   ]
  },
  {
   "cell_type": "markdown",
   "id": "e52e09c2-6a9f-470d-8e24-6e5c2d789d58",
   "metadata": {},
   "source": [
    "Data 視覺化"
   ]
  },
  {
   "cell_type": "code",
   "execution_count": 9,
   "id": "65cea69d-4bb4-4be2-9b7a-c4250446c56e",
   "metadata": {},
   "outputs": [
    {
     "data": {
      "text/plain": [
       "<matplotlib.image.AxesImage at 0x1a8b5098b20>"
      ]
     },
     "execution_count": 9,
     "metadata": {},
     "output_type": "execute_result"
    },
    {
     "data": {
      "image/png": "[encoded data removed]",
      "text/plain": [
       "<Figure size 432x288 with 1 Axes>"
      ]
     },
     "metadata": {
      "needs_background": "light"
     },
     "output_type": "display_data"
    }
   ],
   "source": [
    "import matplotlib.pyplot as plt\n",
    "\n",
    "image = x_train[0]\n",
    "plt.imshow(image, cmap='gray')"
   ]
  },
  {
   "cell_type": "markdown",
   "id": "0118e723-f4f7-49d0-a8d1-bae14e7cadf9",
   "metadata": {},
   "source": [
    "上面的那張圖是多少？（看 `label`）"
   ]
  },
  {
   "cell_type": "code",
   "execution_count": 10,
   "id": "cc5ef64a-7129-4680-b251-59db6a06f006",
   "metadata": {},
   "outputs": [
    {
     "data": {
      "text/plain": [
       "5"
      ]
     },
     "execution_count": 10,
     "metadata": {},
     "output_type": "execute_result"
    }
   ],
   "source": [
    "y_train[0]"
   ]
  },
  {
   "cell_type": "markdown",
   "id": "36c80a56-1d6d-42aa-991a-6a7727f2843e",
   "metadata": {},
   "source": [
    "## 資料前處理（Data Pre-processing）\n",
    "> 準備資料以進行訓練\n",
    "1. 扁平化（Flatten）影像資料，以簡化輸入至模型的影像資料。\n",
    "2. 正規化影像資料，讓影像輸入數值具有相同的尺度，提升模型收斂速度與成效。\n",
    "3. 分類標籤，讓標籤值無序數值化，調整成適合用於模型訓練的特徵空間。\n",
    "\n",
    "**補充**  \n",
    "> 了解更多關於基本資料前處理：https://medium.com/jameslearningnote/%E8%B3%87%E6%96%99%E5%88%86%E6%9E%90-%E6%A9%9F%E5%99%A8%E5%AD%B8%E7%BF%92-%E7%AC%AC2-4%E8%AC%9B-%E8%B3%87%E6%96%99%E5%89%8D%E8%99%95%E7%90%86-missing-data-one-hot-encoding-feature-scaling-3b70a7839b4a"
   ]
  },
  {
   "cell_type": "markdown",
   "id": "d7537591-8543-494e-a64b-4aab41f655e6",
   "metadata": {},
   "source": [
    "### 扁平化（Flatten）影像資料"
   ]
  },
  {
   "cell_type": "markdown",
   "id": "aac1e39f-a846-4080-aa38-febfce6f0caa",
   "metadata": {},
   "source": [
    "調整為連續像素的單一陣列"
   ]
  },
  {
   "cell_type": "code",
   "execution_count": 11,
   "id": "a2d21514-becf-4e3b-8f17-3e4d76ef9328",
   "metadata": {},
   "outputs": [],
   "source": [
    "# Keras API Helper\n",
    "x_valid_flatten = x_valid.reshape(10000, 784) # (資料筆數, 陣列長度)\n",
    "x_train_flatten = x_train.reshape(60000, 784)"
   ]
  },
  {
   "cell_type": "code",
   "execution_count": 12,
   "id": "d82467cc-30d2-4ca3-b1f2-48e992d3bc80",
   "metadata": {},
   "outputs": [
    {
     "data": {
      "text/plain": [
       "(60000, 784)"
      ]
     },
     "execution_count": 12,
     "metadata": {},
     "output_type": "execute_result"
    }
   ],
   "source": [
    "x_train_flatten.shape"
   ]
  },
  {
   "cell_type": "code",
   "execution_count": 13,
   "id": "3bdfe3a3-24ff-4ed1-9bd2-47efa122354f",
   "metadata": {},
   "outputs": [
    {
     "data": {
      "text/plain": [
       "array([  0,   0,   0,   0,   0,   0,   0,   0,   0,   0,   0,   0,   0,\n",
       "         0,   0,   0,   0,   0,   0,   0,   0,   0,   0,   0,   0,   0,\n",
       "         0,   0,   0,   0,   0,   0,   0,   0,   0,   0,   0,   0,   0,\n",
       "         0,   0,   0,   0,   0,   0,   0,   0,   0,   0,   0,   0,   0,\n",
       "         0,   0,   0,   0,   0,   0,   0,   0,   0,   0,   0,   0,   0,\n",
       "         0,   0,   0,   0,   0,   0,   0,   0,   0,   0,   0,   0,   0,\n",
       "         0,   0,   0,   0,   0,   0,   0,   0,   0,   0,   0,   0,   0,\n",
       "         0,   0,   0,   0,   0,   0,   0,   0,   0,   0,   0,   0,   0,\n",
       "         0,   0,   0,   0,   0,   0,   0,   0,   0,   0,   0,   0,   0,\n",
       "         0,   0,   0,   0,   0,   0,   0,   0,   0,   0,   0,   0,   0,\n",
       "         0,   0,   0,   0,   0,   0,   0,   0,   0,   0,   0,   0,   0,\n",
       "         0,   0,   0,   0,   0,   0,   0,   0,   0,   3,  18,  18,  18,\n",
       "       126, 136, 175,  26, 166, 255, 247, 127,   0,   0,   0,   0,   0,\n",
       "         0,   0,   0,   0,   0,   0,   0,  30,  36,  94, 154, 170, 253,\n",
       "       253, 253, 253, 253, 225, 172, 253, 242, 195,  64,   0,   0,   0,\n",
       "         0,   0,   0,   0,   0,   0,   0,   0,  49, 238, 253, 253, 253,\n",
       "       253, 253, 253, 253, 253, 251,  93,  82,  82,  56,  39,   0,   0,\n",
       "         0,   0,   0,   0,   0,   0,   0,   0,   0,   0,  18, 219, 253,\n",
       "       253, 253, 253, 253, 198, 182, 247, 241,   0,   0,   0,   0,   0,\n",
       "         0,   0,   0,   0,   0,   0,   0,   0,   0,   0,   0,   0,   0,\n",
       "        80, 156, 107, 253, 253, 205,  11,   0,  43, 154,   0,   0,   0,\n",
       "         0,   0,   0,   0,   0,   0,   0,   0,   0,   0,   0,   0,   0,\n",
       "         0,   0,   0,  14,   1, 154, 253,  90,   0,   0,   0,   0,   0,\n",
       "         0,   0,   0,   0,   0,   0,   0,   0,   0,   0,   0,   0,   0,\n",
       "         0,   0,   0,   0,   0,   0,   0, 139, 253, 190,   2,   0,   0,\n",
       "         0,   0,   0,   0,   0,   0,   0,   0,   0,   0,   0,   0,   0,\n",
       "         0,   0,   0,   0,   0,   0,   0,   0,   0,  11, 190, 253,  70,\n",
       "         0,   0,   0,   0,   0,   0,   0,   0,   0,   0,   0,   0,   0,\n",
       "         0,   0,   0,   0,   0,   0,   0,   0,   0,   0,   0,   0,  35,\n",
       "       241, 225, 160, 108,   1,   0,   0,   0,   0,   0,   0,   0,   0,\n",
       "         0,   0,   0,   0,   0,   0,   0,   0,   0,   0,   0,   0,   0,\n",
       "         0,   0,  81, 240, 253, 253, 119,  25,   0,   0,   0,   0,   0,\n",
       "         0,   0,   0,   0,   0,   0,   0,   0,   0,   0,   0,   0,   0,\n",
       "         0,   0,   0,   0,   0,  45, 186, 253, 253, 150,  27,   0,   0,\n",
       "         0,   0,   0,   0,   0,   0,   0,   0,   0,   0,   0,   0,   0,\n",
       "         0,   0,   0,   0,   0,   0,   0,   0,  16,  93, 252, 253, 187,\n",
       "         0,   0,   0,   0,   0,   0,   0,   0,   0,   0,   0,   0,   0,\n",
       "         0,   0,   0,   0,   0,   0,   0,   0,   0,   0,   0,   0, 249,\n",
       "       253, 249,  64,   0,   0,   0,   0,   0,   0,   0,   0,   0,   0,\n",
       "         0,   0,   0,   0,   0,   0,   0,   0,   0,   0,   0,  46, 130,\n",
       "       183, 253, 253, 207,   2,   0,   0,   0,   0,   0,   0,   0,   0,\n",
       "         0,   0,   0,   0,   0,   0,   0,   0,   0,   0,   0,  39, 148,\n",
       "       229, 253, 253, 253, 250, 182,   0,   0,   0,   0,   0,   0,   0,\n",
       "         0,   0,   0,   0,   0,   0,   0,   0,   0,   0,   0,  24, 114,\n",
       "       221, 253, 253, 253, 253, 201,  78,   0,   0,   0,   0,   0,   0,\n",
       "         0,   0,   0,   0,   0,   0,   0,   0,   0,   0,   0,  23,  66,\n",
       "       213, 253, 253, 253, 253, 198,  81,   2,   0,   0,   0,   0,   0,\n",
       "         0,   0,   0,   0,   0,   0,   0,   0,   0,   0,   0,  18, 171,\n",
       "       219, 253, 253, 253, 253, 195,  80,   9,   0,   0,   0,   0,   0,\n",
       "         0,   0,   0,   0,   0,   0,   0,   0,   0,   0,   0,  55, 172,\n",
       "       226, 253, 253, 253, 253, 244, 133,  11,   0,   0,   0,   0,   0,\n",
       "         0,   0,   0,   0,   0,   0,   0,   0,   0,   0,   0,   0,   0,\n",
       "       136, 253, 253, 253, 212, 135, 132,  16,   0,   0,   0,   0,   0,\n",
       "         0,   0,   0,   0,   0,   0,   0,   0,   0,   0,   0,   0,   0,\n",
       "         0,   0,   0,   0,   0,   0,   0,   0,   0,   0,   0,   0,   0,\n",
       "         0,   0,   0,   0,   0,   0,   0,   0,   0,   0,   0,   0,   0,\n",
       "         0,   0,   0,   0,   0,   0,   0,   0,   0,   0,   0,   0,   0,\n",
       "         0,   0,   0,   0,   0,   0,   0,   0,   0,   0,   0,   0,   0,\n",
       "         0,   0,   0,   0,   0,   0,   0,   0,   0,   0,   0,   0,   0,\n",
       "         0,   0,   0,   0,   0,   0,   0,   0,   0,   0,   0,   0,   0,\n",
       "         0,   0,   0,   0], dtype=uint8)"
      ]
     },
     "execution_count": 13,
     "metadata": {},
     "output_type": "execute_result"
    }
   ],
   "source": [
    "x_train_flatten[0]"
   ]
  },
  {
   "cell_type": "markdown",
   "id": "15548785-bd0d-4c6d-8695-fe0d2fddd606",
   "metadata": {},
   "source": [
    "### 正規化影像資料\n",
    "> Min-Max Normalization"
   ]
  },
  {
   "cell_type": "markdown",
   "id": "f6bcdca4-3652-485c-b107-71af7fc3b324",
   "metadata": {},
   "source": [
    "將整數值轉換為介於 0 和 1 的浮點值"
   ]
  },
  {
   "cell_type": "code",
   "execution_count": 14,
   "id": "6727d695-72cc-4a28-8d99-9a0b73a3ff7d",
   "metadata": {},
   "outputs": [],
   "source": [
    "x_train_normalization = x_train_flatten / 255\n",
    "x_valid_normalization = x_valid_flatten / 255 "
   ]
  },
  {
   "cell_type": "code",
   "execution_count": 15,
   "id": "f64934cb-e095-44d8-ae91-b1ef547ca3fc",
   "metadata": {},
   "outputs": [
    {
     "data": {
      "text/plain": [
       "dtype('float64')"
      ]
     },
     "execution_count": 15,
     "metadata": {},
     "output_type": "execute_result"
    }
   ],
   "source": [
    "x_train_normalization.dtype"
   ]
  },
  {
   "cell_type": "code",
   "execution_count": 16,
   "id": "51dfe5a7-e997-42fe-9d78-7db7aab6b95f",
   "metadata": {},
   "outputs": [
    {
     "data": {
      "text/plain": [
       "0.0"
      ]
     },
     "execution_count": 16,
     "metadata": {},
     "output_type": "execute_result"
    }
   ],
   "source": [
    "x_train_normalization.min()"
   ]
  },
  {
   "cell_type": "code",
   "execution_count": 17,
   "id": "e298fc51-e50b-4d3c-9556-cfdeb97786b0",
   "metadata": {},
   "outputs": [
    {
     "data": {
      "text/plain": [
       "1.0"
      ]
     },
     "execution_count": 17,
     "metadata": {},
     "output_type": "execute_result"
    }
   ],
   "source": [
    "x_train_normalization.max()"
   ]
  },
  {
   "cell_type": "markdown",
   "id": "b75c4068-9058-41f0-af51-67f18d6077c9",
   "metadata": {},
   "source": [
    "### 分類編碼\n",
    "> One Hot Encoding"
   ]
  },
  {
   "cell_type": "markdown",
   "id": "549301a3-1d47-485e-b1ec-5b1f988cfcaf",
   "metadata": {},
   "source": [
    "舉例：\n",
    "|實際數字| 是紅色嗎？| 是藍色嗎？| 是綠色嗎？|\n",
    "|------------|---------|----------|----------|\n",
    "|紅色|1|0|0|\n",
    "|綠色|0|0|1|\n",
    "|藍色|0|1|0|\n",
    "\n",
    "也就是\n",
    "\n",
    "```python\n",
    "values = ['red, green, blue']\n",
    "```\n",
    "\n",
    "轉換為\n",
    "\n",
    "```python\n",
    "values = [\n",
    "    [1, 0, 0],\n",
    "    [0, 0, 1],\n",
    "    [0, 1, 0]\n",
    "]\n",
    "```"
   ]
  },
  {
   "cell_type": "markdown",
   "id": "cb0785a3",
   "metadata": {},
   "source": [
    "**補充**  \n",
    "> 其他情境下的 encoding 方式與優缺點：  \n",
    "https://axk51013.medium.com/%E4%B8%8D%E8%A6%81%E5%86%8D%E5%81%9Aone-hot-encoding-b5126d3f8a63 "
   ]
  },
  {
   "cell_type": "code",
   "execution_count": 18,
   "id": "4b61b009-ca92-40c0-8dbc-16c43282284a",
   "metadata": {
    "tags": []
   },
   "outputs": [],
   "source": [
    "import tensorflow.keras as keras\n",
    "num_categories = 10 # 有幾個類別\n",
    "\n",
    "y_train_encoding = keras.utils.to_categorical(y_train, num_categories)\n",
    "y_valid_encoding = keras.utils.to_categorical(y_valid, num_categories)"
   ]
  },
  {
   "cell_type": "code",
   "execution_count": 19,
   "id": "5d93ec74-45b6-4d8e-a81e-641929d2d295",
   "metadata": {},
   "outputs": [
    {
     "data": {
      "text/plain": [
       "array([[0., 0., 0., 0., 0., 1., 0., 0., 0., 0.],\n",
       "       [1., 0., 0., 0., 0., 0., 0., 0., 0., 0.],\n",
       "       [0., 0., 0., 0., 1., 0., 0., 0., 0., 0.],\n",
       "       [0., 1., 0., 0., 0., 0., 0., 0., 0., 0.],\n",
       "       [0., 0., 0., 0., 0., 0., 0., 0., 0., 1.],\n",
       "       [0., 0., 1., 0., 0., 0., 0., 0., 0., 0.],\n",
       "       [0., 1., 0., 0., 0., 0., 0., 0., 0., 0.],\n",
       "       [0., 0., 0., 1., 0., 0., 0., 0., 0., 0.],\n",
       "       [0., 1., 0., 0., 0., 0., 0., 0., 0., 0.]], dtype=float32)"
      ]
     },
     "execution_count": 19,
     "metadata": {},
     "output_type": "execute_result"
    }
   ],
   "source": [
    "y_train_encoding[0:9]"
   ]
  },
  {
   "cell_type": "markdown",
   "id": "ede65908-67d5-41ed-9c03-033c52d0c4f1",
   "metadata": {
    "tags": []
   },
   "source": [
    "## 建立模型"
   ]
  },
  {
   "cell_type": "markdown",
   "id": "2a5dc4bb-e0bd-438c-a3a5-790550c89ef5",
   "metadata": {},
   "source": [
    "1. 輸入層（Input Layer），負責接收某種預期格式的資料\n",
    "2. 數個隱藏層（Hidden Layer），各由多個神經元（NN）組成。每個神經元都會依權重（Weight）影響到網路的猜測，權重值會隨著網路獲得效能和學習的回饋而在多次迭代中更新。\n",
    "3. 輸出層（Output Layer），負責呈現網路對特定影像的猜測"
   ]
  },
  {
   "cell_type": "markdown",
   "id": "775b9c36-ed90-400f-87ce-9754a5fb8625",
   "metadata": {},
   "source": [
    "### 具現化模型"
   ]
  },
  {
   "cell_type": "code",
   "execution_count": 20,
   "id": "00679886-8d94-42db-880d-20890cab764f",
   "metadata": {},
   "outputs": [],
   "source": [
    "from tensorflow.keras.models import Sequential\n",
    "\n",
    "model = Sequential()"
   ]
  },
  {
   "cell_type": "markdown",
   "id": "29af66de-169c-4c06-b61c-b92eddac6549",
   "metadata": {
    "tags": []
   },
   "source": [
    "### 建立輸入層\n",
    "+ 使用 Keras 的 Dense，其中的每個神經元及其權重，都會影響下一層的每個神經元。\n",
    "+ 使用 `relu` 激活函數（Activation Function），使我們的 network 學會如何對資料進行更複雜的推測\n",
    "+ `input_shape` 值會指定傳入資料的形狀\n",
    "+ `unit` 引數（argument）為神經元數量\n",
    "\n",
    "**補充**\n",
    "> - NN 中 Weight 更新全中是如何運作的 👉[何謂 BP](https://medium.com/ai-academy-taiwan/back-propagation-3946e8ed8c55)\n",
    "> - ACT 也就是所謂 Activation Function 是在做什麼 👉[何謂 ACT](https://medium.com/%E6%B7%B1%E6%80%9D%E5%BF%83%E6%80%9D/ml08-activation-function-%E6%98%AF%E4%BB%80%E9%BA%BC-15ec78fa1ce4)"
   ]
  },
  {
   "cell_type": "code",
   "execution_count": 21,
   "id": "93b2d7d5-4690-4731-bdb0-74e7fe1282d2",
   "metadata": {},
   "outputs": [],
   "source": [
    "from tensorflow.keras.layers import Dense\n",
    "\n",
    "model.add(Dense(units=512, activation='relu', input_shape=(784,)))"
   ]
  },
  {
   "cell_type": "markdown",
   "id": "cbc319dd-e637-4d26-ac83-ba3eda43df0a",
   "metadata": {},
   "source": [
    "### 建立隱藏層"
   ]
  },
  {
   "cell_type": "code",
   "execution_count": 22,
   "id": "c0cf55f2-2116-424e-b4f0-d321400e669a",
   "metadata": {},
   "outputs": [],
   "source": [
    "model.add(Dense(units = 512, activation='relu'))"
   ]
  },
  {
   "cell_type": "markdown",
   "id": "18410a02-a929-4d04-a381-e9812529a1cc",
   "metadata": {},
   "source": [
    "### 建立輸出層\n",
    "+ 使用激活函數 `softmax`，這會使層中每一個值成為介於 0 和 1 的機率（加總值為 1）"
   ]
  },
  {
   "cell_type": "code",
   "execution_count": 23,
   "id": "d8fd414c-e9d6-406e-90ba-cfdc25f0fdb0",
   "metadata": {},
   "outputs": [],
   "source": [
    "model.add(Dense(units=10, activation='softmax'))"
   ]
  },
  {
   "cell_type": "markdown",
   "id": "a89fe033-cbe9-4e82-8eea-04cf408e7c0d",
   "metadata": {},
   "source": [
    "### 總結模型\n",
    "模型的摘要"
   ]
  },
  {
   "cell_type": "code",
   "execution_count": 24,
   "id": "77e86553-f1b1-4fde-847f-3f51be6d6395",
   "metadata": {},
   "outputs": [
    {
     "name": "stdout",
     "output_type": "stream",
     "text": [
      "Model: \"sequential\"\n",
      "_________________________________________________________________\n",
      " Layer (type)                Output Shape              Param #   \n",
      "=================================================================\n",
      " dense (Dense)               (None, 512)               401920    \n",
      "                                                                 \n",
      " dense_1 (Dense)             (None, 512)               262656    \n",
      "                                                                 \n",
      " dense_2 (Dense)             (None, 10)                5130      \n",
      "                                                                 \n",
      "=================================================================\n",
      "Total params: 669,706\n",
      "Trainable params: 669,706\n",
      "Non-trainable params: 0\n",
      "_________________________________________________________________\n"
     ]
    }
   ],
   "source": [
    "model.summary()"
   ]
  },
  {
   "cell_type": "markdown",
   "id": "a6c4d2dd-49e0-4d85-8520-0b03513d86e7",
   "metadata": {},
   "source": [
    "**補充**\n",
    "> - Hyperparameter, Parameter...?\n",
    ">   - Hyperparameter: A hyperparameter is a variable that is set before the training process begins. They control the learning process and determine the values of model parameters that a learning algorithm ends up learning. For example, learning rate, batch size and choice of activation function are hyperparameters.\n",
    ">   - Parameter: A parameter is a variable that is learned from the data during the training process. It is used to represent the underlying relationships in the data and is used to make predictions on new data. For example, in a neural network, the weights and biases are parameters."
   ]
  },
  {
   "cell_type": "markdown",
   "id": "ab7c13ed-6506-4e23-a733-cd138e1d928f",
   "metadata": {},
   "source": [
    "### 編譯模型"
   ]
  },
  {
   "cell_type": "code",
   "execution_count": 25,
   "id": "d0a7890d-6bd2-491a-bc79-50dc65a0f92e",
   "metadata": {},
   "outputs": [],
   "source": [
    "model.compile(loss='categorical_crossentropy', metrics=['accuracy'])"
   ]
  },
  {
   "cell_type": "markdown",
   "id": "db2ce419-6716-4a25-ab65-a2bf0e5c523b",
   "metadata": {},
   "source": [
    "## 訓練模型\n",
    "+ **觀察準確度**\n",
    "  + 從 `accuracy` 可以看出模型在這個 Epoch 對所有訓練資料的表現如何\n",
    "  + 從 `val_accuracy` 可以看出模型在驗證資料上的表現"
   ]
  },
  {
   "cell_type": "code",
   "execution_count": 26,
   "id": "8b6bd1dd-f6e5-4415-a36e-a5712b96b368",
   "metadata": {},
   "outputs": [
    {
     "name": "stdout",
     "output_type": "stream",
     "text": [
      "Epoch 1/5\n",
      "1875/1875 [==============================] - 16s 8ms/step - loss: 0.1875 - accuracy: 0.9439 - val_loss: 0.0942 - val_accuracy: 0.9698\n",
      "Epoch 2/5\n",
      "1875/1875 [==============================] - 15s 8ms/step - loss: 0.0836 - accuracy: 0.9765 - val_loss: 0.0844 - val_accuracy: 0.9755\n",
      "Epoch 3/5\n",
      "1875/1875 [==============================] - 15s 8ms/step - loss: 0.0610 - accuracy: 0.9830 - val_loss: 0.0744 - val_accuracy: 0.9816\n",
      "Epoch 4/5\n",
      "1875/1875 [==============================] - 15s 8ms/step - loss: 0.0453 - accuracy: 0.9879 - val_loss: 0.0898 - val_accuracy: 0.9793\n",
      "Epoch 5/5\n",
      "1875/1875 [==============================] - 15s 8ms/step - loss: 0.0368 - accuracy: 0.9902 - val_loss: 0.0850 - val_accuracy: 0.9814\n"
     ]
    }
   ],
   "source": [
    "history = model.fit(\n",
    "    x_train_normalization, \n",
    "    y_train_encoding, \n",
    "    validation_split = 1, \n",
    "    epochs=5, \n",
    "    verbose=1, \n",
    "    #batch_size=10,\n",
    "    validation_data=(x_valid_normalization, y_valid_encoding) \n",
    ")"
   ]
  },
  {
   "cell_type": "markdown",
   "id": "365d0de1",
   "metadata": {},
   "source": [
    "繪製圖表觀察每個 epoch 對應的 model loss"
   ]
  },
  {
   "cell_type": "code",
   "execution_count": 27,
   "id": "1f13a882",
   "metadata": {},
   "outputs": [
    {
     "data": {
      "image/png": "[encoded data removed]",
      "text/plain": [
       "<Figure size 432x288 with 1 Axes>"
      ]
     },
     "metadata": {
      "needs_background": "light"
     },
     "output_type": "display_data"
    }
   ],
   "source": [
    "from matplotlib import pyplot as plt\n",
    "plt.plot(history.history['accuracy'])\n",
    "plt.plot(history.history['val_accuracy'])\n",
    "plt.title('model accuracy')\n",
    "plt.ylabel('accuracy')\n",
    "plt.xlabel('epoch')\n",
    "plt.legend(['train', 'val'], loc='upper left')\n",
    "plt.show()"
   ]
  },
  {
   "cell_type": "markdown",
   "id": "509c2bc2",
   "metadata": {},
   "source": [
    "繪製圖表觀察每個 epoch 對應的 model accuracy"
   ]
  },
  {
   "cell_type": "code",
   "execution_count": 28,
   "id": "9694b6e8",
   "metadata": {},
   "outputs": [
    {
     "data": {
      "image/png": "[encoded data removed]",
      "text/plain": [
       "<Figure size 432x288 with 1 Axes>"
      ]
     },
     "metadata": {
      "needs_background": "light"
     },
     "output_type": "display_data"
    }
   ],
   "source": [
    "plt.plot(history.history['loss'])\n",
    "plt.plot(history.history['val_loss'])\n",
    "plt.title('model loss')\n",
    "plt.ylabel('loss')\n",
    "plt.xlabel('epoch')\n",
    "plt.legend(['train', 'val'], loc='upper left')\n",
    "plt.show()"
   ]
  },
  {
   "cell_type": "markdown",
   "id": "4102e114",
   "metadata": {},
   "source": [
    "繪製 Confusion Matrix 觀察模型在各個類別的預測表現"
   ]
  },
  {
   "cell_type": "code",
   "execution_count": 29,
   "id": "55e98a92",
   "metadata": {},
   "outputs": [
    {
     "name": "stdout",
     "output_type": "stream",
     "text": [
      "313/313 [==============================] - 1s 2ms/step\n"
     ]
    },
    {
     "data": {
      "image/png": "[encoded data removed]",
      "text/plain": [
       "<Figure size 720x576 with 2 Axes>"
      ]
     },
     "metadata": {
      "needs_background": "light"
     },
     "output_type": "display_data"
    }
   ],
   "source": [
    "import numpy as np\n",
    "import matplotlib.pyplot as plt\n",
    "from sklearn.metrics import confusion_matrix\n",
    "import seaborn as sns\n",
    "\n",
    "y_pred = model.predict(x_valid_normalization)\n",
    "y_pred_classes = np.argmax(y_pred, axis=1)\n",
    "y_true_classes = np.argmax(y_valid_encoding, axis=1)\n",
    "\n",
    "conf_matrix = confusion_matrix(y_true_classes, y_pred_classes)\n",
    "\n",
    "class_labels = ['0', '1', '2', '3', '4', '5', '6', '7', '8', '9']\n",
    "\n",
    "plt.figure(figsize=(10, 8))\n",
    "sns.heatmap(conf_matrix, annot=True, fmt=\"d\", cmap=\"Blues\", xticklabels=class_labels, yticklabels=class_labels)\n",
    "plt.xlabel(\"Predicted Label\")\n",
    "plt.ylabel(\"True Label\")\n",
    "plt.title(\"Confusion Matrix\")\n",
    "plt.show()"
   ]
  },
  {
   "cell_type": "markdown",
   "id": "c721138a-4fc1-4af4-bf57-bccaab9e013c",
   "metadata": {},
   "source": [
    "**補充**\n",
    "- fit(train) model vs. tune model?\n",
    "  - fit(train) model: Training refers to the process of using a machine learning algorithm to learn the relationship between input data and the corresponding target outputs.\n",
    "  - tune model: Tuning refers to the process of adjusting hyperparameters of a machine learning model to improve its performance. "
   ]
  },
  {
   "cell_type": "markdown",
   "id": "494fe8f4",
   "metadata": {},
   "source": [
    "## 使用模型"
   ]
  },
  {
   "cell_type": "markdown",
   "id": "24e46f0c",
   "metadata": {},
   "source": [
    "### 儲存模型"
   ]
  },
  {
   "cell_type": "code",
   "execution_count": 30,
   "id": "20afa077",
   "metadata": {},
   "outputs": [],
   "source": [
    "model.save(\"model/mnist.h5\")"
   ]
  },
  {
   "cell_type": "markdown",
   "id": "137ca2f2",
   "metadata": {},
   "source": [
    "### 載入模型"
   ]
  },
  {
   "cell_type": "code",
   "execution_count": 31,
   "id": "26e5f659",
   "metadata": {},
   "outputs": [
    {
     "name": "stdout",
     "output_type": "stream",
     "text": [
      "Model: \"sequential\"\n",
      "_________________________________________________________________\n",
      " Layer (type)                Output Shape              Param #   \n",
      "=================================================================\n",
      " dense (Dense)               (None, 512)               401920    \n",
      "                                                                 \n",
      " dense_1 (Dense)             (None, 512)               262656    \n",
      "                                                                 \n",
      " dense_2 (Dense)             (None, 10)                5130      \n",
      "                                                                 \n",
      "=================================================================\n",
      "Total params: 669,706\n",
      "Trainable params: 669,706\n",
      "Non-trainable params: 0\n",
      "_________________________________________________________________\n"
     ]
    }
   ],
   "source": [
    "model_load = keras.models.load_model(\"model/mnist.h5\")\n",
    "model_load.summary()"
   ]
  },
  {
   "cell_type": "markdown",
   "id": "d79bea84",
   "metadata": {},
   "source": [
    "### 預測圖像\n",
    "先拿資料集當中的圖片來試試"
   ]
  },
  {
   "cell_type": "markdown",
   "id": "7e313556",
   "metadata": {},
   "source": [
    "查看圖像"
   ]
  },
  {
   "cell_type": "code",
   "execution_count": 32,
   "id": "cb2cd9b0",
   "metadata": {},
   "outputs": [
    {
     "data": {
      "text/plain": [
       "<matplotlib.image.AxesImage at 0x1a8d63eb4f0>"
      ]
     },
     "execution_count": 32,
     "metadata": {},
     "output_type": "execute_result"
    },
    {
     "data": {
      "image/png": "[encoded data removed]",
      "text/plain": [
       "<Figure size 432x288 with 1 Axes>"
      ]
     },
     "metadata": {
      "needs_background": "light"
     },
     "output_type": "display_data"
    }
   ],
   "source": [
    "image = x_valid[2024]\n",
    "plt.imshow(image, cmap='gray')"
   ]
  },
  {
   "cell_type": "markdown",
   "id": "f3af380c",
   "metadata": {},
   "source": [
    "查看圖像的資料型態"
   ]
  },
  {
   "cell_type": "code",
   "execution_count": 33,
   "id": "59bd3a0d",
   "metadata": {},
   "outputs": [
    {
     "name": "stdout",
     "output_type": "stream",
     "text": [
      "這張圖片的資料尺寸：(28, 28)\n",
      "這張圖片的資料型態：uint8\n"
     ]
    }
   ],
   "source": [
    "predict_img_origin = x_valid[2024]\n",
    "print(f\"這張圖片的資料尺寸：{predict_img_origin.shape}\")\n",
    "print(f\"這張圖片的資料型態：{predict_img_origin.dtype}\")"
   ]
  },
  {
   "cell_type": "markdown",
   "id": "166bdef9",
   "metadata": {},
   "source": [
    "圖像資料前處理"
   ]
  },
  {
   "cell_type": "code",
   "execution_count": 34,
   "id": "f2daefc9",
   "metadata": {},
   "outputs": [
    {
     "data": {
      "text/plain": [
       "array([[0.        , 0.        , 0.        , 0.        , 0.        ,\n",
       "        0.        , 0.        , 0.        , 0.        , 0.        ,\n",
       "        0.        , 0.        , 0.        , 0.        , 0.        ,\n",
       "        0.        , 0.        , 0.        , 0.        , 0.        ,\n",
       "        0.        , 0.        , 0.        , 0.        , 0.        ,\n",
       "        0.        , 0.        , 0.        , 0.        , 0.        ,\n",
       "        0.        , 0.        , 0.        , 0.        , 0.        ,\n",
       "        0.        , 0.        , 0.        , 0.        , 0.        ,\n",
       "        0.        , 0.        , 0.        , 0.        , 0.        ,\n",
       "        0.        , 0.        , 0.        , 0.        , 0.        ,\n",
       "        0.        , 0.        , 0.        , 0.        , 0.        ,\n",
       "        0.        , 0.        , 0.        , 0.        , 0.        ,\n",
       "        0.        , 0.        , 0.        , 0.        , 0.        ,\n",
       "        0.        , 0.        , 0.        , 0.        , 0.        ,\n",
       "        0.        , 0.        , 0.        , 0.        , 0.        ,\n",
       "        0.        , 0.        , 0.        , 0.        , 0.        ,\n",
       "        0.        , 0.        , 0.        , 0.        , 0.        ,\n",
       "        0.        , 0.        , 0.        , 0.        , 0.        ,\n",
       "        0.        , 0.        , 0.        , 0.        , 0.        ,\n",
       "        0.        , 0.        , 0.        , 0.        , 0.        ,\n",
       "        0.        , 0.        , 0.        , 0.        , 0.        ,\n",
       "        0.        , 0.        , 0.        , 0.        , 0.        ,\n",
       "        0.        , 0.        , 0.        , 0.        , 0.        ,\n",
       "        0.        , 0.        , 0.        , 0.        , 0.        ,\n",
       "        0.        , 0.        , 0.        , 0.        , 0.        ,\n",
       "        0.        , 0.        , 0.        , 0.        , 0.        ,\n",
       "        0.        , 0.        , 0.        , 0.        , 0.        ,\n",
       "        0.        , 0.        , 0.        , 0.        , 0.        ,\n",
       "        0.        , 0.        , 0.        , 0.        , 0.        ,\n",
       "        0.        , 0.        , 0.        , 0.        , 0.        ,\n",
       "        0.        , 0.        , 0.        , 0.        , 0.        ,\n",
       "        0.        , 0.        , 0.        , 0.        , 0.        ,\n",
       "        0.        , 0.        , 0.        , 0.        , 0.        ,\n",
       "        0.        , 0.        , 0.        , 0.        , 0.        ,\n",
       "        0.        , 0.        , 0.        , 0.        , 0.        ,\n",
       "        0.        , 0.        , 0.        , 0.        , 0.        ,\n",
       "        0.        , 0.        , 0.        , 0.        , 0.        ,\n",
       "        0.        , 0.        , 0.        , 0.        , 0.        ,\n",
       "        0.        , 0.        , 0.        , 0.        , 0.        ,\n",
       "        0.        , 0.        , 0.        , 0.        , 0.        ,\n",
       "        0.        , 0.        , 0.        , 0.        , 0.        ,\n",
       "        0.17254902, 0.23529412, 0.18431373, 0.18431373, 0.18431373,\n",
       "        0.34509805, 0.49411765, 1.        , 0.7058824 , 0.        ,\n",
       "        0.        , 0.        , 0.        , 0.        , 0.        ,\n",
       "        0.        , 0.        , 0.        , 0.        , 0.        ,\n",
       "        0.        , 0.        , 0.        , 0.        , 0.        ,\n",
       "        0.        , 0.        , 0.        , 0.6       , 0.99215686,\n",
       "        0.99215686, 0.99215686, 0.99215686, 0.99215686, 0.99215686,\n",
       "        0.99215686, 0.96862745, 0.21960784, 0.        , 0.        ,\n",
       "        0.        , 0.        , 0.        , 0.        , 0.        ,\n",
       "        0.        , 0.        , 0.        , 0.        , 0.        ,\n",
       "        0.        , 0.        , 0.        , 0.        , 0.        ,\n",
       "        0.        , 0.6901961 , 0.9607843 , 0.18039216, 0.38039216,\n",
       "        0.69411767, 0.69411767, 0.53333336, 0.99215686, 0.6509804 ,\n",
       "        0.01176471, 0.        , 0.        , 0.        , 0.        ,\n",
       "        0.        , 0.        , 0.        , 0.        , 0.        ,\n",
       "        0.        , 0.        , 0.        , 0.        , 0.        ,\n",
       "        0.        , 0.        , 0.        , 0.        , 0.6901961 ,\n",
       "        0.93333334, 0.        , 0.        , 0.        , 0.        ,\n",
       "        0.16470589, 0.99215686, 0.46666667, 0.        , 0.        ,\n",
       "        0.        , 0.        , 0.        , 0.        , 0.        ,\n",
       "        0.        , 0.        , 0.        , 0.        , 0.        ,\n",
       "        0.        , 0.        , 0.        , 0.        , 0.        ,\n",
       "        0.        , 0.        , 0.6901961 , 0.93333334, 0.        ,\n",
       "        0.        , 0.        , 0.        , 0.5372549 , 0.99215686,\n",
       "        0.46666667, 0.        , 0.        , 0.        , 0.        ,\n",
       "        0.        , 0.        , 0.        , 0.        , 0.        ,\n",
       "        0.        , 0.        , 0.        , 0.        , 0.        ,\n",
       "        0.        , 0.        , 0.        , 0.        , 0.        ,\n",
       "        0.6901961 , 0.93333334, 0.        , 0.        , 0.        ,\n",
       "        0.        , 0.5686275 , 0.99215686, 0.34901962, 0.        ,\n",
       "        0.        , 0.        , 0.        , 0.        , 0.        ,\n",
       "        0.        , 0.        , 0.        , 0.        , 0.        ,\n",
       "        0.        , 0.        , 0.        , 0.        , 0.        ,\n",
       "        0.        , 0.        , 0.        , 0.6901961 , 0.7921569 ,\n",
       "        0.14117648, 0.        , 0.        , 0.        , 0.5686275 ,\n",
       "        0.99215686, 0.05882353, 0.        , 0.        , 0.        ,\n",
       "        0.        , 0.        , 0.        , 0.        , 0.        ,\n",
       "        0.        , 0.        , 0.        , 0.        , 0.        ,\n",
       "        0.        , 0.        , 0.        , 0.        , 0.        ,\n",
       "        0.        , 0.6901961 , 0.9490196 , 0.08627451, 0.        ,\n",
       "        0.        , 0.        , 0.5686275 , 0.99215686, 0.05882353,\n",
       "        0.        , 0.        , 0.        , 0.        , 0.        ,\n",
       "        0.        , 0.        , 0.        , 0.        , 0.        ,\n",
       "        0.        , 0.        , 0.        , 0.        , 0.        ,\n",
       "        0.        , 0.        , 0.        , 0.        , 0.6901961 ,\n",
       "        0.96862745, 0.19607843, 0.        , 0.        , 0.        ,\n",
       "        0.9137255 , 0.99215686, 0.05882353, 0.        , 0.        ,\n",
       "        0.        , 0.        , 0.        , 0.        , 0.        ,\n",
       "        0.        , 0.        , 0.        , 0.        , 0.        ,\n",
       "        0.        , 0.        , 0.        , 0.        , 0.        ,\n",
       "        0.        , 0.        , 0.6901961 , 0.96862745, 0.21176471,\n",
       "        0.        , 0.        , 0.        , 0.9764706 , 0.78039217,\n",
       "        0.02352941, 0.        , 0.        , 0.        , 0.        ,\n",
       "        0.        , 0.        , 0.        , 0.        , 0.        ,\n",
       "        0.        , 0.        , 0.        , 0.        , 0.        ,\n",
       "        0.        , 0.        , 0.        , 0.        , 0.        ,\n",
       "        0.6901961 , 0.94509804, 0.07058824, 0.        , 0.        ,\n",
       "        0.        , 0.9764706 , 0.64705884, 0.        , 0.        ,\n",
       "        0.        , 0.        , 0.        , 0.        , 0.        ,\n",
       "        0.        , 0.        , 0.        , 0.        , 0.        ,\n",
       "        0.        , 0.        , 0.        , 0.        , 0.        ,\n",
       "        0.        , 0.        , 0.        , 0.12941177, 0.5647059 ,\n",
       "        0.        , 0.        , 0.        , 0.        , 0.9764706 ,\n",
       "        0.9882353 , 0.05882353, 0.        , 0.        , 0.        ,\n",
       "        0.        , 0.        , 0.        , 0.        , 0.        ,\n",
       "        0.        , 0.        , 0.        , 0.        , 0.        ,\n",
       "        0.        , 0.        , 0.        , 0.        , 0.        ,\n",
       "        0.        , 0.        , 0.        , 0.        , 0.        ,\n",
       "        0.        , 0.        , 0.9764706 , 0.99215686, 0.05882353,\n",
       "        0.        , 0.        , 0.        , 0.        , 0.        ,\n",
       "        0.        , 0.        , 0.        , 0.        , 0.        ,\n",
       "        0.        , 0.        , 0.        , 0.        , 0.        ,\n",
       "        0.        , 0.        , 0.        , 0.        , 0.        ,\n",
       "        0.        , 0.        , 0.        , 0.        , 0.        ,\n",
       "        0.9764706 , 0.99215686, 0.05882353, 0.        , 0.        ,\n",
       "        0.        , 0.        , 0.        , 0.        , 0.        ,\n",
       "        0.        , 0.        , 0.        , 0.        , 0.        ,\n",
       "        0.        , 0.        , 0.        , 0.        , 0.        ,\n",
       "        0.        , 0.        , 0.        , 0.        , 0.        ,\n",
       "        0.        , 0.        , 0.        , 0.9764706 , 0.99215686,\n",
       "        0.05882353, 0.        , 0.        , 0.        , 0.        ,\n",
       "        0.        , 0.        , 0.        , 0.        , 0.        ,\n",
       "        0.        , 0.        , 0.        , 0.        , 0.        ,\n",
       "        0.        , 0.        , 0.        , 0.        , 0.        ,\n",
       "        0.        , 0.        , 0.        , 0.        , 0.        ,\n",
       "        0.        , 0.60784316, 0.99215686, 0.09411765, 0.        ,\n",
       "        0.        , 0.        , 0.        , 0.        , 0.        ,\n",
       "        0.        , 0.        , 0.        , 0.        , 0.        ,\n",
       "        0.        , 0.        , 0.        , 0.        , 0.        ,\n",
       "        0.        , 0.        , 0.        , 0.        , 0.        ,\n",
       "        0.        , 0.        , 0.        , 0.        , 0.5686275 ,\n",
       "        0.99215686, 0.19215687, 0.        , 0.        , 0.        ,\n",
       "        0.        , 0.        , 0.        , 0.        , 0.        ,\n",
       "        0.        , 0.        , 0.        , 0.        , 0.        ,\n",
       "        0.        , 0.        , 0.        , 0.        , 0.        ,\n",
       "        0.        , 0.        , 0.        , 0.        , 0.        ,\n",
       "        0.        , 0.        , 0.22352941, 0.99215686, 0.25882354,\n",
       "        0.        , 0.        , 0.        , 0.        , 0.        ,\n",
       "        0.        , 0.        , 0.        , 0.        , 0.        ,\n",
       "        0.        , 0.        , 0.        , 0.        , 0.        ,\n",
       "        0.        , 0.        , 0.        , 0.        , 0.        ,\n",
       "        0.        , 0.        , 0.        , 0.        , 0.        ,\n",
       "        0.16470589, 0.99215686, 0.9490196 , 0.18039216, 0.        ,\n",
       "        0.        , 0.        , 0.        , 0.        , 0.        ,\n",
       "        0.        , 0.        , 0.        , 0.        , 0.        ,\n",
       "        0.        , 0.        , 0.        , 0.        , 0.        ,\n",
       "        0.        , 0.        , 0.        , 0.        , 0.        ,\n",
       "        0.        , 0.        , 0.        , 0.09803922, 0.7294118 ,\n",
       "        0.56078434, 0.05098039, 0.        , 0.        , 0.        ,\n",
       "        0.        , 0.        , 0.        , 0.        , 0.        ,\n",
       "        0.        , 0.        , 0.        , 0.        , 0.        ,\n",
       "        0.        , 0.        , 0.        , 0.        , 0.        ,\n",
       "        0.        , 0.        , 0.        , 0.        , 0.        ,\n",
       "        0.        , 0.        , 0.        , 0.        , 0.        ,\n",
       "        0.        , 0.        , 0.        , 0.        , 0.        ,\n",
       "        0.        , 0.        , 0.        , 0.        ]], dtype=float32)"
      ]
     },
     "execution_count": 34,
     "metadata": {},
     "output_type": "execute_result"
    }
   ],
   "source": [
    "predict_img = (predict_img_origin/255).reshape(1,784).astype(\"float32\")\n",
    "predict_img"
   ]
  },
  {
   "cell_type": "markdown",
   "id": "29f1b3ad",
   "metadata": {},
   "source": [
    "預測圖像"
   ]
  },
  {
   "cell_type": "code",
   "execution_count": 35,
   "id": "4f6d1fba",
   "metadata": {},
   "outputs": [
    {
     "name": "stdout",
     "output_type": "stream",
     "text": [
      "1/1 [==============================] - 0s 58ms/step\n",
      "預測結果數值：[[1.4417729e-08 1.3020447e-07 4.2904784e-08 3.3446067e-06 3.5357817e-07\n",
      "  2.1502719e-05 7.5760775e-09 8.9388484e-01 2.6740780e-08 1.0608972e-01]]\n",
      "預測的結果類別：[7]\n"
     ]
    }
   ],
   "source": [
    "import numpy as np\n",
    "\n",
    "predictions = model_load.predict(predict_img)\n",
    "predicted_classes = np.argmax(predictions, axis=1)\n",
    "\n",
    "print(f\"預測結果數值：{predictions}\")\n",
    "print(f\"預測的結果類別：{predicted_classes}\")"
   ]
  },
  {
   "cell_type": "markdown",
   "id": "67947161",
   "metadata": {},
   "source": [
    "### 預測自己拍攝的圖像"
   ]
  },
  {
   "cell_type": "markdown",
   "id": "d2474295",
   "metadata": {},
   "source": [
    "載入與查看原始圖片"
   ]
  },
  {
   "cell_type": "code",
   "execution_count": 36,
   "id": "7ea62f55",
   "metadata": {},
   "outputs": [
    {
     "data": {
      "image/png": "[encoded data removed]",
      "text/plain": [
       "<Figure size 432x288 with 1 Axes>"
      ]
     },
     "metadata": {
      "needs_background": "light"
     },
     "output_type": "display_data"
    }
   ],
   "source": [
    "from PIL import Image, ImageOps\n",
    "from matplotlib import pyplot as plt\n",
    "\n",
    "image_dir = 'images/two_yellow_bg.jpg' # six_blue_bg.jpg\n",
    "image = Image.open(image_dir)\n",
    "# 如果圖片讀取後方向不對，可以用下面這行解決\n",
    "# image = image.transpose(Image.ROTATE_270)\n",
    "\n",
    "plt.imshow(image)\n",
    "plt.axis('off') # 不顯示座標軸\n",
    "plt.show()"
   ]
  },
  {
   "cell_type": "markdown",
   "id": "fc567da9",
   "metadata": {},
   "source": [
    "將圖像前處理"
   ]
  },
  {
   "cell_type": "code",
   "execution_count": 37,
   "id": "17fa74e3",
   "metadata": {},
   "outputs": [
    {
     "data": {
      "image/png": "[encoded data removed]",
      "text/plain": [
       "<Figure size 432x288 with 1 Axes>"
      ]
     },
     "metadata": {
      "needs_background": "light"
     },
     "output_type": "display_data"
    }
   ],
   "source": [
    "import cv2\n",
    "import numpy as np\n",
    "\n",
    "image = cv2.imread(image_dir)\n",
    "image_resized = cv2.resize(image, (28, 28)) #調整長寬 px\n",
    "image_gray = cv2.cvtColor(image_resized, cv2.COLOR_BGR2GRAY) #轉換成灰階\n",
    "\n",
    "plt.imshow(image_gray, cmap='gray')\n",
    "plt.axis('off')\n",
    "plt.show()"
   ]
  },
  {
   "cell_type": "code",
   "execution_count": 38,
   "id": "0a121ed6",
   "metadata": {},
   "outputs": [
    {
     "data": {
      "image/png": "[encoded data removed]",
      "text/plain": [
       "<Figure size 432x288 with 1 Axes>"
      ]
     },
     "metadata": {
      "needs_background": "light"
     },
     "output_type": "display_data"
    }
   ],
   "source": [
    "def check_backgroud_black(lst):\n",
    "    count = sum(1 for color_code in lst if color_code < 100)\n",
    "    return count >= 3\n",
    "\n",
    "#以三個角落（背景）來認定圖片是否需要反轉色彩\n",
    "four_corner = [image_gray[2, 4], image_gray[2, 25], image_gray[25, 2], image_gray[25, 25]]\n",
    "if check_backgroud_black(four_corner) == True:\n",
    "    predict_img = (image_gray/255).reshape(1,784).astype('float32')\n",
    "else:\n",
    "    inverted_image = cv2.bitwise_not(image_gray)\n",
    "    plt.imshow(inverted_image, cmap='gray')\n",
    "    plt.axis('off')\n",
    "    plt.show()\n",
    "    predict_img = (inverted_image/255).reshape(1,784).astype('float32')"
   ]
  },
  {
   "cell_type": "markdown",
   "id": "99a9804d",
   "metadata": {},
   "source": [
    "預測圖像"
   ]
  },
  {
   "cell_type": "code",
   "execution_count": 39,
   "id": "7ed9b9bb",
   "metadata": {},
   "outputs": [
    {
     "name": "stdout",
     "output_type": "stream",
     "text": [
      "1/1 [==============================] - 0s 25ms/step\n",
      "預測結果數值：[[3.0520027e-09 3.2533651e-10 9.9999976e-01 1.9559603e-07 4.8168376e-13\n",
      "  2.8511848e-12 2.8677827e-11 1.2893939e-09 3.6335845e-12 6.7893620e-12]]\n",
      "預測的結果類別：[2]\n"
     ]
    }
   ],
   "source": [
    "predictions = model_load.predict(predict_img)\n",
    "predicted_classes = np.argmax(predictions, axis=1)\n",
    "\n",
    "print(f\"預測結果數值：{predictions}\")\n",
    "print(f\"預測的結果類別：{predicted_classes}\")"
   ]
  }
 ],
 "metadata": {
  "kernelspec": {
   "display_name": "Python 3 (ipykernel)",
   "language": "python",
   "name": "python3"
  },
  "language_info": {
   "codemirror_mode": {
    "name": "ipython",
    "version": 3
   },
   "file_extension": ".py",
   "mimetype": "text/x-python",
   "name": "python",
   "nbconvert_exporter": "python",
   "pygments_lexer": "ipython3",
   "version": "3.11.5"
  },
  "toc-autonumbering": false,
  "toc-showcode": false,
  "toc-showmarkdowntxt": false,
  "toc-showtags": false
 },
 "nbformat": 4,
 "nbformat_minor": 5
}
