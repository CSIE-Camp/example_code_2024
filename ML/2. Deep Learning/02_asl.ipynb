{
 "cells": [
  {
   "cell_type": "markdown",
   "id": "04538559-925a-498b-9b63-84b66e9e5a9c",
   "metadata": {},
   "source": [
    "# Image Classification with ASL dataset\n",
    "> NTNU CSIE Camp 2024"
   ]
  },
  {
   "cell_type": "markdown",
   "id": "9521004a",
   "metadata": {},
   "source": [
    "<p style=\"font-size: 28px; font-weight: bold;\">Now it’s your turn! 🫵</p>"
   ]
  },
  {
   "cell_type": "markdown",
   "id": "5cf9a2b1-2b89-42a4-9d04-a4dbef7cee74",
   "metadata": {
    "tags": []
   },
   "source": [
    "## 美國手語資料集"
   ]
  },
  {
   "cell_type": "markdown",
   "id": "0ef72e2b-f3fa-4ad2-ad53-07516d847276",
   "metadata": {},
   "source": [
    "[美國手語字母表](http://www.asl.gs/) 含有 26 個字母。其中兩個字母（j 和 z）需要移動，因此不會包含在訓練資料集中。\n",
    "\n",
    "<img src = \"./asl/american_sign_language.PNG\" style=\"width: 600px;\">"
   ]
  },
  {
   "cell_type": "markdown",
   "id": "54836248-0272-4e04-9119-1ed8f8b09ed3",
   "metadata": {},
   "source": [
    "## 載入資料"
   ]
  },
  {
   "cell_type": "markdown",
   "id": "8e4025e3-09b2-4e5c-aa41-2d78a900bad0",
   "metadata": {},
   "source": [
    "> 我們資料集的取得方式 👉Kaggle  \n",
    "> https://www.kaggle.com/datasets/datamunge/sign-language-mnist  "
   ]
  },
  {
   "cell_type": "markdown",
   "id": "c4e409dc-740e-43a2-9cfc-9418a2a8b5c7",
   "metadata": {},
   "source": [
    "我們要將資料集化分為 `x_train`、`y_train`、`x_valid` 和 `y_valid` 變數"
   ]
  },
  {
   "cell_type": "markdown",
   "id": "40cd0605-d4f5-4bc9-a233-b416a5fd6943",
   "metadata": {},
   "source": [
    "### 讀取資料"
   ]
  },
  {
   "cell_type": "markdown",
   "id": "d4fee0c4-3e91-4da9-b64a-ed432873f798",
   "metadata": {},
   "source": [
    "使用 Pandas 函式庫讀取 CSV file，透過 DataFrame 處理資料"
   ]
  },
  {
   "cell_type": "code",
   "execution_count": null,
   "id": "db0a78d4-9445-4589-ac7c-c58ab98bbb4b",
   "metadata": {},
   "outputs": [],
   "source": [
    "import pandas as pd\n",
    "\n",
    "train_df = pd.read_csv(\"asl/sign_mnist_train.csv\")\n",
    "valid_df = pd.read_csv(\"asl/sign_mnist_valid.csv\")"
   ]
  },
  {
   "cell_type": "markdown",
   "id": "a68a942f-cfa5-4be4-9ce3-d7cf98d2ce75",
   "metadata": {},
   "source": [
    "### 探索資料"
   ]
  },
  {
   "cell_type": "code",
   "execution_count": null,
   "id": "114dfda9-5ad4-44e2-9ba1-188f61c0fd11",
   "metadata": {},
   "outputs": [],
   "source": [
    "train_df.head()"
   ]
  },
  {
   "cell_type": "markdown",
   "id": "f814737f-2087-4250-9bda-cd1a370d9418",
   "metadata": {},
   "source": [
    "### 擷取影像 label"
   ]
  },
  {
   "cell_type": "code",
   "execution_count": null,
   "id": "21d64f91-94b0-487b-9196-4fe72e8fc2b1",
   "metadata": {},
   "outputs": [],
   "source": [
    "y_train = train_df['label']\n",
    "y_valid = valid_df['label']\n",
    "del train_df['label']\n",
    "del valid_df['label']"
   ]
  },
  {
   "cell_type": "markdown",
   "id": "233b39a7-415e-49bb-a195-f54610bbac48",
   "metadata": {},
   "source": [
    "### 擷取影像資料"
   ]
  },
  {
   "cell_type": "code",
   "execution_count": null,
   "id": "02588249-4742-40db-a926-ee243dec6442",
   "metadata": {},
   "outputs": [],
   "source": [
    "x_train = train_df.values # 取出數值\n",
    "x_valid = valid_df.values # 取出數值"
   ]
  },
  {
   "cell_type": "markdown",
   "id": "9802da51-8071-4791-b1f3-6a6df9445330",
   "metadata": {},
   "source": [
    "### 總結訓練與驗證資料"
   ]
  },
  {
   "cell_type": "code",
   "execution_count": null,
   "id": "f59de77d-6853-4d10-80c3-95b02dab1ae5",
   "metadata": {},
   "outputs": [],
   "source": [
    "x_train.shape"
   ]
  },
  {
   "cell_type": "code",
   "execution_count": null,
   "id": "69a2fed7-8dee-4f09-bfd8-e0e8421c2b17",
   "metadata": {},
   "outputs": [],
   "source": [
    "# TODO：查看訓練用的 label 資料尺寸"
   ]
  },
  {
   "cell_type": "code",
   "execution_count": null,
   "id": "df8551ac-8e6a-44f6-99d8-a795efed77fc",
   "metadata": {},
   "outputs": [],
   "source": [
    "# TODO：查看評估用的圖像資料尺寸"
   ]
  },
  {
   "cell_type": "code",
   "execution_count": null,
   "id": "3e647297-b37c-4804-ab0b-035682c25bd1",
   "metadata": {},
   "outputs": [],
   "source": [
    "y_valid.shape"
   ]
  },
  {
   "cell_type": "markdown",
   "id": "08ed6a96-535d-4ede-9111-dc83c3dd1944",
   "metadata": {},
   "source": [
    "### 視覺化資料"
   ]
  },
  {
   "cell_type": "markdown",
   "id": "b5d4857d-b204-4907-8458-f946a29f1958",
   "metadata": {},
   "source": [
    "把資料（image）1D to 2D"
   ]
  },
  {
   "cell_type": "code",
   "execution_count": null,
   "id": "81affcfa-f0a2-411e-b660-651e4c3af51b",
   "metadata": {},
   "outputs": [],
   "source": [
    "import matplotlib.pyplot as plt\n",
    "plt.figure(figsize=(40,40))\n",
    "\n",
    "num_images = 20\n",
    "for i in range(num_images):\n",
    "    row = x_train[i]\n",
    "    label = y_train[i]\n",
    "    \n",
    "    image = row.reshape(28,28)\n",
    "    plt.subplot(1, num_images, i+1)\n",
    "    plt.title(label, fontdict={'fontsize': 30})\n",
    "    plt.axis('off')\n",
    "    plt.imshow(image, cmap='gray')"
   ]
  },
  {
   "cell_type": "markdown",
   "id": "406d8e88",
   "metadata": {},
   "source": [
    "## 資料前處理"
   ]
  },
  {
   "cell_type": "markdown",
   "id": "fc241772-6a77-435c-b8e3-fadf2fee330e",
   "metadata": {},
   "source": [
    "### 正規化影像資料"
   ]
  },
  {
   "cell_type": "code",
   "execution_count": null,
   "id": "5ef7d75b-01aa-4a49-a0b5-3b51eb3e88d9",
   "metadata": {},
   "outputs": [],
   "source": [
    "# TODO：x_train 當中的最小值"
   ]
  },
  {
   "cell_type": "code",
   "execution_count": null,
   "id": "d298f011-d42c-4b23-8cf6-f7b8e82399ba",
   "metadata": {},
   "outputs": [],
   "source": [
    "# TODO：x_train 當中的最大值"
   ]
  },
  {
   "cell_type": "code",
   "execution_count": null,
   "id": "2323fa4d-28e0-4c71-ab8b-47f5c8dcfdb5",
   "metadata": {},
   "outputs": [],
   "source": [
    "# TODO: Normalize x_train and x_valid."
   ]
  },
  {
   "cell_type": "markdown",
   "id": "b48e5a68-4100-4029-ae97-fa74006939f2",
   "metadata": {},
   "source": [
    "### 影像分類"
   ]
  },
  {
   "cell_type": "code",
   "execution_count": null,
   "id": "ab181c64-04f8-45af-9a50-6673d66ed21b",
   "metadata": {
    "tags": []
   },
   "outputs": [],
   "source": [
    "# TODO：有幾個類別呢\n",
    "import tensorflow.keras as keras\n",
    "num_classes = "
   ]
  },
  {
   "cell_type": "code",
   "execution_count": null,
   "id": "5b5ea8be-74ab-4114-b03d-1e9dd1568518",
   "metadata": {},
   "outputs": [],
   "source": [
    "# TODO: Categorically encode y_train and y_valid."
   ]
  },
  {
   "cell_type": "markdown",
   "id": "cc5bdc43",
   "metadata": {},
   "source": [
    "## 模型"
   ]
  },
  {
   "cell_type": "markdown",
   "id": "3cf37235-8ced-4c48-a0e3-14b38e54a64b",
   "metadata": {},
   "source": [
    "### 建立模型"
   ]
  },
  {
   "cell_type": "markdown",
   "id": "f50bf64b-a287-4446-9256-ed994559aeb5",
   "metadata": {},
   "source": [
    "We need...\n",
    "* 具有密集輸入層。這一層包含 512 個神經元，使用 `relu` 激活函數，並接收形狀為 `(784,)` 的輸入影像。\n",
    "* 具有第二個密集輸入層，含有 512 個使用 `relu` 激活函數的神經元\n",
    "* 具有密集輸出層，其神經元的數量與類別數量相等，並使用 `softmax` 激活函數\n",
    "\n",
    "還不熟悉，參考一下 MNIST 的範例吧～"
   ]
  },
  {
   "cell_type": "code",
   "execution_count": null,
   "id": "7bec834c-edbf-4053-8a92-3c8fcc925efa",
   "metadata": {},
   "outputs": [],
   "source": [
    "from tensorflow.keras.models import Sequential\n",
    "from tensorflow.keras.layers import Dense"
   ]
  },
  {
   "cell_type": "code",
   "execution_count": null,
   "id": "4ea91cb9-68bf-4f96-8138-aeb2879c991f",
   "metadata": {},
   "outputs": [],
   "source": [
    "# TODO: build a model following the guidelines above."
   ]
  },
  {
   "cell_type": "markdown",
   "id": "d0f08022-8c17-4cfe-9a30-8efe26f0cdd6",
   "metadata": {},
   "source": [
    "### 總結模型"
   ]
  },
  {
   "cell_type": "code",
   "execution_count": null,
   "id": "a595bcb2-749e-4eda-adbd-5a6a680a89f8",
   "metadata": {},
   "outputs": [],
   "source": [
    "model.summary()"
   ]
  },
  {
   "cell_type": "markdown",
   "id": "9f6152e2-0bd3-4a8b-87bf-4694a6d3eefa",
   "metadata": {},
   "source": [
    "### 編寫模型"
   ]
  },
  {
   "cell_type": "markdown",
   "id": "7abf7fb3-52a3-4555-956d-0bd6a909d6f1",
   "metadata": {},
   "source": [
    "使用 [CategoricalCrossentropy](https://www.tensorflow.org/api_docs/python/tf/keras/losses/CategoricalCrossentropy)"
   ]
  },
  {
   "cell_type": "code",
   "execution_count": null,
   "id": "295a8632-a6d1-4545-8322-979903541fe1",
   "metadata": {},
   "outputs": [],
   "source": [
    "model.compile(loss='categorical_crossentropy', metrics=['accuracy'])"
   ]
  },
  {
   "cell_type": "markdown",
   "id": "1e233c51-f8cb-4cfa-b24f-2588a60b87fe",
   "metadata": {},
   "source": [
    "### 訓練模型"
   ]
  },
  {
   "cell_type": "markdown",
   "id": "587b1ac0-cdbf-4d64-9969-8409e231526e",
   "metadata": {},
   "source": [
    "使用模型的 `fit` 方法來對模型進行訓練，使用的是先前建立的訓練與驗證影像和類別："
   ]
  },
  {
   "cell_type": "code",
   "execution_count": null,
   "id": "6f43d01a-4904-4909-93de-c35e69901f19",
   "metadata": {},
   "outputs": [],
   "source": [
    "# TODO: Train the model."
   ]
  },
  {
   "cell_type": "markdown",
   "id": "34267a33",
   "metadata": {},
   "source": [
    "Model Loss Plot"
   ]
  },
  {
   "cell_type": "code",
   "execution_count": null,
   "id": "8e455127",
   "metadata": {},
   "outputs": [],
   "source": [
    "# TODO：繪製圖表 model loss 對應 epoch"
   ]
  },
  {
   "cell_type": "markdown",
   "id": "ed215004",
   "metadata": {},
   "source": [
    "Model Accuracy Plot"
   ]
  },
  {
   "cell_type": "code",
   "execution_count": null,
   "id": "1c3a078c",
   "metadata": {},
   "outputs": [],
   "source": [
    "# TODO：繪製圖表 model accuracy 對應 epoch"
   ]
  },
  {
   "cell_type": "markdown",
   "id": "052b506f",
   "metadata": {},
   "source": [
    "Confusion Matrix"
   ]
  },
  {
   "cell_type": "code",
   "execution_count": null,
   "id": "2c692228",
   "metadata": {},
   "outputs": [],
   "source": [
    "# TODO：繪製 Confusion Matrix 觀察模型在各個類別的預測表現"
   ]
  },
  {
   "cell_type": "markdown",
   "id": "e86a0585",
   "metadata": {},
   "source": [
    "### 遇到了甚麼問題？\n",
    "觀察上方的圖表。"
   ]
  },
  {
   "cell_type": "markdown",
   "id": "eb420eae",
   "metadata": {},
   "source": [
    "## 使用模型"
   ]
  },
  {
   "cell_type": "markdown",
   "id": "66ab3a84",
   "metadata": {},
   "source": [
    "### 儲存模型"
   ]
  },
  {
   "cell_type": "code",
   "execution_count": null,
   "id": "3aa406da",
   "metadata": {},
   "outputs": [],
   "source": [
    "# TODO"
   ]
  },
  {
   "cell_type": "markdown",
   "id": "72a96daa",
   "metadata": {},
   "source": [
    "### 載入模型"
   ]
  },
  {
   "cell_type": "code",
   "execution_count": null,
   "id": "c301f027",
   "metadata": {},
   "outputs": [],
   "source": [
    "# TODO\n",
    "model_load = \n",
    "model_load.summary()"
   ]
  },
  {
   "cell_type": "markdown",
   "metadata": {},
   "source": [
    "### 預測圖像\n",
    "先拿資料集當中的圖片來試試"
   ]
  },
  {
   "cell_type": "markdown",
   "metadata": {},
   "source": [
    "查看圖像"
   ]
  },
  {
   "cell_type": "code",
   "execution_count": null,
   "metadata": {},
   "outputs": [],
   "source": [
    "import matplotlib.pyplot as plt\n",
    "\n",
    "row = x_valid[200]\n",
    "label = y_valid[200]\n",
    "\n",
    "image = row.reshape(28,28)\n",
    "plt.title(label, fontdict={'fontsize': 30})\n",
    "plt.axis('off')\n",
    "plt.imshow(image, cmap='gray')"
   ]
  },
  {
   "cell_type": "markdown",
   "id": "1bbf3245",
   "metadata": {},
   "source": [
    "> 將數字標籤變成實際的英文字母會更直觀\n",
    "> <details>\n",
    "> <img src = \"./images/label_to_letter.png\" style=\"width: 600px;\">\n",
    "> </details>"
   ]
  },
  {
   "cell_type": "markdown",
   "metadata": {},
   "source": [
    "查看圖像的資料型態"
   ]
  },
  {
   "cell_type": "code",
   "execution_count": null,
   "metadata": {},
   "outputs": [],
   "source": [
    "predict_img_origin = x_valid[2024]\n",
    "print(f\"這張圖片的資料尺寸：{  }\") # TODO\n",
    "print(f\"這張圖片的資料型態：{  }\") # TODO"
   ]
  },
  {
   "cell_type": "markdown",
   "metadata": {},
   "source": [
    "圖像資料前處理"
   ]
  },
  {
   "cell_type": "code",
   "execution_count": null,
   "metadata": {},
   "outputs": [],
   "source": [
    "# TODO：用一行將圖像正規化、調整成模型要的輸入尺寸 (1,784)、轉換型態為 float32\n",
    "predict_img = \n",
    "predict_img"
   ]
  },
  {
   "cell_type": "markdown",
   "metadata": {},
   "source": [
    "預測圖像"
   ]
  },
  {
   "cell_type": "code",
   "execution_count": null,
   "metadata": {},
   "outputs": [],
   "source": [
    "# TODO\n",
    "import numpy as np\n",
    "\n",
    "predictions = # TODO：預測圖像\n",
    "predicted_classes = #TODO：取出預測圖像中的最大值\n",
    "\n",
    "# TODO \n",
    "# def label_to_letter(num):\n",
    "\n",
    "print(f\"預測結果數值：{predictions}\")\n",
    "print(f\"預測的結果類別：{predicted_classes}\")"
   ]
  },
  {
   "cell_type": "markdown",
   "metadata": {},
   "source": [
    "### 預測自己拍攝的照片"
   ]
  },
  {
   "cell_type": "markdown",
   "metadata": {},
   "source": [
    "載入與查看圖片"
   ]
  },
  {
   "cell_type": "code",
   "execution_count": null,
   "metadata": {},
   "outputs": [],
   "source": [
    "# TODO"
   ]
  },
  {
   "cell_type": "markdown",
   "metadata": {},
   "source": [
    "將圖像前處理"
   ]
  },
  {
   "cell_type": "code",
   "execution_count": null,
   "metadata": {},
   "outputs": [],
   "source": [
    "# TODO"
   ]
  },
  {
   "cell_type": "markdown",
   "metadata": {},
   "source": [
    "預測圖像"
   ]
  },
  {
   "cell_type": "code",
   "execution_count": null,
   "metadata": {},
   "outputs": [],
   "source": [
    "# TODO"
   ]
  }
 ],
 "metadata": {
  "kernelspec": {
   "display_name": "Python 3 (ipykernel)",
   "language": "python",
   "name": "python3"
  },
  "language_info": {
   "codemirror_mode": {
    "name": "ipython",
    "version": 3
   },
   "file_extension": ".py",
   "mimetype": "text/x-python",
   "name": "python",
   "nbconvert_exporter": "python",
   "pygments_lexer": "ipython3",
   "version": "3.10.11"
  }
 },
 "nbformat": 4,
 "nbformat_minor": 5
}
