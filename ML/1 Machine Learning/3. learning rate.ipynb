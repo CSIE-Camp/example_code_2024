{
 "cells": [
  {
   "cell_type": "markdown",
   "metadata": {},
   "source": [
    "### **讀入資料**"
   ]
  },
  {
   "cell_type": "markdown",
   "metadata": {},
   "source": [
    "> 可以從第一個實作複製過來"
   ]
  },
  {
   "cell_type": "code",
   "execution_count": 1,
   "metadata": {},
   "outputs": [],
   "source": [
    "import pandas as pd\n",
    "\n",
    "# TODO：貼上網址抓資料\n",
    "url = \"https://raw.githubusercontent.com/CSIE-Camp/example_code_2024/main/ML/1_Machine_Learning/807/chinese_science_score.csv\"\n",
    "data = pd.read_csv(url)"
   ]
  },
  {
   "cell_type": "markdown",
   "metadata": {},
   "source": [
    "### **計算 gradient descent**"
   ]
  },
  {
   "cell_type": "markdown",
   "metadata": {},
   "source": [
    "> 設定 x, y（上一個實作一樣有）"
   ]
  },
  {
   "cell_type": "code",
   "execution_count": 2,
   "metadata": {},
   "outputs": [],
   "source": [
    "x = data['chinese']\n",
    "y = data['science']"
   ]
  },
  {
   "cell_type": "markdown",
   "metadata": {},
   "source": [
    "> 計算 gradient descent"
   ]
  },
  {
   "cell_type": "code",
   "execution_count": 3,
   "metadata": {},
   "outputs": [],
   "source": [
    "a = 100\n",
    "b = 100\n",
    "\n",
    "a_gradient = 2 * x * (a * x + b - y)\n",
    "b_gradient = 2 * (a * x + b - y)\n",
    "\n",
    "# TODO：計算平均結果\n",
    "a_gradient = (2 * x * (a * x + b - y)).mean()\n",
    "b_gradient = (2 * (a * x + b - y)).mean()"
   ]
  },
  {
   "cell_type": "markdown",
   "metadata": {},
   "source": [
    "> 包成 function 方便計算"
   ]
  },
  {
   "cell_type": "code",
   "execution_count": 4,
   "metadata": {},
   "outputs": [],
   "source": [
    "def compute_gradient(x, y, a, b):\n",
    "\n",
    "    a_gradient = (2 * x * (a * x + b - y)).mean()\n",
    "    b_gradient = (2 * (a * x + b - y)).mean()\n",
    "\n",
    "    return a_gradient, b_gradient"
   ]
  },
  {
   "cell_type": "markdown",
   "metadata": {},
   "source": [
    "> 測試 compute_gradient()"
   ]
  },
  {
   "cell_type": "code",
   "execution_count": 6,
   "metadata": {},
   "outputs": [
    {
     "data": {
      "text/plain": [
       "(19641.58620689655, 230.13793103448276)"
      ]
     },
     "execution_count": 6,
     "metadata": {},
     "output_type": "execute_result"
    }
   ],
   "source": [
    "compute_gradient(x, y, 10, 10)"
   ]
  },
  {
   "cell_type": "markdown",
   "metadata": {},
   "source": [
    "> 觀察 a, b 的變動"
   ]
  },
  {
   "cell_type": "code",
   "execution_count": 7,
   "metadata": {},
   "outputs": [],
   "source": [
    "a = 100\n",
    "b = 100\n",
    "a_gradient, b_gradient = compute_gradient(x, y, a, b)\n",
    "\n",
    "learning_rate = 0.0000001\n",
    "\n",
    "# TODO：移動 a, b 的數值（learning rate）\n",
    "a = a - a_gradient * learning_rate\n",
    "b = b - b_gradient * learning_rate"
   ]
  },
  {
   "cell_type": "markdown",
   "metadata": {},
   "source": [
    "### **觀察是否 loss 值有下降**"
   ]
  },
  {
   "cell_type": "markdown",
   "metadata": {},
   "source": [
    "> loss function（上一個實作有程式碼）"
   ]
  },
  {
   "cell_type": "code",
   "execution_count": 8,
   "metadata": {},
   "outputs": [],
   "source": [
    "def compute_loss(x, y, a, b):\n",
    "    y_pred = a*x + b\n",
    "    loss = (y - y_pred)**2\n",
    "    loss = loss.sum() / len(x)\n",
    "\n",
    "    return loss"
   ]
  },
  {
   "cell_type": "markdown",
   "metadata": {},
   "source": [
    "> 觀察 loss 是否下降"
   ]
  },
  {
   "cell_type": "code",
   "execution_count": 9,
   "metadata": {},
   "outputs": [
    {
     "name": "stdout",
     "output_type": "stream",
     "text": [
      "6548.758620689655\n",
      "6539.330924130631\n"
     ]
    }
   ],
   "source": [
    "a = 0\n",
    "b = 0\n",
    "\n",
    "# TODO：印出 loss 值\n",
    "print(compute_loss(x, y, a, b))\n",
    "\n",
    "a_gradient, b_gradient = compute_gradient(x, y, a, b)\n",
    "\n",
    "learning_rate = 0.0000001\n",
    "a = a - a_gradient * learning_rate\n",
    "b = b - b_gradient * learning_rate\n",
    "\n",
    "# TODO：印出 loss 值\n",
    "print(compute_loss(x, y, a, b))"
   ]
  },
  {
   "cell_type": "markdown",
   "metadata": {},
   "source": [
    "> 上面只有 1 次，現在試試看 10 次"
   ]
  },
  {
   "cell_type": "code",
   "execution_count": 11,
   "metadata": {},
   "outputs": [
    {
     "name": "stdout",
     "output_type": "stream",
     "text": [
      "第   0 次更新: Loss: 47063074.08, a: 99.91, b: 100.00, a_gradient: 940716.83, b_gradient: 12043.45\n",
      "第   1 次更新: Loss: 46974772.29, a: 99.81, b: 100.00, a_gradient: 939833.88, b_gradient: 12032.16\n",
      "第   2 次更新: Loss: 46886636.18, a: 99.72, b: 100.00, a_gradient: 938951.77, b_gradient: 12020.89\n",
      "第   3 次更新: Loss: 46798665.44, a: 99.62, b: 100.00, a_gradient: 938070.48, b_gradient: 12009.63\n",
      "第   4 次更新: Loss: 46710859.75, a: 99.53, b: 99.99, a_gradient: 937190.01, b_gradient: 11998.37\n",
      "第   5 次更新: Loss: 46623218.82, a: 99.44, b: 99.99, a_gradient: 936310.38, b_gradient: 11987.13\n",
      "第   6 次更新: Loss: 46535742.33, a: 99.34, b: 99.99, a_gradient: 935431.57, b_gradient: 11975.90\n",
      "第   7 次更新: Loss: 46448429.97, a: 99.25, b: 99.99, a_gradient: 934553.58, b_gradient: 11964.68\n",
      "第   8 次更新: Loss: 46361281.43, a: 99.16, b: 99.99, a_gradient: 933676.42, b_gradient: 11953.47\n",
      "第   9 次更新: Loss: 46274296.41, a: 99.06, b: 99.99, a_gradient: 932800.09, b_gradient: 11942.27\n",
      "第  10 次更新: Loss: 46187474.60, a: 98.97, b: 99.99, a_gradient: 931924.57, b_gradient: 11931.08\n",
      "第  11 次更新: Loss: 46100815.69, a: 98.88, b: 99.99, a_gradient: 931049.88, b_gradient: 11919.90\n",
      "第  12 次更新: Loss: 46014319.38, a: 98.78, b: 99.98, a_gradient: 930176.01, b_gradient: 11908.73\n",
      "第  13 次更新: Loss: 45927985.36, a: 98.69, b: 99.98, a_gradient: 929302.95, b_gradient: 11897.57\n",
      "第  14 次更新: Loss: 45841813.33, a: 98.60, b: 99.98, a_gradient: 928430.72, b_gradient: 11886.43\n",
      "第  15 次更新: Loss: 45755802.98, a: 98.51, b: 99.98, a_gradient: 927559.31, b_gradient: 11875.29\n",
      "第  16 次更新: Loss: 45669954.02, a: 98.41, b: 99.98, a_gradient: 926688.71, b_gradient: 11864.16\n",
      "第  17 次更新: Loss: 45584266.13, a: 98.32, b: 99.98, a_gradient: 925818.93, b_gradient: 11853.05\n",
      "第  18 次更新: Loss: 45498739.02, a: 98.23, b: 99.98, a_gradient: 924949.97, b_gradient: 11841.94\n",
      "第  19 次更新: Loss: 45413372.38, a: 98.14, b: 99.98, a_gradient: 924081.82, b_gradient: 11830.84\n",
      "第  20 次更新: Loss: 45328165.92, a: 98.04, b: 99.97, a_gradient: 923214.49, b_gradient: 11819.76\n",
      "第  21 次更新: Loss: 45243119.32, a: 97.95, b: 99.97, a_gradient: 922347.97, b_gradient: 11808.68\n",
      "第  22 次更新: Loss: 45158232.30, a: 97.86, b: 99.97, a_gradient: 921482.27, b_gradient: 11797.62\n",
      "第  23 次更新: Loss: 45073504.56, a: 97.77, b: 99.97, a_gradient: 920617.38, b_gradient: 11786.57\n",
      "第  24 次更新: Loss: 44988935.79, a: 97.67, b: 99.97, a_gradient: 919753.30, b_gradient: 11775.52\n",
      "第  25 次更新: Loss: 44904525.69, a: 97.58, b: 99.97, a_gradient: 918890.03, b_gradient: 11764.49\n",
      "第  26 次更新: Loss: 44820273.97, a: 97.49, b: 99.97, a_gradient: 918027.57, b_gradient: 11753.47\n",
      "第  27 次更新: Loss: 44736180.33, a: 97.40, b: 99.97, a_gradient: 917165.92, b_gradient: 11742.45\n",
      "第  28 次更新: Loss: 44652244.48, a: 97.31, b: 99.97, a_gradient: 916305.08, b_gradient: 11731.45\n",
      "第  29 次更新: Loss: 44568466.12, a: 97.22, b: 99.96, a_gradient: 915445.04, b_gradient: 11720.46\n"
     ]
    }
   ],
   "source": [
    "a = 100\n",
    "b = 100\n",
    "learning_rate = 0.0000001\n",
    "\n",
    "for i in range(30):\n",
    "    a_gradient, b_gradient = compute_gradient(x, y, a, b)\n",
    "\n",
    "    a = a - a_gradient * learning_rate\n",
    "    b = b - b_gradient * learning_rate\n",
    "\n",
    "    loss = compute_loss(x, y, a, b)\n",
    "    \n",
    "    print(f\"第 {i:3} 次更新: Loss: {loss:.2f}, a: {a:.2f}, b: {b:.2f}, a_gradient: {a_gradient:.2f}, b_gradient: {b_gradient:.2f}\")"
   ]
  },
  {
   "cell_type": "markdown",
   "metadata": {},
   "source": [
    "> 包成一個 function"
   ]
  },
  {
   "cell_type": "code",
   "execution_count": 12,
   "metadata": {},
   "outputs": [],
   "source": [
    "def gradient_descent(x, y, a, b, learning_rate, loss_function, gradient_function, run_iter, show_iter):\n",
    "    # 把過程中的都記錄下來\n",
    "    loss_hist = []\n",
    "    a_hist = []\n",
    "    b_hist = []\n",
    "    \n",
    "    for i in range(run_iter):\n",
    "        \n",
    "        a_gradient, b_gradient = gradient_function(x, y, a, b)\n",
    "\n",
    "        a = a - a_gradient * learning_rate\n",
    "        b = b - b_gradient * learning_rate\n",
    "\n",
    "        loss = loss_function(x, y, a, b)\n",
    "\n",
    "        loss_hist.append(loss)\n",
    "        a_hist.append(a)\n",
    "        b_hist.append(b)\n",
    "\n",
    "        if i%show_iter == 0:\n",
    "            print(f\"第 {i:3} 次更新: Loss: {loss:.2f}, a: {a:.2f}, b: {b:.2f}, a_gradient: {a_gradient:.2f}, b_gradient: {b_gradient:.2f}\") # 增加斜率\n",
    "    \n",
    "    # 回傳 a, b 最終值、過程中的 a, b, loss\n",
    "    return a, b, a_hist, b_hist, loss_hist"
   ]
  },
  {
   "cell_type": "markdown",
   "metadata": {},
   "source": [
    "> 測試 function"
   ]
  },
  {
   "cell_type": "code",
   "execution_count": 14,
   "metadata": {},
   "outputs": [
    {
     "name": "stdout",
     "output_type": "stream",
     "text": [
      "第   0 次更新: Loss: 47063074.08, a: 99.91, b: 100.00, a_gradient: 940716.83, b_gradient: 12043.45\n",
      "第 2000 次更新: Loss: 1101319.91, a: 15.08, b: 98.91, a_gradient: 143823.03, b_gradient: 1858.71\n",
      "第 4000 次更新: Loss: 26991.58, a: 2.11, b: 98.74, a_gradient: 21988.43, b_gradient: 301.60\n",
      "第 6000 次更新: Loss: 1879.72, a: 0.13, b: 98.71, a_gradient: 3361.52, b_gradient: 63.53\n",
      "第 8000 次更新: Loss: 1292.67, a: -0.17, b: 98.70, a_gradient: 513.71, b_gradient: 27.14\n",
      "第 10000 次更新: Loss: 1278.86, a: -0.22, b: 98.70, a_gradient: 78.32, b_gradient: 21.57\n"
     ]
    }
   ],
   "source": [
    "a = 100\n",
    "b = 100\n",
    "learning_rate = 0.0000001\n",
    "run_iter = 10000\n",
    "show_iter = 2000\n",
    "\n",
    "a_final, b_final, a_hist, b_hist, loss_hist = gradient_descent(x, y, a, b, learning_rate, compute_loss, compute_gradient, run_iter, show_iter)"
   ]
  },
  {
   "cell_type": "markdown",
   "metadata": {},
   "source": [
    "> 查看最終 a 跟 b 值"
   ]
  },
  {
   "cell_type": "code",
   "execution_count": 15,
   "metadata": {},
   "outputs": [
    {
     "name": "stdout",
     "output_type": "stream",
     "text": [
      "最終 a, b = (-0.21823806840749527, 98.6985813303567)\n",
      "最終 a, b = (-0.22, 98.70)\n"
     ]
    }
   ],
   "source": [
    "print(f\"最終 a, b = ({a_final}, {b_final})\")\n",
    "# 顯示兩位小數就好\n",
    "print(f\"最終 a, b = ({a_final:.2f}, {b_final:.2f})\")"
   ]
  },
  {
   "cell_type": "markdown",
   "metadata": {},
   "source": [
    "### **畫圖觀察 loss 趨勢**"
   ]
  },
  {
   "cell_type": "code",
   "execution_count": 18,
   "metadata": {},
   "outputs": [
    {
     "data": {
      "image/png": "[encoded data removed]",
      "text/plain": [
       "<Figure size 432x288 with 1 Axes>"
      ]
     },
     "metadata": {
      "needs_background": "light"
     },
     "output_type": "display_data"
    }
   ],
   "source": [
    "import matplotlib.pyplot as plt\n",
    "import numpy as np\n",
    "\n",
    "# TODO：畫出所有 loss_hist 值\n",
    "plt.plot(np.arange(0, run_iter), loss_hist)\n",
    "\n",
    "plt.title(\"次數 vs loss\")\n",
    "plt.xlabel(\"次數\")\n",
    "plt.ylabel(\"loss\")\n",
    "\n",
    "plt.show()"
   ]
  },
  {
   "cell_type": "markdown",
   "metadata": {},
   "source": [
    "> 中文字體（同樣從前面複製）"
   ]
  },
  {
   "cell_type": "code",
   "execution_count": 17,
   "metadata": {},
   "outputs": [],
   "source": [
    "from matplotlib.font_manager import fontManager\n",
    "import matplotlib as mlp\n",
    "fontManager.addfont(\"ChineseFont.ttf\")\n",
    "mlp.rc('font', family = \"ChineseFont\")"
   ]
  },
  {
   "cell_type": "markdown",
   "metadata": {},
   "source": [
    "### **畫圖觀察 3D 的移動軌跡**"
   ]
  },
  {
   "cell_type": "markdown",
   "metadata": {},
   "source": [
    "> 窮舉所有 loss 值"
   ]
  },
  {
   "cell_type": "code",
   "execution_count": 19,
   "metadata": {},
   "outputs": [],
   "source": [
    "import numpy as np\n",
    "\n",
    "a_all = np.arange(-100, 101)\n",
    "b_all = np.arange(-100, 101)\n",
    "loss_all = np.zeros((201, 201))\n",
    "\n",
    "i = 0\n",
    "for a in a_all:\n",
    "    j = 0\n",
    "    for b in b_all:\n",
    "        loss = compute_loss(x, y, a, b)\n",
    "        loss_all[i, j] = loss\n",
    "        j = j+1\n",
    "    i = i+1"
   ]
  },
  {
   "cell_type": "markdown",
   "metadata": {},
   "source": [
    "> 把畫 3D 圖 的程式碼複製過來"
   ]
  },
  {
   "cell_type": "code",
   "execution_count": 20,
   "metadata": {},
   "outputs": [
    {
     "name": "stdout",
     "output_type": "stream",
     "text": [
      "949.6206896551724\n",
      "[100] [175] [0] [75]\n"
     ]
    },
    {
     "data": {
      "image/png": "[encoded data removed]",
      "text/plain": [
       "<Figure size 432x432 with 1 Axes>"
      ]
     },
     "metadata": {
      "needs_background": "light"
     },
     "output_type": "display_data"
    }
   ],
   "source": [
    "plt.figure(figsize=(6, 6)) # 圖片大小\n",
    "\n",
    "ax = plt.axes(projection = \"3d\")\n",
    "ax.view_init(20, -100) # 查看視角\n",
    "ax.xaxis.set_pane_color((1, 1, 1)) # 背景顏色\n",
    "ax.yaxis.set_pane_color((1, 1, 1))\n",
    "ax.zaxis.set_pane_color((1, 1, 1))\n",
    "\n",
    "b_grid, a_grid = np.meshgrid(b_all, a_all) # 網格化\n",
    "######   https://wangyeming.github.io/2018/11/12/numpy-meshgrid/\n",
    "ax.plot_surface(a_grid, b_grid, loss_all, alpha=0.3)\n",
    "\n",
    "# 設定資訊\n",
    "ax.set_title(\"a b 對應的 loss\")\n",
    "ax.set_xlabel(\"a\")\n",
    "ax.set_ylabel(\"b\")\n",
    "ax.set_zlabel(\"loss\")\n",
    "\n",
    "# 尋找 loss 最少的點\n",
    "print(np.min(loss_all))\n",
    "a_index, b_index = np.where(loss_all == np.min(loss_all))\n",
    "print(a_index, b_index, a_all[a_index], b_all[b_index])\n",
    "ax.scatter(a_all[a_index], b_all[b_index], loss_all[a_index, b_index], color=\"red\", s=40)\n",
    "\n",
    "# TODO：劃出軌跡\n",
    "ax.scatter(a_hist[0], b_hist[0], loss_hist[0], color=\"green\", s = 40)\n",
    "ax.plot(a_hist, b_hist, loss_hist)\n",
    "\n",
    "plt.show()"
   ]
  },
  {
   "cell_type": "markdown",
   "metadata": {},
   "source": [
    "> 把 gradient_descent() 移下來方便操作"
   ]
  },
  {
   "cell_type": "code",
   "execution_count": 21,
   "metadata": {},
   "outputs": [
    {
     "name": "stdout",
     "output_type": "stream",
     "text": [
      "第   0 次更新: Loss: 47063074.08, a: 99.91, b: 100.00, a_gradient: 940716.83, b_gradient: 12043.45\n",
      "第 2000 次更新: Loss: 1101319.91, a: 15.08, b: 98.91, a_gradient: 143823.03, b_gradient: 1858.71\n",
      "第 4000 次更新: Loss: 26991.58, a: 2.11, b: 98.74, a_gradient: 21988.43, b_gradient: 301.60\n",
      "第 6000 次更新: Loss: 1879.72, a: 0.13, b: 98.71, a_gradient: 3361.52, b_gradient: 63.53\n",
      "第 8000 次更新: Loss: 1292.67, a: -0.17, b: 98.70, a_gradient: 513.71, b_gradient: 27.14\n"
     ]
    }
   ],
   "source": [
    "a = 100\n",
    "b = 100\n",
    "learning_rate = 0.0000001\n",
    "run_iter = 10000\n",
    "show_iter = 2000\n",
    "\n",
    "a_final, b_final, a_hist, b_hist, loss_hist = gradient_descent(x, y, a, b, learning_rate, compute_loss, compute_gradient, run_iter, show_iter)"
   ]
  },
  {
   "cell_type": "code",
   "execution_count": null,
   "metadata": {},
   "outputs": [],
   "source": []
  }
 ],
 "metadata": {
  "kernelspec": {
   "display_name": "base",
   "language": "python",
   "name": "python3"
  },
  "language_info": {
   "codemirror_mode": {
    "name": "ipython",
    "version": 3
   },
   "file_extension": ".py",
   "mimetype": "text/x-python",
   "name": "python",
   "nbconvert_exporter": "python",
   "pygments_lexer": "ipython3",
   "version": "3.10.11"
  }
 },
 "nbformat": 4,
 "nbformat_minor": 2
}
