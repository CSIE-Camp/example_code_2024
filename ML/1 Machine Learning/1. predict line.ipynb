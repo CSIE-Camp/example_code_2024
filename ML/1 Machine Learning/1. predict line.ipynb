{
 "cells": [
  {
   "cell_type": "markdown",
   "metadata": {},
   "source": [
    "### **讀入資料**"
   ]
  },
  {
   "cell_type": "code",
   "execution_count": 38,
   "metadata": {},
   "outputs": [],
   "source": [
    "import pandas as pd\n",
    "\n",
    "# TODO：貼上網址抓資料\n",
    "url = \"https://raw.githubusercontent.com/CSIE-Camp/example_code_2024/main/ML/1_Machine_Learning/807/chinese_science_score.csv\"\n",
    "data = pd.read_csv(url)"
   ]
  },
  {
   "cell_type": "markdown",
   "metadata": {},
   "source": [
    "### **畫出分布圖**"
   ]
  },
  {
   "cell_type": "markdown",
   "metadata": {},
   "source": [
    "> 將數值設定為 二維空間的 x 軸與 y 軸\n",
    ">> **x 軸**文科；**y 軸**理科"
   ]
  },
  {
   "cell_type": "code",
   "execution_count": 28,
   "metadata": {},
   "outputs": [],
   "source": [
    "# TODO：設定 x, y 數值\n",
    "x = data['chinese']\n",
    "y = data['science']"
   ]
  },
  {
   "cell_type": "markdown",
   "metadata": {},
   "source": [
    "> 畫圖"
   ]
  },
  {
   "cell_type": "code",
   "execution_count": 29,
   "metadata": {},
   "outputs": [
    {
     "data": {
      "image/png": "[encoded data removed]",
      "text/plain": [
       "<Figure size 432x288 with 1 Axes>"
      ]
     },
     "metadata": {
      "needs_background": "light"
     },
     "output_type": "display_data"
    }
   ],
   "source": [
    "import matplotlib.pyplot as plt\n",
    "\n",
    "# TODO：更改點的樣式與顏色\n",
    "plt.scatter(x, y, marker=\"x\", color = \"red\")  # 點出所有位置\n",
    "\n",
    "plt.title(\"文科 - 理科\")\n",
    "plt.xlabel(\"文科\")\n",
    "plt.ylabel(\"理科\")\n",
    "\n",
    "plt.show() # 顯示圖片"
   ]
  },
  {
   "cell_type": "markdown",
   "metadata": {},
   "source": [
    "> 加上中文字體"
   ]
  },
  {
   "cell_type": "code",
   "execution_count": 30,
   "metadata": {},
   "outputs": [],
   "source": [
    "from matplotlib.font_manager import fontManager\n",
    "import matplotlib as mlp\n",
    "fontManager.addfont(\"ChineseFont.ttf\")\n",
    "mlp.rc('font', family = \"ChineseFont\")"
   ]
  },
  {
   "cell_type": "markdown",
   "metadata": {},
   "source": [
    "### **畫出預測線**"
   ]
  },
  {
   "cell_type": "markdown",
   "metadata": {},
   "source": [
    "> 當知道 x 值時，y 值是多少？"
   ]
  },
  {
   "cell_type": "code",
   "execution_count": 31,
   "metadata": {},
   "outputs": [
    {
     "data": {
      "image/png": "[encoded data removed]",
      "text/plain": [
       "<Figure size 432x288 with 1 Axes>"
      ]
     },
     "metadata": {
      "needs_background": "light"
     },
     "output_type": "display_data"
    }
   ],
   "source": [
    "a = 10\n",
    "b = 5\n",
    "\n",
    "y_pred = a * x + b      # 已知 x 值，預測 y 值\n",
    "\n",
    "# TODO 將所有點連起來，顏色改成藍色\n",
    "plt.scatter(x, y_pred)\n",
    "\n",
    "plt.show()"
   ]
  },
  {
   "cell_type": "markdown",
   "metadata": {},
   "source": [
    "### **合併分布圖和預測線**"
   ]
  },
  {
   "cell_type": "markdown",
   "metadata": {},
   "source": [
    "> 使用 function 包起來"
   ]
  },
  {
   "cell_type": "code",
   "execution_count": 32,
   "metadata": {},
   "outputs": [],
   "source": [
    "def plot_pred(a, b):\n",
    "\n",
    "    # >畫圖\n",
    "    y_pred = a*x + b\n",
    "    plt.scatter(x, y, marker = \"x\", color = \"red\", label = \"真實數據\")\n",
    "    # >預測線\n",
    "    plt.plot(x, y_pred, color = \"blue\", label = \"預測線\")\n",
    "    \n",
    "    plt.title(\"文科 - 理科\")\n",
    "    plt.xlabel(\"文科\")\n",
    "    plt.ylabel(\"理科\")\n",
    "\n",
    "    # 固定 x 軸跟 y 軸\n",
    "    plt.xlim([-10, 110])\n",
    "    plt.ylim([-10, 110])\n",
    "\n",
    "    plt.legend() # 合併後，加入圖例\n",
    "    plt.show()"
   ]
  },
  {
   "cell_type": "markdown",
   "metadata": {},
   "source": [
    "> 呼叫 function"
   ]
  },
  {
   "cell_type": "code",
   "execution_count": 34,
   "metadata": {},
   "outputs": [
    {
     "data": {
      "image/png": "[encoded data removed]",
      "text/plain": [
       "<Figure size 432x288 with 1 Axes>"
      ]
     },
     "metadata": {
      "needs_background": "light"
     },
     "output_type": "display_data"
    }
   ],
   "source": [
    "plot_pred(1, 12)"
   ]
  },
  {
   "cell_type": "markdown",
   "metadata": {},
   "source": [
    "### **Bonus**"
   ]
  },
  {
   "cell_type": "code",
   "execution_count": 37,
   "metadata": {},
   "outputs": [
    {
     "data": {
      "application/vnd.jupyter.widget-view+json": {
       "model_id": "c0d1ed628041431da0279101b4200d24",
       "version_major": 2,
       "version_minor": 0
      },
      "text/plain": [
       "interactive(children=(FloatSlider(value=0.0, description='a', max=10.0, min=-10.0), IntSlider(value=0, descrip…"
      ]
     },
     "metadata": {},
     "output_type": "display_data"
    },
    {
     "data": {
      "text/plain": [
       "<function __main__.plot_pred(a, b)>"
      ]
     },
     "execution_count": 37,
     "metadata": {},
     "output_type": "execute_result"
    }
   ],
   "source": [
    "from ipywidgets import interact\n",
    "\n",
    "# TODO：增加數值滑桿\n",
    "interact(plot_pred, a = (-10, 10,0.1), b = (-100, 100, 1))"
   ]
  },
  {
   "cell_type": "code",
   "execution_count": null,
   "metadata": {},
   "outputs": [],
   "source": []
  }
 ],
 "metadata": {
  "kernelspec": {
   "display_name": "Python 3",
   "language": "python",
   "name": "python3"
  },
  "language_info": {
   "codemirror_mode": {
    "name": "ipython",
    "version": 3
   },
   "file_extension": ".py",
   "mimetype": "text/x-python",
   "name": "python",
   "nbconvert_exporter": "python",
   "pygments_lexer": "ipython3",
   "version": "3.10.11"
  }
 },
 "nbformat": 4,
 "nbformat_minor": 2
}
