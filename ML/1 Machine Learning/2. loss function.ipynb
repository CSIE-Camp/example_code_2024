{
 "cells": [
  {
   "cell_type": "markdown",
   "metadata": {},
   "source": [
    "### **讀入資料**"
   ]
  },
  {
   "cell_type": "markdown",
   "metadata": {},
   "source": [
    "> 可以從第一個實作複製過來"
   ]
  },
  {
   "cell_type": "code",
   "execution_count": 1,
   "metadata": {},
   "outputs": [],
   "source": [
    "import pandas as pd\n",
    "\n",
    "# TODO：貼上網址抓資料\n",
    "url = \"https://raw.githubusercontent.com/CSIE-Camp/example_code_2024/main/ML/1_Machine_Learning/807/chinese_science_score.csv\"\n",
    "data = pd.read_csv(url)"
   ]
  },
  {
   "cell_type": "markdown",
   "metadata": {},
   "source": [
    "### **計算 loss function**"
   ]
  },
  {
   "cell_type": "markdown",
   "metadata": {},
   "source": [
    "> 設定 x, y（上一個實作一樣有）"
   ]
  },
  {
   "cell_type": "code",
   "execution_count": 2,
   "metadata": {},
   "outputs": [],
   "source": [
    "x = data['chinese']\n",
    "y = data['science']"
   ]
  },
  {
   "cell_type": "markdown",
   "metadata": {},
   "source": [
    "> 計算 (a, b) = (0, 0) 的 loss 值"
   ]
  },
  {
   "cell_type": "code",
   "execution_count": 3,
   "metadata": {},
   "outputs": [
    {
     "data": {
      "text/plain": [
       "6548.758620689655"
      ]
     },
     "execution_count": 3,
     "metadata": {},
     "output_type": "execute_result"
    }
   ],
   "source": [
    "a = 0\n",
    "b = 0\n",
    "\n",
    "y_pred = a*x + b\n",
    "# TODO：設定 loss function \n",
    "loss = (y - y_pred)**2\n",
    "\n",
    "# TODO：計算平均\n",
    "loss.sum() / len(x)"
   ]
  },
  {
   "cell_type": "markdown",
   "metadata": {},
   "source": [
    "> 用 function 包起來"
   ]
  },
  {
   "cell_type": "code",
   "execution_count": 4,
   "metadata": {},
   "outputs": [],
   "source": [
    "def compute_loss(x, y, a, b):\n",
    "    y_pred = a*x + b\n",
    "    loss = (y - y_pred)**2\n",
    "    loss = loss.sum() / len(x)\n",
    "\n",
    "    return loss"
   ]
  },
  {
   "cell_type": "markdown",
   "metadata": {},
   "source": [
    "> 測試 function"
   ]
  },
  {
   "cell_type": "code",
   "execution_count": 6,
   "metadata": {},
   "outputs": [
    {
     "data": {
      "text/plain": [
       "175488.5172413793"
      ]
     },
     "execution_count": 6,
     "metadata": {},
     "output_type": "execute_result"
    }
   ],
   "source": [
    "compute_loss(x, y, 7, 10)"
   ]
  },
  {
   "cell_type": "markdown",
   "metadata": {},
   "source": [
    "### **固定 b 值，觀察 loss**"
   ]
  },
  {
   "cell_type": "markdown",
   "metadata": {},
   "source": [
    "> a = [-100, 100], b = 0"
   ]
  },
  {
   "cell_type": "code",
   "execution_count": 7,
   "metadata": {},
   "outputs": [
    {
     "data": {
      "text/plain": [
       "[47899348.75862069,\n",
       " 46955895.68965517,\n",
       " 46021826.96551724,\n",
       " 45097142.5862069,\n",
       " 44181842.551724136,\n",
       " 43275926.862068966,\n",
       " 42379395.51724138,\n",
       " 41492248.51724138,\n",
       " 40614485.862068966,\n",
       " 39746107.551724136,\n",
       " 38887113.5862069,\n",
       " 38037503.96551724,\n",
       " 37197278.68965517,\n",
       " 36366437.75862069,\n",
       " 35544981.172413796,\n",
       " 34732908.93103448,\n",
       " 33930221.03448276,\n",
       " 33136917.48275862,\n",
       " 32352998.275862068,\n",
       " 31578463.413793102,\n",
       " 30813312.896551725,\n",
       " 30057546.724137932,\n",
       " 29311164.896551725,\n",
       " 28574167.413793102,\n",
       " 27846554.275862068,\n",
       " 27128325.48275862,\n",
       " 26419481.03448276,\n",
       " 25720020.931034483,\n",
       " 25029945.172413792,\n",
       " 24349253.75862069,\n",
       " 23677946.689655174,\n",
       " 23016023.96551724,\n",
       " 22363485.586206898,\n",
       " 21720331.55172414,\n",
       " 21086561.862068966,\n",
       " 20462176.51724138,\n",
       " 19847175.51724138,\n",
       " 19241558.862068966,\n",
       " 18645326.55172414,\n",
       " 18058478.586206898,\n",
       " 17481014.96551724,\n",
       " 16912935.689655174,\n",
       " 16354240.75862069,\n",
       " 15804930.172413792,\n",
       " 15265003.931034483,\n",
       " 14734462.034482758,\n",
       " 14213304.48275862,\n",
       " 13701531.27586207,\n",
       " 13199142.413793104,\n",
       " 12706137.896551725,\n",
       " 12222517.72413793,\n",
       " 11748281.896551725,\n",
       " 11283430.413793104,\n",
       " 10827963.27586207,\n",
       " 10381880.48275862,\n",
       " 9945182.034482758,\n",
       " 9517867.931034483,\n",
       " 9099938.172413792,\n",
       " 8691392.75862069,\n",
       " 8292231.689655173,\n",
       " 7902454.9655172415,\n",
       " 7522062.586206896,\n",
       " 7151054.551724138,\n",
       " 6789430.862068965,\n",
       " 6437191.517241379,\n",
       " 6094336.517241379,\n",
       " 5760865.862068965,\n",
       " 5436779.551724138,\n",
       " 5122077.586206896,\n",
       " 4816759.9655172415,\n",
       " 4520826.689655173,\n",
       " 4234277.75862069,\n",
       " 3957113.172413793,\n",
       " 3689332.9310344825,\n",
       " 3430937.0344827585,\n",
       " 3181925.4827586208,\n",
       " 2942298.275862069,\n",
       " 2712055.4137931033,\n",
       " 2491196.896551724,\n",
       " 2279722.724137931,\n",
       " 2077632.896551724,\n",
       " 1884927.4137931035,\n",
       " 1701606.2758620689,\n",
       " 1527669.4827586208,\n",
       " 1363117.0344827587,\n",
       " 1207948.9310344828,\n",
       " 1062165.1724137932,\n",
       " 925765.7586206896,\n",
       " 798750.6896551724,\n",
       " 681119.9655172414,\n",
       " 572873.5862068966,\n",
       " 474011.5517241379,\n",
       " 384533.8620689655,\n",
       " 304440.5172413793,\n",
       " 233731.5172413793,\n",
       " 172406.8620689655,\n",
       " 120466.55172413793,\n",
       " 77910.58620689655,\n",
       " 44738.96551724138,\n",
       " 20951.689655172413,\n",
       " 6548.758620689655,\n",
       " 1530.1724137931035,\n",
       " 5895.931034482759,\n",
       " 19646.03448275862,\n",
       " 42780.48275862069,\n",
       " 75299.27586206897,\n",
       " 117202.41379310345,\n",
       " 168489.89655172414,\n",
       " 229161.72413793104,\n",
       " 299217.8965517241,\n",
       " 378658.4137931034,\n",
       " 467483.275862069,\n",
       " 565692.4827586206,\n",
       " 673286.0344827586,\n",
       " 790263.9310344828,\n",
       " 916626.1724137932,\n",
       " 1052372.7586206896,\n",
       " 1197503.6896551724,\n",
       " 1352018.9655172413,\n",
       " 1515918.5862068965,\n",
       " 1689202.551724138,\n",
       " 1871870.8620689656,\n",
       " 2063923.5172413792,\n",
       " 2265360.5172413792,\n",
       " 2476181.8620689656,\n",
       " 2696387.5517241377,\n",
       " 2925977.5862068967,\n",
       " 3164951.9655172415,\n",
       " 3413310.6896551726,\n",
       " 3671053.7586206896,\n",
       " 3938181.172413793,\n",
       " 4214692.931034483,\n",
       " 4500589.0344827585,\n",
       " 4795869.482758621,\n",
       " 5100534.275862069,\n",
       " 5414583.413793104,\n",
       " 5738016.8965517245,\n",
       " 6070834.724137931,\n",
       " 6413036.8965517245,\n",
       " 6764623.413793104,\n",
       " 7125594.275862069,\n",
       " 7495949.482758621,\n",
       " 7875689.0344827585,\n",
       " 8264812.931034483,\n",
       " 8663321.172413792,\n",
       " 9071213.75862069,\n",
       " 9488490.689655172,\n",
       " 9915151.965517242,\n",
       " 10351197.586206896,\n",
       " 10796627.551724138,\n",
       " 11251441.862068966,\n",
       " 11715640.51724138,\n",
       " 12189223.51724138,\n",
       " 12672190.862068966,\n",
       " 13164542.551724138,\n",
       " 13666278.586206896,\n",
       " 14177398.965517242,\n",
       " 14697903.689655172,\n",
       " 15227792.75862069,\n",
       " 15767066.172413792,\n",
       " 16315723.931034483,\n",
       " 16873766.03448276,\n",
       " 17441192.48275862,\n",
       " 18018003.275862068,\n",
       " 18604198.413793102,\n",
       " 19199777.896551725,\n",
       " 19804741.724137932,\n",
       " 20419089.896551725,\n",
       " 21042822.413793102,\n",
       " 21675939.275862068,\n",
       " 22318440.48275862,\n",
       " 22970326.03448276,\n",
       " 23631595.931034483,\n",
       " 24302250.172413792,\n",
       " 24982288.75862069,\n",
       " 25671711.689655174,\n",
       " 26370518.96551724,\n",
       " 27078710.586206898,\n",
       " 27796286.55172414,\n",
       " 28523246.862068966,\n",
       " 29259591.51724138,\n",
       " 30005320.51724138,\n",
       " 30760433.862068966,\n",
       " 31524931.55172414,\n",
       " 32298813.586206898,\n",
       " 33082079.96551724,\n",
       " 33874730.68965517,\n",
       " 34676765.75862069,\n",
       " 35488185.172413796,\n",
       " 36308988.93103448,\n",
       " 37139177.03448276,\n",
       " 37978749.48275862,\n",
       " 38827706.27586207,\n",
       " 39686047.4137931,\n",
       " 40553772.89655172,\n",
       " 41430882.72413793,\n",
       " 42317376.89655172,\n",
       " 43213255.4137931,\n",
       " 44118518.27586207,\n",
       " 45033165.48275862,\n",
       " 45957197.03448276]"
      ]
     },
     "execution_count": 7,
     "metadata": {},
     "output_type": "execute_result"
    }
   ],
   "source": [
    "loss_all = []\n",
    "\n",
    "for a in range(-100, 101):\n",
    "    loss = compute_loss(x, y, a, 0)\n",
    "    loss_all.append(loss)\n",
    "\n",
    "loss_all"
   ]
  },
  {
   "cell_type": "markdown",
   "metadata": {},
   "source": [
    "> 畫圖觀察結果"
   ]
  },
  {
   "cell_type": "code",
   "execution_count": 8,
   "metadata": {},
   "outputs": [
    {
     "data": {
      "image/png": "[encoded data removed]",
      "text/plain": [
       "<Figure size 432x288 with 1 Axes>"
      ]
     },
     "metadata": {
      "needs_background": "light"
     },
     "output_type": "display_data"
    }
   ],
   "source": [
    "import matplotlib.pyplot as plt\n",
    "\n",
    "# TODO：將所有點連起來\n",
    "plt.scatter(range(-100, 101), loss_all)\n",
    "\n",
    "plt.title(\"loss function a=[-100, 100], b=0\")\n",
    "plt.xlabel(\"a\")\n",
    "plt.ylabel(\"loss\")\n",
    "\n",
    "plt.show()"
   ]
  },
  {
   "cell_type": "markdown",
   "metadata": {},
   "source": [
    "### **窮舉所有 a, b 值的 loss**"
   ]
  },
  {
   "cell_type": "markdown",
   "metadata": {},
   "source": [
    "> a = [-100, 100], b = [-100, 100]"
   ]
  },
  {
   "cell_type": "code",
   "execution_count": 9,
   "metadata": {},
   "outputs": [],
   "source": [
    "import numpy as np\n",
    "\n",
    "a_all = np.arange(-100, 101)\n",
    "b_all = np.arange(-100, 101)\n",
    "loss_all = np.zeros((201, 201))\n",
    "\n",
    "i = 0\n",
    "for a in a_all:\n",
    "    j = 0\n",
    "    for b in b_all:\n",
    "        loss = compute_loss(x, y, a, b)\n",
    "        loss_all[  i, j  ] = loss\n",
    "\n",
    "        j = j+1\n",
    "    i = i+1"
   ]
  },
  {
   "cell_type": "markdown",
   "metadata": {},
   "source": [
    "> 觀察 a_all, b_all, loss_all"
   ]
  },
  {
   "cell_type": "code",
   "execution_count": 10,
   "metadata": {},
   "outputs": [
    {
     "data": {
      "text/plain": [
       "array([-100,  -99,  -98,  -97,  -96,  -95,  -94,  -93,  -92,  -91,  -90,\n",
       "        -89,  -88,  -87,  -86,  -85,  -84,  -83,  -82,  -81,  -80,  -79,\n",
       "        -78,  -77,  -76,  -75,  -74,  -73,  -72,  -71,  -70,  -69,  -68,\n",
       "        -67,  -66,  -65,  -64,  -63,  -62,  -61,  -60,  -59,  -58,  -57,\n",
       "        -56,  -55,  -54,  -53,  -52,  -51,  -50,  -49,  -48,  -47,  -46,\n",
       "        -45,  -44,  -43,  -42,  -41,  -40,  -39,  -38,  -37,  -36,  -35,\n",
       "        -34,  -33,  -32,  -31,  -30,  -29,  -28,  -27,  -26,  -25,  -24,\n",
       "        -23,  -22,  -21,  -20,  -19,  -18,  -17,  -16,  -15,  -14,  -13,\n",
       "        -12,  -11,  -10,   -9,   -8,   -7,   -6,   -5,   -4,   -3,   -2,\n",
       "         -1,    0,    1,    2,    3,    4,    5,    6,    7,    8,    9,\n",
       "         10,   11,   12,   13,   14,   15,   16,   17,   18,   19,   20,\n",
       "         21,   22,   23,   24,   25,   26,   27,   28,   29,   30,   31,\n",
       "         32,   33,   34,   35,   36,   37,   38,   39,   40,   41,   42,\n",
       "         43,   44,   45,   46,   47,   48,   49,   50,   51,   52,   53,\n",
       "         54,   55,   56,   57,   58,   59,   60,   61,   62,   63,   64,\n",
       "         65,   66,   67,   68,   69,   70,   71,   72,   73,   74,   75,\n",
       "         76,   77,   78,   79,   80,   81,   82,   83,   84,   85,   86,\n",
       "         87,   88,   89,   90,   91,   92,   93,   94,   95,   96,   97,\n",
       "         98,   99,  100])"
      ]
     },
     "execution_count": 10,
     "metadata": {},
     "output_type": "execute_result"
    }
   ],
   "source": [
    "a_all"
   ]
  },
  {
   "cell_type": "markdown",
   "metadata": {},
   "source": [
    "> 目標\n",
    "> - 觀察 3D 圖片\n",
    "> - 畫出曲面圖（plot_surface）\n",
    "> - 網格化 a_all 和 b_all（meshgrid）https://wangyeming.github.io/2018/11/12/numpy-meshgrid/\n",
    "> - 把網格畫出來（plot_wireframe）\n",
    ">> **尋找最低的 loss 值在哪裡**"
   ]
  },
  {
   "cell_type": "markdown",
   "metadata": {},
   "source": [
    "> 可自行嘗試\n",
    "- 設定背景顏色\n",
    "- 增加中文字體\n",
    "- 設定資訊（標題，軸線名稱）\n",
    "- 查看視角的改變\n",
    "- 設定圖片大小（figure）"
   ]
  },
  {
   "cell_type": "code",
   "execution_count": 14,
   "metadata": {},
   "outputs": [
    {
     "name": "stdout",
     "output_type": "stream",
     "text": [
      "[100] [175] [0] [75]\n"
     ]
    },
    {
     "data": {
      "image/png": "[encoded data removed]",
      "text/plain": [
       "<Figure size 432x432 with 1 Axes>"
      ]
     },
     "metadata": {
      "needs_background": "light"
     },
     "output_type": "display_data"
    }
   ],
   "source": [
    "plt.figure(figsize=(6, 6)) # 圖片大小\n",
    "\n",
    "ax = plt.axes(projection = \"3d\")\n",
    "ax.view_init(20, -100) # 查看視角\n",
    "ax.xaxis.set_pane_color((1, 1, 1)) # 背景顏色\n",
    "ax.yaxis.set_pane_color((1, 1, 1))\n",
    "ax.zaxis.set_pane_color((1, 1, 1))\n",
    "\n",
    "b_grid, a_grid = np.meshgrid(b_all, a_all) # 網格化\n",
    "######   https://wangyeming.github.io/2018/11/12/numpy-meshgrid/\n",
    "ax.plot_surface(a_grid, b_grid, loss_all, cmap=\"Spectral_r\", alpha=0.8)\n",
    "ax.plot_wireframe(a_grid, b_grid, loss_all, color=\"black\", alpha=0.15)\n",
    "\n",
    "# 設定資訊\n",
    "ax.set_title(\"a b 對應的 loss\")\n",
    "ax.set_xlabel(\"a\")\n",
    "ax.set_ylabel(\"b\")\n",
    "ax.set_zlabel(\"loss\")\n",
    "\n",
    "# TODO：尋找 loss 最少的點\n",
    "a_index, b_index = np.where(loss_all == np.min(loss_all))\n",
    "print(a_index, b_index, a_all[a_index], b_all[b_index])\n",
    "ax.scatter(a_all[a_index], b_all[b_index], loss_all[a_index, b_index], color = \"red\", s=40)\n",
    "\n",
    "\n",
    "plt.show()"
   ]
  },
  {
   "cell_type": "markdown",
   "metadata": {},
   "source": [
    "> 加上中文字體"
   ]
  },
  {
   "cell_type": "code",
   "execution_count": 13,
   "metadata": {},
   "outputs": [],
   "source": [
    "from matplotlib.font_manager import fontManager\n",
    "import matplotlib as mlp\n",
    "fontManager.addfont(\"ChineseFont.ttf\")\n",
    "mlp.rc('font', family = \"ChineseFont\")"
   ]
  },
  {
   "cell_type": "markdown",
   "metadata": {},
   "source": [
    "> 測試得到的 a, b 它的 loss 值是多少？"
   ]
  },
  {
   "cell_type": "code",
   "execution_count": 15,
   "metadata": {},
   "outputs": [
    {
     "data": {
      "text/plain": [
       "949.6206896551724"
      ]
     },
     "execution_count": 15,
     "metadata": {},
     "output_type": "execute_result"
    }
   ],
   "source": [
    "compute_loss(x, y, a_all[a_index], b_all[b_index])"
   ]
  },
  {
   "cell_type": "markdown",
   "metadata": {},
   "source": [
    "## ``` 理科 = a_all[a_index] * 文科 + b_all[b_index] ```"
   ]
  }
 ],
 "metadata": {
  "kernelspec": {
   "display_name": "base",
   "language": "python",
   "name": "python3"
  },
  "language_info": {
   "codemirror_mode": {
    "name": "ipython",
    "version": 3
   },
   "file_extension": ".py",
   "mimetype": "text/x-python",
   "name": "python",
   "nbconvert_exporter": "python",
   "pygments_lexer": "ipython3",
   "version": "3.10.11"
  }
 },
 "nbformat": 4,
 "nbformat_minor": 2
}
