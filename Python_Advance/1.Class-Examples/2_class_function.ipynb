{
 "cells": [
  {
   "cell_type": "markdown",
   "metadata": {},
   "source": [
    "接續剛剛的程式，幫我寫一段程式，利用 `compare` 寫出計算出書籍價格的最小值的 `class min_price`。"
   ]
  },
  {
   "cell_type": "code",
   "execution_count": null,
   "metadata": {},
   "outputs": [],
   "source": [
    "class Book:\n",
    "    def __init__(self, title, author, price):\n",
    "        self.title = title\n",
    "        self.author = author\n",
    "        self.price = price\n",
    "\n",
    "    def compare(self, other):\n",
    "        if self.price < other.price:\n",
    "            return self\n",
    "        else:\n",
    "            return other\n",
    "\n",
    "Book_list = []\n",
    "Book_list.append(Book(\"Python Programming\", \"John\", 400))\n",
    "Book_list.append(Book(\"Mechine Learning\", \"Mary\", 600))\n",
    "Book_list.append(Book(\"Information Security\", \"Tom\", 500))\n",
    "Book_list.append(Book(\"Data Science\", \"Jerry\", 700))\n",
    "\n",
    "min_price = Book_list[0]\n",
    "for book in Book_list:\n",
    "    min_price = min_price.compare(book)\n",
    "print(f\"The book with the lowest price is {min_price.title}\")\n",
    "        \n",
    "    "
   ]
  }
 ],
 "metadata": {
  "kernelspec": {
   "display_name": "Python 3",
   "language": "python",
   "name": "python3"
  },
  "language_info": {
   "codemirror_mode": {
    "name": "ipython",
    "version": 3
   },
   "file_extension": ".py",
   "mimetype": "text/x-python",
   "name": "python",
   "nbconvert_exporter": "python",
   "pygments_lexer": "ipython3",
   "version": "3.12.0"
  }
 },
 "nbformat": 4,
 "nbformat_minor": 2
}
