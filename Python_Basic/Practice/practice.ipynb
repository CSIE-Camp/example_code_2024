{
 "cells": [
  {
   "cell_type": "markdown",
   "metadata": {},
   "source": [
    "1.輸入一個四位數正整數並計算4個位數的和，例如輸入1234，輸出10"
   ]
  },
  {
   "cell_type": "code",
   "execution_count": null,
   "metadata": {},
   "outputs": [],
   "source": [
    "num = int(input(\"請輸入四位數正整數: \"))\n",
    "sum = 0\n",
    "# TODO\n",
    "\n",
    "print(f\"加總結果是:{sum}\")"
   ]
  },
  {
   "cell_type": "markdown",
   "metadata": {},
   "source": [
    "2.輸入一個四位數正整數並倒向輸出，例如輸入1234，輸出4321"
   ]
  },
  {
   "cell_type": "code",
   "execution_count": 2,
   "metadata": {},
   "outputs": [],
   "source": [
    "num = int(input(\"請輸入四位數正整數: \"))\n",
    "result = 0\n",
    "# TODO\n",
    "\n",
    "print(result)"
   ]
  },
  {
   "cell_type": "markdown",
   "metadata": {},
   "source": [
    "3.輸入華氏溫度，然後將其轉換為攝氏溫度。轉換公式為：攝氏溫度 = (華氏溫度 - 32) * 5/9"
   ]
  },
  {
   "cell_type": "code",
   "execution_count": null,
   "metadata": {},
   "outputs": [],
   "source": [
    "F = float(input(\"請輸入華氏溫度\"))\n",
    "# TODO\n",
    "# C = \n",
    "print(float(C))"
   ]
  },
  {
   "cell_type": "markdown",
   "metadata": {},
   "source": [
    "4.輸入三個整數，請以小到大進行排序，只能用if，提示用三個if"
   ]
  },
  {
   "cell_type": "code",
   "execution_count": null,
   "metadata": {},
   "outputs": [],
   "source": [
    "a = int(input(\"第一個數: \"))\n",
    "b = int(input(\"第二個數: \"))\n",
    "c = int(input(\"第三個數: \"))\n",
    "# TODO\n",
    "print(f\"由小到大:{a}, {b}, {c}\")"
   ]
  },
  {
   "cell_type": "markdown",
   "metadata": {},
   "source": [
    "5.依序輸入一個四邊形的四邊長:，判斷是否為正方形?"
   ]
  },
  {
   "cell_type": "code",
   "execution_count": null,
   "metadata": {},
   "outputs": [],
   "source": [
    "a = int(input(\"請輸入四邊形的四邊長: \"))\n",
    "b = int(input())\n",
    "c = int(input())\n",
    "d = int(input())\n",
    "\n",
    "result = bool(1)\n",
    "if((a == b) & (b == c) & (c == d)):\n",
    "  result = True\n",
    "else:\n",
    "  result = False\n",
    "\n",
    "print(f\"{result}\")"
   ]
  },
  {
   "cell_type": "markdown",
   "metadata": {},
   "source": [
    "6.依序輸入一個三角形的三邊長，判斷是否為直角三角形?"
   ]
  },
  {
   "cell_type": "code",
   "execution_count": null,
   "metadata": {},
   "outputs": [],
   "source": [
    "a = int(input(\"請輸入三角形的三邊長: \"))\n",
    "b = int(input())\n",
    "c = int(input())\n",
    "\n",
    "# 輸入一個三角形的三個頂點，判斷是否為直角三角形\n",
    "result = False\n",
    "a2 = int(a ** 2)\n",
    "b2 = int(b ** 2)\n",
    "c2 = int(c ** 2)\n",
    "\"\"\"\n",
    "print(a ** 2)\n",
    "print(b ** 2)\n",
    "print(c ** 2)\n",
    "\"\"\"\n",
    "if((a + b) > c or (b + c) > a or (a + c) > b):\n",
    "  if((a2 + b2 == c2) or (b2 + c2 == a2) or (c2 + a2 == b2)):\n",
    "    result = True\n",
    "if(result):\n",
    "  print(\"是直角三角形\")\n",
    "else:\n",
    "  print(\"不是直角三角形\")"
   ]
  },
  {
   "cell_type": "markdown",
   "metadata": {},
   "source": [
    "以上題目都挑戰完了?\n",
    "來寫寫看高中生解題系統(ZeroJudge)的題目吧~\n",
    "\n",
    "[a147 Print it all](https://zerojudge.tw/ShowProblem?problemid=a147)\n",
    "\n",
    "[c022 Odd Sum](https://zerojudge.tw/ShowProblem?problemid=c022)\n",
    "\n",
    "[c119 I Love Big Numbers](https://zerojudge.tw/ShowProblem?problemid=c119)\n"
   ]
  },
  {
   "cell_type": "markdown",
   "metadata": {},
   "source": [
    "[b772. 50010. Word Editor](https://zerojudge.tw/ShowProblem?problemid=b772)\n",
    "\n",
    "[a021. 大數運算](https://zerojudge.tw/ShowProblem?problemid=a021)\n",
    "\n",
    "[c659. 連接詞](https://zerojudge.tw/ShowProblem?problemid=c659)"
   ]
  },
  {
   "cell_type": "markdown",
   "metadata": {},
   "source": [
    "[more...](https://youtu.be/4FcgRPMH5G4?si=ei4_C1LJLTTm4rct)"
   ]
  },
  {
   "cell_type": "code",
   "execution_count": null,
   "metadata": {},
   "outputs": [],
   "source": []
  },
  {
   "cell_type": "code",
   "execution_count": null,
   "metadata": {},
   "outputs": [],
   "source": []
  },
  {
   "cell_type": "code",
   "execution_count": null,
   "metadata": {},
   "outputs": [],
   "source": []
  }
 ],
 "metadata": {
  "kernelspec": {
   "display_name": "Python 3",
   "language": "python",
   "name": "python3"
  },
  "language_info": {
   "codemirror_mode": {
    "name": "ipython",
    "version": 3
   },
   "file_extension": ".py",
   "mimetype": "text/x-python",
   "name": "python",
   "nbconvert_exporter": "python",
   "pygments_lexer": "ipython3",
   "version": "3.12.2"
  }
 },
 "nbformat": 4,
 "nbformat_minor": 2
}
