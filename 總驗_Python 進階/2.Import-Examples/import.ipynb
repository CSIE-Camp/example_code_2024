{
 "cells": [
  {
   "cell_type": "markdown",
   "metadata": {},
   "source": [
    "**import 內建函式庫**\n",
    "- sys 系統相關的參數以及函式\n",
    "- math 數學相關函式\n",
    "- random 亂數相關函式"
   ]
  },
  {
   "cell_type": "code",
   "execution_count": 3,
   "metadata": {},
   "outputs": [
    {
     "name": "stdout",
     "output_type": "stream",
     "text": [
      "3.141592653589793\n",
      "2.0\n"
     ]
    }
   ],
   "source": [
    "from math import pi\n",
    "from math import sqrt as square_root\n",
    "\n",
    "print(pi)\n",
    "print(square_root(4))"
   ]
  },
  {
   "cell_type": "code",
   "execution_count": 9,
   "metadata": {},
   "outputs": [
    {
     "name": "stdout",
     "output_type": "stream",
     "text": [
      "gcd(10, 20) =  10\n",
      "log(e) =  1.0\n",
      "log_10(2) =  0.3010299956639812\n",
      "180 degree = 3.141592653589793\n",
      "sin90 =  1.0\n"
     ]
    }
   ],
   "source": [
    "import math as m\n",
    "\n",
    "print(\"gcd(10, 20) = \", m.gcd(10, 20))\n",
    "print(\"log(e) = \", m.log(m.e))\n",
    "print(\"log_10(2) = \", m.log10(2))\n",
    "print(\"180 degree =\", m.radians(180))\n",
    "print(\"sin90 = \", m.sin(m.radians(90)))\n"
   ]
  },
  {
   "cell_type": "code",
   "execution_count": null,
   "metadata": {},
   "outputs": [],
   "source": [
    "import sys\n",
    "sys.setrecursionlimit(10)\n",
    "\n",
    "def rec(n):\n",
    "    print(n)\n",
    "    rec(n+1)\n",
    "\n",
    "rec(0)"
   ]
  },
  {
   "cell_type": "code",
   "execution_count": 5,
   "metadata": {},
   "outputs": [
    {
     "name": "stdout",
     "output_type": "stream",
     "text": [
      "random.seed()\n",
      "  0.056412360486397195\n",
      "random.seed(1)\n",
      "  0.13436424411240122\n"
     ]
    }
   ],
   "source": [
    "import random\n",
    "import time\n",
    "print(\"random.seed()\\n  \", end=\"\")\n",
    "random.seed()  # 跟 seed(time.time()) 一樣\n",
    "print(random.random())\n",
    "print(\"random.seed(1)\\n  \", end=\"\")\n",
    "random.seed(1)  # set 1 as seed\n",
    "print(random.random())"
   ]
  },
  {
   "cell_type": "code",
   "execution_count": 6,
   "metadata": {},
   "outputs": [
    {
     "name": "stdout",
     "output_type": "stream",
     "text": [
      "random.random()\n",
      "  0.7265498453626202\n",
      "random.randint(1, 10)\n",
      "  9\n",
      "random.randrange(1, 10, 2)\n",
      "  7\n",
      "random.choice([1, 2, 4, 8, 16])\n",
      "  4\n",
      "random.shuffle(lis)\n",
      "  [16, 4, 8, 2]\n"
     ]
    }
   ],
   "source": [
    "random.seed(time.time()) # 使用時間當作種子\n",
    "print(\"random.random()\\n  \", end=\"\")\n",
    "print(random.random()) # 顯示 0 到 1 之間的隨機數\n",
    "\n",
    "print(\"random.randint(1, 10)\\n  \", end=\"\")\n",
    "print(random.randint(1, 10)) # 顯示 1 到 10 之間的隨機整數\n",
    "\n",
    "print(\"random.randrange(1, 10, 2)\\n  \", end=\"\")\n",
    "print(random.randrange(1, 10, 2)) # 顯示 1 到 10 之間間格為 2 的隨機整數\n",
    "\n",
    "print(\"random.choice([1, 2, 4, 8, 16])\\n  \", end=\"\")\n",
    "print(random.choice([1, 2, 4, 8, 16])) # 隨機選擇一個元素\n",
    "\n",
    "lis = [2, 4, 8, 16]\n",
    "print(\"random.shuffle(lis)\\n  \", end=\"\") # 隨機排列\n",
    "random.shuffle(lis)\n",
    "print(lis)"
   ]
  },
  {
   "cell_type": "markdown",
   "metadata": {},
   "source": [
    "**import 自己寫的 module**\n",
    "- 引用和自己同個資料夾底下的 `.py` 檔"
   ]
  },
  {
   "cell_type": "code",
   "execution_count": 1,
   "metadata": {},
   "outputs": [
    {
     "name": "stdout",
     "output_type": "stream",
     "text": [
      "10 + 5 = 15\n",
      "10 - 5 = 5\n",
      "10 * 5 = 50\n",
      "10 / 5 = 2.0\n"
     ]
    }
   ],
   "source": [
    "# main.py\n",
    "import math_operations as mo\n",
    "\n",
    "x = 10\n",
    "y = 5\n",
    "\n",
    "print(f\"{x} + {y} = {mo.add(x, y)}\")\n",
    "print(f\"{x} - {y} = {mo.subtract(x, y)}\")\n",
    "print(f\"{x} * {y} = {mo.multiply(x, y)}\")\n",
    "print(f\"{x} / {y} = {mo.divide(x, y)}\")"
   ]
  }
 ],
 "metadata": {
  "kernelspec": {
   "display_name": "Python 3",
   "language": "python",
   "name": "python3"
  },
  "language_info": {
   "codemirror_mode": {
    "name": "ipython",
    "version": 3
   },
   "file_extension": ".py",
   "mimetype": "text/x-python",
   "name": "python",
   "nbconvert_exporter": "python",
   "pygments_lexer": "ipython3",
   "version": "3.12.0"
  }
 },
 "nbformat": 4,
 "nbformat_minor": 2
}
