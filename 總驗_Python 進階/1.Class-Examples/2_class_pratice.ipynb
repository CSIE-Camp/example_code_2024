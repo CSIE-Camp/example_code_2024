{
 "cells": [
  {
   "cell_type": "markdown",
   "metadata": {},
   "source": [
    "### 小小小練習"
   ]
  },
  {
   "cell_type": "markdown",
   "metadata": {},
   "source": [
    "接續剛剛的程式，幫我寫一段程式，利用`add`這個函式算出要買所有書需要多少錢"
   ]
  },
  {
   "cell_type": "code",
   "execution_count": 20,
   "metadata": {},
   "outputs": [],
   "source": [
    "class Book:\n",
    "    def __init__(self, title, author, price):\n",
    "        self.title = title\n",
    "        self.author = author\n",
    "        self.price = price\n",
    "\n",
    "    def add(self, other):\n",
    "        # todo\n",
    "        pass\n",
    "\n",
    "Book_list = []\n",
    "Book_list.append(Book(\"Python Programming\", \"John\", 400))\n",
    "Book_list.append(Book(\"Mechine Learning\", \"Mary\", 600))\n",
    "Book_list.append(Book(\"Information Security\", \"Tom\", 500))\n",
    "\n",
    "# todo\n",
    "\n",
    "        \n",
    "    "
   ]
  }
 ],
 "metadata": {
  "kernelspec": {
   "display_name": "Python 3",
   "language": "python",
   "name": "python3"
  },
  "language_info": {
   "codemirror_mode": {
    "name": "ipython",
    "version": 3
   },
   "file_extension": ".py",
   "mimetype": "text/x-python",
   "name": "python",
   "nbconvert_exporter": "python",
   "pygments_lexer": "ipython3",
   "version": "3.12.0"
  }
 },
 "nbformat": 4,
 "nbformat_minor": 2
}
