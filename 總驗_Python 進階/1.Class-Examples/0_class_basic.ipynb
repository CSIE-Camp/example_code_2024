{
 "cells": [
  {
   "cell_type": "markdown",
   "metadata": {},
   "source": [
    "如果我們今天要存很多本書的 `語言`、`書名`、`價格`"
   ]
  },
  {
   "cell_type": "code",
   "execution_count": 1,
   "metadata": {},
   "outputs": [],
   "source": [
    "book1_title = \"Python Programming\"\n",
    "book1_author = \"John\"\n",
    "book1_price = 400\n",
    "book2_title = \"Mechine Learning\"\n",
    "book2_author = \"Mary\"\n",
    "book2_price = 600\n",
    "book3_title = \"Information Security\"\n",
    "book3_author = \"Tom\"\n",
    "book3_price = 500\n",
    "book4_title = \"Web Development\"\n",
    "book4_author = \"Jerry\"\n",
    "book4_price = 350\n",
    "# ...\n",
    "# 是不是感覺很難存取"
   ]
  },
  {
   "cell_type": "markdown",
   "metadata": {},
   "source": [
    "### 酷酷的東西-class"
   ]
  },
  {
   "cell_type": "code",
   "execution_count": 1,
   "metadata": {},
   "outputs": [
    {
     "name": "stdout",
     "output_type": "stream",
     "text": [
      "<__main__.Book object at 0x0000016F6A202DB0>\n"
     ]
    }
   ],
   "source": [
    "class Book:\n",
    "    pass\n",
    "\n",
    "book1 = Book()\n",
    "book1.title = \"Python Programming\"\n",
    "book1.author = \"John\"\n",
    "book1.price = 400\n",
    "book2 = Book()\n",
    "book2.title = \"Mechine Learning\"\n",
    "book2.author = \"Mary\"\n",
    "book2.price = 600\n",
    "book3 = Book()\n",
    "book3.title = \"Information Security\"\n",
    "book3.author = \"Tom\"\n",
    "book3.price = 500\n",
    "\n",
    "print(f\"{book1.title} is written by {book1.author} and the price is {book1.price}\")"
   ]
  }
 ],
 "metadata": {
  "kernelspec": {
   "display_name": "Python 3",
   "language": "python",
   "name": "python3"
  },
  "language_info": {
   "codemirror_mode": {
    "name": "ipython",
    "version": 3
   },
   "file_extension": ".py",
   "mimetype": "text/x-python",
   "name": "python",
   "nbconvert_exporter": "python",
   "pygments_lexer": "ipython3",
   "version": "3.12.0"
  }
 },
 "nbformat": 4,
 "nbformat_minor": 2
}
