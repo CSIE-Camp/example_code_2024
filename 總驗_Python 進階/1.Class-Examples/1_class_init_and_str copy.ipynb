{
 "cells": [
  {
   "cell_type": "markdown",
   "metadata": {},
   "source": [
    "### 創建 class"
   ]
  },
  {
   "cell_type": "markdown",
   "metadata": {},
   "source": [
    "寫一個 `class` 有兩個變數傳入，並且有一個初始化的功能可以在初始化時把兩個函數設定好，然後再定義一個函數，會把書本的價格用 `how_much` 的方式印出來。\n",
    "\n",
    "然後要注意，使用內部在 `__init__` 中的變數時，要用 `self` 來呼叫。"
   ]
  },
  {
   "cell_type": "code",
   "execution_count": 20,
   "metadata": {},
   "outputs": [],
   "source": [
    "class Book:\n",
    "    def __init__(self, title, author, price):\n",
    "        self.title = title\n",
    "        self.author = author\n",
    "        self.price = price\n",
    "\n",
    "    def __str__(self):\n",
    "        return f\"{self.title} by {self.author} is priced at {self.price}\"\n",
    "    \n",
    "    def how_much(self):\n",
    "        return self.price\n",
    "    "
   ]
  },
  {
   "cell_type": "markdown",
   "metadata": {},
   "source": [
    "### 使用 class"
   ]
  },
  {
   "cell_type": "markdown",
   "metadata": {},
   "source": [
    "把 `book1` 設定為 `Book` 這個 class，然候傳入兩個變數，並且呼叫 `show_all` 這個函數。"
   ]
  },
  {
   "cell_type": "code",
   "execution_count": 21,
   "metadata": {},
   "outputs": [
    {
     "name": "stdout",
     "output_type": "stream",
     "text": [
      "Book1: Python Programming by John is priced at 400\n"
     ]
    }
   ],
   "source": [
    "book1 = Book(\"Python Programming\", \"John\", 400)\n",
    "book2 = Book(\"Mechine Learning\", \"Mary\", 600)\n",
    "book3 = Book(\"Information Security\", \"Tom\", 500)\n",
    "\n",
    "print(f\"Book1: {book1.title} by {book1.author} is priced at {book1.price}\")"
   ]
  },
  {
   "cell_type": "markdown",
   "metadata": {},
   "source": [
    "呼叫 `how_much` 回傳書本的價格"
   ]
  },
  {
   "cell_type": "code",
   "execution_count": 22,
   "metadata": {},
   "outputs": [
    {
     "name": "stdout",
     "output_type": "stream",
     "text": [
      "400\n"
     ]
    }
   ],
   "source": [
    "print(book1.how_much())"
   ]
  },
  {
   "cell_type": "markdown",
   "metadata": {},
   "source": [
    "## 回傳字串\n",
    "使用 `__str__` 可以設定當呼叫 class 時的回傳字串"
   ]
  },
  {
   "cell_type": "code",
   "execution_count": 23,
   "metadata": {},
   "outputs": [
    {
     "name": "stdout",
     "output_type": "stream",
     "text": [
      "Python Programming by John is priced at 400\n"
     ]
    }
   ],
   "source": [
    "print(book1)"
   ]
  }
 ],
 "metadata": {
  "kernelspec": {
   "display_name": "Python 3",
   "language": "python",
   "name": "python3"
  },
  "language_info": {
   "codemirror_mode": {
    "name": "ipython",
    "version": 3
   },
   "file_extension": ".py",
   "mimetype": "text/x-python",
   "name": "python",
   "nbconvert_exporter": "python",
   "pygments_lexer": "ipython3",
   "version": "3.12.0"
  }
 },
 "nbformat": 4,
 "nbformat_minor": 2
}
