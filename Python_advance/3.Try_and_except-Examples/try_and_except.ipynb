{
 "cells": [
  {
   "cell_type": "markdown",
   "metadata": {},
   "source": [
    "在 Python 中如果程式遇到錯誤會立即中止"
   ]
  },
  {
   "cell_type": "code",
   "execution_count": null,
   "metadata": {},
   "outputs": [],
   "source": [
    "print(1 / 0)\n",
    "\n",
    "# 噢喔，好像出了點問題"
   ]
  },
  {
   "cell_type": "markdown",
   "metadata": {},
   "source": [
    "如果我還是想這樣寫，那就用 `try` 和 `except`"
   ]
  },
  {
   "cell_type": "code",
   "execution_count": null,
   "metadata": {},
   "outputs": [],
   "source": [
    "try:\n",
    "    print(1 / 0)\n",
    "except ZeroDivisionError:\n",
    "    print(\"不能除以零！\")"
   ]
  },
  {
   "cell_type": "code",
   "execution_count": null,
   "metadata": {},
   "outputs": [],
   "source": [
    "try:\n",
    "    print(1 / 0)\n",
    "except ZeroDivisionError:\n",
    "    print(\"不能除以零！\")\n",
    "finally:\n",
    "    print(\"好耶，沒有報錯了！\") # 這個一定會執行"
   ]
  },
  {
   "cell_type": "markdown",
   "metadata": {},
   "source": [
    "Python 中還有什麼常見的錯誤"
   ]
  },
  {
   "cell_type": "code",
   "execution_count": null,
   "metadata": {},
   "outputs": [],
   "source": [
    "try:\n",
    "    print(num)\n",
    "except NameError:\n",
    "    print(\"變數沒有定義！\")\n",
    "\n",
    "try:\n",
    "    list = [1, 2, 3]\n",
    "    print(list[3])\n",
    "except IndexError:\n",
    "    print(\"索引超出範圍！\")\n",
    "\n",
    "try:\n",
    "    num = int(\"abc\")\n",
    "except ValueError:\n",
    "    print(\"轉換失敗！\")\n",
    "\n",
    "try:\n",
    "    print(1 + \"1\")\n",
    "except TypeError:\n",
    "    print(\"型別錯誤！\")\n",
    "\n",
    "try:\n",
    "    print(1 / 0)\n",
    "except ZeroDivisionError:\n",
    "    print(\"不能除以零！\")\n"
   ]
  },
  {
   "cell_type": "markdown",
   "metadata": {},
   "source": [
    "自定義錯誤"
   ]
  },
  {
   "cell_type": "code",
   "execution_count": null,
   "metadata": {},
   "outputs": [],
   "source": [
    "tall = float(input(\"請輸入你的身高:\"))\n",
    "if tall < 0:\n",
    "    raise ValueError(\"好像哪裡怪怪的!\")\n",
    "if tall > 250:\n",
    "    raise ValueError(\"難道你是巨人?!\")\n"
   ]
  }
 ],
 "metadata": {
  "kernelspec": {
   "display_name": "Python 3",
   "language": "python",
   "name": "python3"
  },
  "language_info": {
   "codemirror_mode": {
    "name": "ipython",
    "version": 3
   },
   "file_extension": ".py",
   "mimetype": "text/x-python",
   "name": "python",
   "nbconvert_exporter": "python",
   "pygments_lexer": "ipython3",
   "version": "3.12.0"
  }
 },
 "nbformat": 4,
 "nbformat_minor": 2
}
