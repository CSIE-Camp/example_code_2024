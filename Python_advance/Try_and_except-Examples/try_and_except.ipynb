{
 "cells": [
  {
   "cell_type": "markdown",
   "metadata": {},
   "source": [
    "使用 `try` & `excetp` 來處理例外，這樣程式就不會因為錯誤而中斷。"
   ]
  },
  {
   "cell_type": "code",
   "execution_count": null,
   "metadata": {},
   "outputs": [],
   "source": [
    "try:\n",
    "    inp = input(\"Enter a number: \")\n",
    "    if(inp==\"1\"):\n",
    "        print(a) # 尚未宣告 a\n",
    "    elif(inp==\"2\"):\n",
    "        lis = [1, 2, 3]\n",
    "        print(lis[3]) # 超出範圍\n",
    "    elif(inp==\"3\"):\n",
    "        int(\"a\") # a 不是數字\n",
    "    elif(inp==\"4\"):\n",
    "        print(1 + \"1\") # 不能把 int 和 str 相加\n",
    "    elif(inp==\"5\"):\n",
    "        print(1 / 0) # 不能除以 0\n",
    "\n",
    "# FIXME 猜猜看下面的程式抓得到什麼錯誤\n",
    "    # elif(inp==\"6\"):\n",
    "    #     print(\"test)\n",
    "\n",
    "except NameError:\n",
    "    print(\"NameError\")\n",
    "except IndexError:\n",
    "    print(\"IndexError\")\n",
    "except ImportError:\n",
    "    print(\"ImportError\")\n",
    "except TypeError:\n",
    "    print(\"TypeError\")\n",
    "except ZeroDivisionError:\n",
    "    print(\"ZeroDivisionError\")\n",
    "except SyntaxError:\n",
    "    print(\"SyntaxError\")\n",
    "except Exception:\n",
    "    print(\"Other Error\")"
   ]
  }
 ],
 "metadata": {
  "language_info": {
   "name": "python"
  }
 },
 "nbformat": 4,
 "nbformat_minor": 2
}
