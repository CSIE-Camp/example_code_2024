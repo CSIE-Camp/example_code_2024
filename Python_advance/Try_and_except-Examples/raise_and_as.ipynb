{
 "cells": [
  {
   "cell_type": "markdown",
   "metadata": {},
   "source": [
    "使用 `raise` 可以產生 error，並選擇 error type，並且可以自訂錯誤訊息。"
   ]
  },
  {
   "cell_type": "code",
   "execution_count": null,
   "metadata": {},
   "outputs": [],
   "source": [
    "def test(inp):\n",
    "    if inp == 0:\n",
    "        raise NameError(\"QQ\")\n",
    "    elif inp == 1:\n",
    "        raise ValueError(\"TAT\")\n",
    "    elif inp == 2:\n",
    "        raise TypeError(\"XD\")\n",
    "    elif inp == 48763:\n",
    "        raise Exception(\"Too Fast!\")\n",
    "    else:\n",
    "        raise Exception(\"other\")"
   ]
  },
  {
   "cell_type": "markdown",
   "metadata": {},
   "source": [
    "實際嘗試並使用 exception 來處理錯誤"
   ]
  },
  {
   "cell_type": "code",
   "execution_count": null,
   "metadata": {},
   "outputs": [],
   "source": [
    "try:\n",
    "    inp = int(input(\"Enter a number: \"))\n",
    "    test(inp)\n",
    "except NameError as e:\n",
    "    print(\"NameError:\", e)\n",
    "except ValueError as e:\n",
    "    print(\"ValueError:\", e)\n",
    "except TypeError as e:\n",
    "    print(\"TypeError:\", e)\n",
    "except Exception as e:\n",
    "    print(\"Other Error:\", e)\n",
    "else:\n",
    "    print(\"No error\")"
   ]
  }
 ],
 "metadata": {
  "language_info": {
   "name": "python"
  }
 },
 "nbformat": 4,
 "nbformat_minor": 2
}
