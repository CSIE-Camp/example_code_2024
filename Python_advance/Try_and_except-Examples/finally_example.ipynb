{
 "cells": [
  {
   "cell_type": "markdown",
   "metadata": {},
   "source": [
    "使用 finally 可以在 try 跟 except 之後執行一些程式碼，不管有沒有發生例外。"
   ]
  },
  {
   "cell_type": "code",
   "execution_count": null,
   "metadata": {},
   "outputs": [],
   "source": [
    "try:\n",
    "    a = input()\n",
    "    a = int(a)\n",
    "except ValueError: # 如果有 ValueError\n",
    "    print(\"Value error\")\n",
    "else: # 如果沒有錯誤\n",
    "    print(\"No error\")\n",
    "finally: # 不管有沒有錯誤都會執行\n",
    "    print(\"Finally\")"
   ]
  }
 ],
 "metadata": {
  "language_info": {
   "name": "python"
  }
 },
 "nbformat": 4,
 "nbformat_minor": 2
}
