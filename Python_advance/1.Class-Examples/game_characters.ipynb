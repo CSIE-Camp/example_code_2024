{
 "cells": [
  {
   "cell_type": "markdown",
   "metadata": {},
   "source": [
    "## 練習時間 - 遊戲角色\n",
    "請參考以下內容寫出一個 Class\n",
    "其中有變數\n",
    "- 名字\n",
    "- 位置\n",
    "- 速度\n",
    "\n",
    "函式\n",
    "- 移動(方向, 經過時間)\n",
    "- 顯示角色位置()"
   ]
  },
  {
   "cell_type": "code",
   "execution_count": null,
   "metadata": {},
   "outputs": [],
   "source": [
    "class test:\n",
    "    def __init__():# TODO 請更改\n",
    "        self.name\n",
    "        self.x\n",
    "        self.y\n",
    "        self.speed\n",
    "    def move(direction,time):\n",
    "        # direction = \"up\" or \"down\" or \"left\" or \"right\"\n",
    "        # 移動距離 = time * speed\n",
    "    def show_position():\n",
    "        print(\"name:\",self.name)\n",
    "        print(\"x:\",self.x)\n",
    "        print(\"y:\",self.y)"
   ]
  },
  {
   "cell_type": "code",
   "execution_count": null,
   "metadata": {},
   "outputs": [],
   "source": []
  }
 ],
 "metadata": {
  "language_info": {
   "name": "python"
  }
 },
 "nbformat": 4,
 "nbformat_minor": 2
}
