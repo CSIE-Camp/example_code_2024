{
 "cells": [
  {
   "cell_type": "markdown",
   "metadata": {},
   "source": [
    "### 創建 class"
   ]
  },
  {
   "cell_type": "markdown",
   "metadata": {},
   "source": [
    "寫一個 `class` 有兩個變數傳入，並且有一個初始化的功能可以在初始化時把兩個函數設定好，然後再定義一個函數，會把輸入的資訊用 `show_all` 的方式印出來。\n",
    "\n",
    "然後要注意，使用內部在 `__init__` 中的變數時，要用 `self` 來呼叫。"
   ]
  },
  {
   "cell_type": "code",
   "execution_count": 5,
   "metadata": {},
   "outputs": [],
   "source": [
    "class Book:\n",
    "    def __init__(self, lan, ti):  # 把兩個值輸進來\n",
    "        self.language = lan  # 把第一個值設定給 language\n",
    "        self.title = ti  # 把第二個值設定給 title\n",
    "        self.ti_lan = ti + f\" ({lan})\"  # 把 title 和 language 組合起來\n",
    "    def show_all(self): \n",
    "        print(f\"test_3 {self.language} - {self.title} - {self.ti_lan}\")  # 顯示所有值的"
   ]
  },
  {
   "cell_type": "markdown",
   "metadata": {},
   "source": [
    "### 使用 class"
   ]
  },
  {
   "cell_type": "markdown",
   "metadata": {},
   "source": [
    "把 `A` 設定為 `Book` 這個 class，然候傳入兩個變數，並且呼叫 `show_all` 這個函數。"
   ]
  },
  {
   "cell_type": "code",
   "execution_count": 6,
   "metadata": {},
   "outputs": [
    {
     "name": "stdout",
     "output_type": "stream",
     "text": [
      "test_3 English - How to learn Python - How to learn Python (English)\n"
     ]
    }
   ],
   "source": [
    "A = Book(\"English\", \"How to learn Python\")  # 把 English 和 How to learn Python 丟進去\n",
    "A.show_all()"
   ]
  },
  {
   "cell_type": "markdown",
   "metadata": {},
   "source": [
    "### 猜猜看\n",
    "猜猜看下面的程式碼會印出什麼，A 到底會不會被 B 蓋掉"
   ]
  },
  {
   "cell_type": "code",
   "execution_count": null,
   "metadata": {},
   "outputs": [],
   "source": [
    "B = Book(\"Chinese\", \"Python Programming\") # 把 Chinese 和 Python Programming 丟進去\n",
    "print(\"B:\")\n",
    "print(\"  print(B):\\n    \", end=\"\")\n",
    "print(B) # 顯示 B\n",
    "print(\"  print(A):\\n    \", end=\"\")\n",
    "print(A) # 顯示 A"
   ]
  }
 ],
 "metadata": {
  "kernelspec": {
   "display_name": "Python 3",
   "language": "python",
   "name": "python3"
  },
  "language_info": {
   "codemirror_mode": {
    "name": "ipython",
    "version": 3
   },
   "file_extension": ".py",
   "mimetype": "text/x-python",
   "name": "python",
   "nbconvert_exporter": "python",
   "pygments_lexer": "ipython3",
   "version": "3.10.12"
  }
 },
 "nbformat": 4,
 "nbformat_minor": 2
}
