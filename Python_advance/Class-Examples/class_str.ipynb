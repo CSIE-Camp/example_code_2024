{
 "cells": [
  {
   "cell_type": "markdown",
   "metadata": {},
   "source": [
    "## 回傳字串\n",
    "使用 `__str__` 可以設定當呼叫 class 時的回傳字串"
   ]
  },
  {
   "cell_type": "code",
   "execution_count": null,
   "metadata": {},
   "outputs": [],
   "source": [
    "class history():\n",
    "    def __init__(self, time, place):\n",
    "        self.time = time\n",
    "        self.place = place\n",
    "    def __str__(self):\n",
    "        return f\"Time: {self.time}, Place: {self.place}\" # 回傳字串\n",
    "    \n",
    "h = history(\"1900\", \"Taiwan\")\n",
    "print(h)"
   ]
  },
  {
   "cell_type": "markdown",
   "metadata": {},
   "source": [
    "### 練習時間\n",
    "猜猜看下面這個會印出什麼"
   ]
  },
  {
   "cell_type": "code",
   "execution_count": null,
   "metadata": {},
   "outputs": [],
   "source": [
    "class quiz():\n",
    "    def __str__(self):\n",
    "        return 500\n",
    "print(q)"
   ]
  }
 ],
 "metadata": {
  "language_info": {
   "name": "python"
  }
 },
 "nbformat": 4,
 "nbformat_minor": 2
}
