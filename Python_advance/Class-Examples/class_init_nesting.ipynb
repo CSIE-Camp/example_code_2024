{
 "cells": [
  {
   "cell_type": "markdown",
   "metadata": {},
   "source": [
    "### 巢狀 class\n",
    "class 也可以寫在 class 裡面"
   ]
  },
  {
   "cell_type": "code",
   "execution_count": null,
   "metadata": {},
   "outputs": [],
   "source": [
    "class nest:\n",
    "    def __init__(self, input_1, input_2):\n",
    "        self.inp_1 = input_1\n",
    "        self.inp_2 = input_2\n",
    "        self.inp_3 = input_1 + input_2\n",
    "    class t1: # class 裡面也可以有 class\n",
    "        def __init__(self, x, y): # 裡面也可以有自己的 __init__\n",
    "            self.a = x\n",
    "            self.b = y\n",
    "            self.c = x + y\n",
    "        def show(self): \n",
    "            print(\"123\")\n",
    "            print(self.a)\n",
    "    class t2: # class 裡面也可以有多個 class\n",
    "        def __init__(self):\n",
    "            self.z = 1"
   ]
  },
  {
   "cell_type": "markdown",
   "metadata": {},
   "source": [
    "使用時，使用 `.` 可以把裡面的 class 取出來使用"
   ]
  },
  {
   "cell_type": "code",
   "execution_count": null,
   "metadata": {},
   "outputs": [],
   "source": [
    "N = nest(1, 2)\n",
    "print(\"N:\")\n",
    "print(\"  print(N.inp_1):\\n    \", end=\"\")\n",
    "print(N.inp_1) # 顯示 N 的 inp_1\n",
    "print(\"  print(N.t1(1,2).c):\\n    \", end=\"\")\n",
    "print(N.t1(1,2).c) # 顯示 N 的 t1 的 c\n",
    "print(\"  N.t1(1,2).show():\")\n",
    "N.t1(1,2).show() # 執行 N 的 t1 的 show()\n",
    "print(\"  print(N.t2().z):\\n    \", end=\"\")\n",
    "print(N.t2().z) # 顯示 N 的 t2 的 z"
   ]
  }
 ],
 "metadata": {
  "language_info": {
   "name": "python"
  }
 },
 "nbformat": 4,
 "nbformat_minor": 2
}
